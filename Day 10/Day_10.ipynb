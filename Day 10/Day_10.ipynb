{
  "nbformat": 4,
  "nbformat_minor": 0,
  "metadata": {
    "colab": {
      "name": "Day 10.ipynb",
      "provenance": []
    },
    "kernelspec": {
      "name": "python3",
      "display_name": "Python 3"
    }
  },
  "cells": [
    {
      "cell_type": "code",
      "metadata": {
        "id": "8U1hLhkB_flA",
        "colab_type": "code",
        "colab": {}
      },
      "source": [
        "import pandas as pd\n",
        "import numpy as np"
      ],
      "execution_count": 58,
      "outputs": []
    },
    {
      "cell_type": "code",
      "metadata": {
        "id": "ZSObhVuK_ry1",
        "colab_type": "code",
        "colab": {
          "base_uri": "https://localhost:8080/",
          "height": 459
        },
        "outputId": "2c93379c-fa91-42ba-8056-816fc028122a"
      },
      "source": [
        "d=pd.read_csv(\"general_data.csv\")\n",
        "d[\"Attrition\"] = pd.Categorical(d[\"Attrition\"]).codes\n",
        "print(d[\"Attrition\"])\n",
        "print(d)\n"
      ],
      "execution_count": 59,
      "outputs": [
        {
          "output_type": "stream",
          "text": [
            "0       0\n",
            "1       1\n",
            "2       0\n",
            "3       0\n",
            "4       0\n",
            "       ..\n",
            "4405    0\n",
            "4406    0\n",
            "4407    0\n",
            "4408    0\n",
            "4409    0\n",
            "Name: Attrition, Length: 4410, dtype: int8\n",
            "      Age  Attrition  ... YearsSinceLastPromotion YearsWithCurrManager\n",
            "0      51          0  ...                       0                    0\n",
            "1      31          1  ...                       1                    4\n",
            "2      32          0  ...                       0                    3\n",
            "3      38          0  ...                       7                    5\n",
            "4      32          0  ...                       0                    4\n",
            "...   ...        ...  ...                     ...                  ...\n",
            "4405   42          0  ...                       0                    2\n",
            "4406   29          0  ...                       0                    2\n",
            "4407   25          0  ...                       1                    2\n",
            "4408   42          0  ...                       7                    8\n",
            "4409   40          0  ...                       3                    9\n",
            "\n",
            "[4410 rows x 24 columns]\n"
          ],
          "name": "stdout"
        }
      ]
    },
    {
      "cell_type": "code",
      "metadata": {
        "id": "DslrRciTAi7Q",
        "colab_type": "code",
        "colab": {
          "base_uri": "https://localhost:8080/",
          "height": 34
        },
        "outputId": "721a94c3-5f5d-4955-a6e8-b81be8e7de75"
      },
      "source": [
        "from scipy.stats import pearsonr\n",
        "stats,p=pearsonr(d.Attrition,d.Age)\n",
        "print(stats,p)"
      ],
      "execution_count": 60,
      "outputs": [
        {
          "output_type": "stream",
          "text": [
            "-0.15920500686577949 1.996801615887198e-26\n"
          ],
          "name": "stdout"
        }
      ]
    },
    {
      "cell_type": "code",
      "metadata": {
        "id": "R-7XLvEtCMS2",
        "colab_type": "code",
        "colab": {
          "base_uri": "https://localhost:8080/",
          "height": 34
        },
        "outputId": "1f38ae87-5ced-4741-eb94-7936208ea281"
      },
      "source": [
        "from scipy.stats import pearsonr\n",
        "stats,p=pearsonr(d.Attrition,d.DistanceFromHome)\n",
        "print(stats,p)"
      ],
      "execution_count": 61,
      "outputs": [
        {
          "output_type": "stream",
          "text": [
            "-0.009730141010179692 0.5182860428050771\n"
          ],
          "name": "stdout"
        }
      ]
    },
    {
      "cell_type": "code",
      "metadata": {
        "id": "2FI0sJ1DYT1H",
        "colab_type": "code",
        "colab": {
          "base_uri": "https://localhost:8080/",
          "height": 34
        },
        "outputId": "e2fefa5f-255f-4b55-902c-2953aac2e898"
      },
      "source": [
        "from scipy.stats import pearsonr\n",
        "stats,p=pearsonr(d.Attrition,d.MonthlyIncome)\n",
        "print(stats,p)"
      ],
      "execution_count": 62,
      "outputs": [
        {
          "output_type": "stream",
          "text": [
            "-0.03117628169811501 0.03842748490600132\n"
          ],
          "name": "stdout"
        }
      ]
    },
    {
      "cell_type": "code",
      "metadata": {
        "id": "y4iiPi2bZwWO",
        "colab_type": "code",
        "colab": {
          "base_uri": "https://localhost:8080/",
          "height": 34
        },
        "outputId": "45eccda6-8f83-45d7-87b6-44f683f99363"
      },
      "source": [
        "from scipy.stats import pearsonr\n",
        "stats,p=pearsonr(d.Attrition,d.Education)\n",
        "print(stats,p)"
      ],
      "execution_count": 63,
      "outputs": [
        {
          "output_type": "stream",
          "text": [
            "-0.015111167710968721 0.3157293177118575\n"
          ],
          "name": "stdout"
        }
      ]
    },
    {
      "cell_type": "code",
      "metadata": {
        "id": "B_2I6sPMZ5R5",
        "colab_type": "code",
        "colab": {
          "base_uri": "https://localhost:8080/",
          "height": 34
        },
        "outputId": "f4b5de18-1a16-423b-dbae-6e6265ba8fa3"
      },
      "source": [
        "from scipy.stats import pearsonr\n",
        "stats,p=pearsonr(d.Attrition,d.PercentSalaryHike)\n",
        "print(stats,p)"
      ],
      "execution_count": 64,
      "outputs": [
        {
          "output_type": "stream",
          "text": [
            "0.0325325948910535 0.030743386433355353\n"
          ],
          "name": "stdout"
        }
      ]
    },
    {
      "cell_type": "code",
      "metadata": {
        "id": "F4xMmMwtaGCe",
        "colab_type": "code",
        "colab": {
          "base_uri": "https://localhost:8080/",
          "height": 34
        },
        "outputId": "666cf38e-552a-4f9b-ca58-b8f4808bfc47"
      },
      "source": [
        "from scipy.stats import pearsonr\n",
        "stats,p=pearsonr(d.Attrition,d.TrainingTimesLastYear)\n",
        "print(stats,p)"
      ],
      "execution_count": 65,
      "outputs": [
        {
          "output_type": "stream",
          "text": [
            "-0.049430576244254974 0.0010247061915365072\n"
          ],
          "name": "stdout"
        }
      ]
    },
    {
      "cell_type": "code",
      "metadata": {
        "id": "D93bZkWuaPqU",
        "colab_type": "code",
        "colab": {
          "base_uri": "https://localhost:8080/",
          "height": 34
        },
        "outputId": "789907c9-6e24-4400-ff12-309b9178f223"
      },
      "source": [
        "from scipy.stats import pearsonr\n",
        "stats,p=pearsonr(d.Attrition,d.YearsAtCompany)\n",
        "print(stats,p)"
      ],
      "execution_count": 66,
      "outputs": [
        {
          "output_type": "stream",
          "text": [
            "-0.13439221398997717 3.1638831224877484e-19\n"
          ],
          "name": "stdout"
        }
      ]
    },
    {
      "cell_type": "code",
      "metadata": {
        "id": "pm_g0vBLafaa",
        "colab_type": "code",
        "colab": {
          "base_uri": "https://localhost:8080/",
          "height": 34
        },
        "outputId": "d6515275-ae5e-4b31-833f-da54ef40a7ba"
      },
      "source": [
        "from scipy.stats import pearsonr\n",
        "stats,p=pearsonr(d.Attrition,d.YearsAtCompany)\n",
        "print(stats,p)"
      ],
      "execution_count": 67,
      "outputs": [
        {
          "output_type": "stream",
          "text": [
            "-0.13439221398997717 3.1638831224877484e-19\n"
          ],
          "name": "stdout"
        }
      ]
    },
    {
      "cell_type": "code",
      "metadata": {
        "id": "rNDhUn0Gafi2",
        "colab_type": "code",
        "colab": {
          "base_uri": "https://localhost:8080/",
          "height": 34
        },
        "outputId": "9fe2be65-4a86-4f1a-a08e-fc875087b075"
      },
      "source": [
        "from scipy.stats import pearsonr\n",
        "stats,p=pearsonr(d.Attrition,d.YearsSinceLastPromotion)\n",
        "print(stats,p)"
      ],
      "execution_count": 68,
      "outputs": [
        {
          "output_type": "stream",
          "text": [
            "-0.03301877514258437 0.028330336189396753\n"
          ],
          "name": "stdout"
        }
      ]
    },
    {
      "cell_type": "code",
      "metadata": {
        "id": "K7Ib56glahNf",
        "colab_type": "code",
        "colab": {
          "base_uri": "https://localhost:8080/",
          "height": 34
        },
        "outputId": "a41fc7e3-b52c-4d0d-c585-a919ee081ad0"
      },
      "source": [
        "from scipy.stats import pearsonr\n",
        "stats,p=pearsonr(d.Attrition,d.YearsWithCurrManager)\n",
        "print(stats,p)"
      ],
      "execution_count": 69,
      "outputs": [
        {
          "output_type": "stream",
          "text": [
            "-0.15619931590162806 1.7339322652900218e-25\n"
          ],
          "name": "stdout"
        }
      ]
    }
  ]
}