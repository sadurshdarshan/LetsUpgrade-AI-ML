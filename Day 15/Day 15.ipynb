{
  "nbformat": 4,
  "nbformat_minor": 0,
  "metadata": {
    "kernelspec": {
      "display_name": "Python 3",
      "language": "python",
      "name": "python3"
    },
    "language_info": {
      "codemirror_mode": {
        "name": "ipython",
        "version": 3
      },
      "file_extension": ".py",
      "mimetype": "text/x-python",
      "name": "python",
      "nbconvert_exporter": "python",
      "pygments_lexer": "ipython3",
      "version": "3.7.4"
    },
    "colab": {
      "name": "Numpy Assignment Questions 23 july 2020- Lets Upgrade.ipynb",
      "provenance": []
    }
  },
  "cells": [
    {
      "cell_type": "markdown",
      "metadata": {
        "id": "yqoc-mJyAJOB",
        "colab_type": "text"
      },
      "source": [
        "# 1. Create a 3x3x3 array with random values "
      ]
    },
    {
      "cell_type": "code",
      "metadata": {
        "id": "SvmiKpEPAJOG",
        "colab_type": "code",
        "colab": {
          "base_uri": "https://localhost:8080/",
          "height": 204
        },
        "outputId": "3bd76e0a-c09d-4cd9-e6a1-0434a13bda12"
      },
      "source": [
        "import numpy as np\n",
        "a=np.random.rand(3,3,3)\n",
        "a"
      ],
      "execution_count": 12,
      "outputs": [
        {
          "output_type": "execute_result",
          "data": {
            "text/plain": [
              "array([[[0.09382408, 0.12254333, 0.49678262],\n",
              "        [0.95119062, 0.97029204, 0.19256189],\n",
              "        [0.18154204, 0.72531894, 0.72724634]],\n",
              "\n",
              "       [[0.31284632, 0.58113825, 0.37941119],\n",
              "        [0.96639795, 0.84775685, 0.3067488 ],\n",
              "        [0.86164643, 0.2381181 , 0.2872596 ]],\n",
              "\n",
              "       [[0.83199936, 0.85253127, 0.11916356],\n",
              "        [0.72852594, 0.06078212, 0.76016004],\n",
              "        [0.87034571, 0.57814861, 0.97697456]]])"
            ]
          },
          "metadata": {
            "tags": []
          },
          "execution_count": 12
        }
      ]
    },
    {
      "cell_type": "markdown",
      "metadata": {
        "id": "M5uPkjJ1AJOc",
        "colab_type": "text"
      },
      "source": [
        "# 2.Create a 5x5 matrix with values 1,2,3,4 just below the diagonal"
      ]
    },
    {
      "cell_type": "code",
      "metadata": {
        "id": "kTejfF9lAJOg",
        "colab_type": "code",
        "colab": {
          "base_uri": "https://localhost:8080/",
          "height": 85
        },
        "outputId": "b43f5d62-9913-45b6-fe61-c2ff0a329586"
      },
      "source": [
        "b=np.diag([1,2,3,4])\n",
        "b"
      ],
      "execution_count": 15,
      "outputs": [
        {
          "output_type": "execute_result",
          "data": {
            "text/plain": [
              "array([[1, 0, 0, 0],\n",
              "       [0, 2, 0, 0],\n",
              "       [0, 0, 3, 0],\n",
              "       [0, 0, 0, 4]])"
            ]
          },
          "metadata": {
            "tags": []
          },
          "execution_count": 15
        }
      ]
    },
    {
      "cell_type": "markdown",
      "metadata": {
        "id": "vQVDibBUAJOy",
        "colab_type": "text"
      },
      "source": [
        "# 3.Create a 8x8 matrix and fill it with a checkerboard pattern"
      ]
    },
    {
      "cell_type": "code",
      "metadata": {
        "id": "npGUK9NfAJO2",
        "colab_type": "code",
        "colab": {
          "base_uri": "https://localhost:8080/",
          "height": 170
        },
        "outputId": "e35b8092-6bcb-4cc5-d9e8-8bf0e64059b1"
      },
      "source": [
        "x = np.ones((3,3))\n",
        "print(\"Checkerboard pattern:\")\n",
        "x = np.zeros((8,8),dtype=int)\n",
        "x[1::2,::2] = 1\n",
        "x[::2,1::2] = 1\n",
        "print(x)"
      ],
      "execution_count": 42,
      "outputs": [
        {
          "output_type": "stream",
          "text": [
            "Checkerboard pattern:\n",
            "[[0 1 0 1 0 1 0 1]\n",
            " [1 0 1 0 1 0 1 0]\n",
            " [0 1 0 1 0 1 0 1]\n",
            " [1 0 1 0 1 0 1 0]\n",
            " [0 1 0 1 0 1 0 1]\n",
            " [1 0 1 0 1 0 1 0]\n",
            " [0 1 0 1 0 1 0 1]\n",
            " [1 0 1 0 1 0 1 0]]\n"
          ],
          "name": "stdout"
        }
      ]
    },
    {
      "cell_type": "markdown",
      "metadata": {
        "id": "Q2EZJtb3AJPI",
        "colab_type": "text"
      },
      "source": [
        "# 4. Normalize a 5x5 random matrix"
      ]
    },
    {
      "cell_type": "code",
      "metadata": {
        "id": "H2SnUeP9AJPL",
        "colab_type": "code",
        "colab": {
          "base_uri": "https://localhost:8080/",
          "height": 153
        },
        "outputId": "a356c58a-be3f-4837-ec29-3ad2fb2268ca"
      },
      "source": [
        "x= np.random.random((3,3))\n",
        "print(\"Original Array:\")\n",
        "print(x)\n",
        "xmax, xmin = x.max(), x.min()\n",
        "x = (x - xmin)/(xmax - xmin)\n",
        "print(\"After normalization:\")\n",
        "print(x)"
      ],
      "execution_count": 44,
      "outputs": [
        {
          "output_type": "stream",
          "text": [
            "Original Array:\n",
            "[[0.43713865 0.47503947 0.80626543]\n",
            " [0.08081618 0.11524137 0.00113701]\n",
            " [0.77764153 0.53954629 0.37845667]]\n",
            "After normalization:\n",
            "[[0.54153056 0.58860481 1.        ]\n",
            " [0.09896456 0.14172194 0.        ]\n",
            " [0.96444803 0.66872473 0.46864531]]\n"
          ],
          "name": "stdout"
        }
      ]
    },
    {
      "cell_type": "markdown",
      "metadata": {
        "id": "yfD4DYO0AJPd",
        "colab_type": "text"
      },
      "source": [
        "\n",
        "5.  How to find common values between two arrays?"
      ]
    },
    {
      "cell_type": "code",
      "metadata": {
        "id": "HkMLcnOxAJPg",
        "colab_type": "code",
        "colab": {
          "base_uri": "https://localhost:8080/",
          "height": 85
        },
        "outputId": "2cb986d2-aa5d-4ff2-b551-fac15f8e297b"
      },
      "source": [
        "array1 = np.array([0, 10, 20, 40, 60])\n",
        "print(array1)\n",
        "array2 = [10, 30, 40]\n",
        "print(array2)\n",
        "print(\"Common values between two arrays:\")\n",
        "print(np.intersect1d(array1, array2))"
      ],
      "execution_count": 46,
      "outputs": [
        {
          "output_type": "stream",
          "text": [
            "[ 0 10 20 40 60]\n",
            "[10, 30, 40]\n",
            "Common values between two arrays:\n",
            "[10 40]\n"
          ],
          "name": "stdout"
        }
      ]
    },
    {
      "cell_type": "markdown",
      "metadata": {
        "id": "OGHcVcllAJPw",
        "colab_type": "text"
      },
      "source": [
        "# 6.How to get the dates of yesterday, today and tomorrow?"
      ]
    },
    {
      "cell_type": "code",
      "metadata": {
        "id": "FVXmDgRxAJPz",
        "colab_type": "code",
        "colab": {
          "base_uri": "https://localhost:8080/",
          "height": 68
        },
        "outputId": "bc60e75b-7250-4aac-9f2a-3fe9649cc1bd"
      },
      "source": [
        "yesterday = np.datetime64('today', 'D') - np.timedelta64(1, 'D')\n",
        "print(\"yesterday\",yesterday)\n",
        "today     = np.datetime64('today', 'D')\n",
        "print(\"Today: \",today)\n",
        "tomorrow  = np.datetime64('today', 'D') + np.timedelta64(1, 'D')\n",
        "print(\"Tomorrow: \",tomorrow)"
      ],
      "execution_count": 48,
      "outputs": [
        {
          "output_type": "stream",
          "text": [
            "yesterday 2020-07-24\n",
            "Today:  2020-07-25\n",
            "Tomorrow:  2020-07-26\n"
          ],
          "name": "stdout"
        }
      ]
    },
    {
      "cell_type": "markdown",
      "metadata": {
        "id": "LEvIcjfmAJQE",
        "colab_type": "text"
      },
      "source": [
        "# 7. Consider two random array A and B, check if they are equal"
      ]
    },
    {
      "cell_type": "code",
      "metadata": {
        "id": "Yv1txWVEAJQH",
        "colab_type": "code",
        "colab": {
          "base_uri": "https://localhost:8080/",
          "height": 34
        },
        "outputId": "2c60274b-a889-4499-c407-b7576722c4b1"
      },
      "source": [
        "a=np.array([1,2,3,4])\n",
        "b=np.array([1,2,3,4])\n",
        "np.equal(a,b)"
      ],
      "execution_count": 51,
      "outputs": [
        {
          "output_type": "execute_result",
          "data": {
            "text/plain": [
              "array([ True,  True,  True,  True])"
            ]
          },
          "metadata": {
            "tags": []
          },
          "execution_count": 51
        }
      ]
    },
    {
      "cell_type": "markdown",
      "metadata": {
        "id": "rgAMOKhrAJQW",
        "colab_type": "text"
      },
      "source": [
        "# 8.Create random vector of size 10 and replace the maximum value by 0 "
      ]
    },
    {
      "cell_type": "code",
      "metadata": {
        "id": "6AYYMvlHN8ub",
        "colab_type": "code",
        "colab": {
          "base_uri": "https://localhost:8080/",
          "height": 68
        },
        "outputId": "b0b48dc4-ea80-42ad-a9f4-519097a5b00f"
      },
      "source": [
        "x=np.random.rand(10)\n",
        "a=x.max()\n",
        "a=0\n",
        "print(x)\n",
        "print(a)"
      ],
      "execution_count": 60,
      "outputs": [
        {
          "output_type": "stream",
          "text": [
            "[0.1278013  0.98788004 0.52980495 0.13466399 0.017778   0.10613733\n",
            " 0.09170721 0.67459364 0.11431566 0.34629603]\n",
            "0\n"
          ],
          "name": "stdout"
        }
      ]
    },
    {
      "cell_type": "markdown",
      "metadata": {
        "id": "ORj69ctdAJQm",
        "colab_type": "text"
      },
      "source": [
        "# 9. How to print all the values of an array?"
      ]
    },
    {
      "cell_type": "code",
      "metadata": {
        "id": "-XfrlMK7AJQp",
        "colab_type": "code",
        "colab": {
          "base_uri": "https://localhost:8080/",
          "height": 136
        },
        "outputId": "4b2fa0a6-4a31-4554-87d1-16e6219fefbb"
      },
      "source": [
        "import numpy \n",
        "a=numpy.arange(10000).reshape(250,40)\n",
        "print(a)"
      ],
      "execution_count": 67,
      "outputs": [
        {
          "output_type": "stream",
          "text": [
            "[[   0    1    2 ...   37   38   39]\n",
            " [  40   41   42 ...   77   78   79]\n",
            " [  80   81   82 ...  117  118  119]\n",
            " ...\n",
            " [9880 9881 9882 ... 9917 9918 9919]\n",
            " [9920 9921 9922 ... 9957 9958 9959]\n",
            " [9960 9961 9962 ... 9997 9998 9999]]\n"
          ],
          "name": "stdout"
        }
      ]
    },
    {
      "cell_type": "markdown",
      "metadata": {
        "id": "buCkcrqeAJQ3",
        "colab_type": "text"
      },
      "source": [
        "# 10.Subtract the mean of each row of a matrix"
      ]
    },
    {
      "cell_type": "code",
      "metadata": {
        "id": "m5hbObjNAJQ6",
        "colab_type": "code",
        "colab": {
          "base_uri": "https://localhost:8080/",
          "height": 102
        },
        "outputId": "d161d715-2212-47fc-fe8b-aa3f46af5ca1"
      },
      "source": [
        "a=np.random.rand(2,2)\n",
        "print(a)\n",
        "b=np.mean(a[1,1])\n",
        "print(b)\n",
        "c=np.mean(a[1,0])\n",
        "print(c)\n",
        "sub=b-c\n",
        "print(sub)"
      ],
      "execution_count": 79,
      "outputs": [
        {
          "output_type": "stream",
          "text": [
            "[[0.55602811 0.03459418]\n",
            " [0.23316678 0.27127161]]\n",
            "0.2712716059948689\n",
            "0.23316678043548256\n",
            "0.038104825559386324\n"
          ],
          "name": "stdout"
        }
      ]
    },
    {
      "cell_type": "markdown",
      "metadata": {
        "id": "j4GZFNudAJRL",
        "colab_type": "text"
      },
      "source": [
        "# 11.Consider a given vector, how to add 1 to each element indexed by a second vector (be careful with repeated indices)? "
      ]
    },
    {
      "cell_type": "code",
      "metadata": {
        "id": "gjKlrIPzAJRN",
        "colab_type": "code",
        "colab": {
          "base_uri": "https://localhost:8080/",
          "height": 34
        },
        "outputId": "7b40911f-a62a-4c8c-9ffc-b88c11fc27d3"
      },
      "source": [
        "a=np.array([1,2,3,4])\n",
        "b=1+a\n",
        "b"
      ],
      "execution_count": 83,
      "outputs": [
        {
          "output_type": "execute_result",
          "data": {
            "text/plain": [
              "array([2, 3, 4, 5])"
            ]
          },
          "metadata": {
            "tags": []
          },
          "execution_count": 83
        }
      ]
    },
    {
      "cell_type": "markdown",
      "metadata": {
        "id": "sK0r79MLAJR0",
        "colab_type": "text"
      },
      "source": [
        "# 12.How to get the diagonal of a dot product?"
      ]
    },
    {
      "cell_type": "code",
      "metadata": {
        "id": "gENbuCD_AJR3",
        "colab_type": "code",
        "colab": {
          "base_uri": "https://localhost:8080/",
          "height": 136
        },
        "outputId": "a70089ab-49c0-4bcf-a12f-f0dff4afc2d4"
      },
      "source": [
        "a=np.random.randint(0,10,(3,3))\n",
        "b=np.random.randint(0,5,(3,3))\n",
        "c=np.diagonal(a.dot(b))\n",
        "print(a)\n",
        "print(b)\n",
        "print(c)"
      ],
      "execution_count": 98,
      "outputs": [
        {
          "output_type": "stream",
          "text": [
            "[[9 5 0]\n",
            " [1 4 6]\n",
            " [7 5 0]]\n",
            "[[2 3 1]\n",
            " [0 0 3]\n",
            " [2 1 1]]\n",
            "[18  9 22]\n"
          ],
          "name": "stdout"
        }
      ]
    },
    {
      "cell_type": "markdown",
      "metadata": {
        "id": "Z5Yum2lQAJSF",
        "colab_type": "text"
      },
      "source": [
        "# 13.How to find the most frequent value in an array?"
      ]
    },
    {
      "cell_type": "code",
      "metadata": {
        "id": "C6Mdg0TPAJSH",
        "colab_type": "code",
        "colab": {
          "base_uri": "https://localhost:8080/",
          "height": 51
        },
        "outputId": "5828a677-3de2-4e8f-ab8b-fcc21539073b"
      },
      "source": [
        "import statistics \n",
        "from statistics import mode \n",
        "list = [2, 1, 2, 2, 1, 3] \n",
        "print(list)\n",
        "def most_common(list): \n",
        "    return(mode(list))\n",
        "most_common(list)\n"
      ],
      "execution_count": 104,
      "outputs": [
        {
          "output_type": "stream",
          "text": [
            "[2, 1, 2, 2, 1, 3]\n"
          ],
          "name": "stdout"
        },
        {
          "output_type": "execute_result",
          "data": {
            "text/plain": [
              "2"
            ]
          },
          "metadata": {
            "tags": []
          },
          "execution_count": 104
        }
      ]
    },
    {
      "cell_type": "markdown",
      "metadata": {
        "id": "ptV2W9DbAJSU",
        "colab_type": "text"
      },
      "source": [
        "# 14.How to get the n largest values of an array"
      ]
    },
    {
      "cell_type": "code",
      "metadata": {
        "id": "7OdSdH9kAJSW",
        "colab_type": "code",
        "colab": {
          "base_uri": "https://localhost:8080/",
          "height": 68
        },
        "outputId": "9d6145af-70e5-4b9d-fc66-98f214cfd50a"
      },
      "source": [
        "x = np.arange(10)\n",
        "print(\"Original array:\")\n",
        "print(x)\n",
        "np.random.shuffle(x)\n",
        "n = 1\n",
        "print (x[np.argsort(x)[-n:]])"
      ],
      "execution_count": 105,
      "outputs": [
        {
          "output_type": "stream",
          "text": [
            "Original array:\n",
            "[0 1 2 3 4 5 6 7 8 9]\n",
            "[9]\n"
          ],
          "name": "stdout"
        }
      ]
    },
    {
      "cell_type": "markdown",
      "metadata": {
        "id": "qP98SZYfAJSn",
        "colab_type": "text"
      },
      "source": [
        "# 15.How to create a record array from a regular array?"
      ]
    },
    {
      "cell_type": "code",
      "metadata": {
        "id": "3E0x-YwfAJSq",
        "colab_type": "code",
        "colab": {
          "base_uri": "https://localhost:8080/",
          "height": 68
        },
        "outputId": "a909d633-7035-40ef-9922-e746b6637c1a"
      },
      "source": [
        "a1=np.array([1,2,3,4])\n",
        "a2=np.array(['Red','Green','White','Orange'])\n",
        "a3=np.array([12.20,15,20,40])\n",
        "result= np.core.records.fromarrays([a1, a2, a3],names='a,b,c')\n",
        "print(result[0])\n",
        "print(result[1])\n",
        "print(result[2])"
      ],
      "execution_count": 106,
      "outputs": [
        {
          "output_type": "stream",
          "text": [
            "(1, 'Red', 12.2)\n",
            "(2, 'Green', 15.)\n",
            "(3, 'White', 20.)\n"
          ],
          "name": "stdout"
        }
      ]
    },
    {
      "cell_type": "code",
      "metadata": {
        "id": "NdqzCSisAJS2",
        "colab_type": "code",
        "colab": {}
      },
      "source": [
        ""
      ],
      "execution_count": null,
      "outputs": []
    }
  ]
}