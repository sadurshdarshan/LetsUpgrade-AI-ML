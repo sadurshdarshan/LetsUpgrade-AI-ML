{
  "nbformat": 4,
  "nbformat_minor": 0,
  "metadata": {
    "colab": {
      "name": "Day5.ipynb",
      "provenance": []
    },
    "kernelspec": {
      "name": "python3",
      "display_name": "Python 3"
    }
  },
  "cells": [
    {
      "cell_type": "code",
      "metadata": {
        "id": "IlPJsQ6l0FOr",
        "colab_type": "code",
        "colab": {
          "base_uri": "https://localhost:8080/",
          "height": 374
        },
        "outputId": "05a43b3e-15d1-4f0d-c0da-ce42d75eeac7"
      },
      "source": [
        "#Write a Python program to find the first 20 non-even prime natural numbers.\n",
        "\n",
        "start = 3\n",
        "end = 75\n",
        "\n",
        "print(\"Prime numbers between\", start, \"and\", end, \"are:\")\n",
        "\n",
        "for num in range(start, end ):\n",
        "   if num > 1:\n",
        "       for i in range(2, num):\n",
        "           if (num % i) == 0:\n",
        "               break\n",
        "       else:\n",
        "           print(num)"
      ],
      "execution_count": 28,
      "outputs": [
        {
          "output_type": "stream",
          "text": [
            "Prime numbers between 3 and 75 are:\n",
            "3\n",
            "5\n",
            "7\n",
            "11\n",
            "13\n",
            "17\n",
            "19\n",
            "23\n",
            "29\n",
            "31\n",
            "37\n",
            "41\n",
            "43\n",
            "47\n",
            "53\n",
            "59\n",
            "61\n",
            "67\n",
            "71\n",
            "73\n"
          ],
          "name": "stdout"
        }
      ]
    },
    {
      "cell_type": "code",
      "metadata": {
        "id": "vSN-1mK104XF",
        "colab_type": "code",
        "colab": {
          "base_uri": "https://localhost:8080/",
          "height": 272
        },
        "outputId": "37ab64f1-dfe3-449e-f373-d02029c3a983"
      },
      "source": [
        "# Write a Python program to implement 15 functions of string.\n",
        "\n",
        "char=\"heLloWorld\"\n",
        "a=char.capitalize()\n",
        "print(a)\n",
        "\n",
        "b=char.casefold()\n",
        "print(b)\n",
        "\n",
        "c=char.isalpha()\n",
        "print(c)\n",
        "\n",
        "d=char.islower()\n",
        "print(d)\n",
        "\n",
        "e=char.isalnum()\n",
        "print(e)\n",
        "\n",
        "f=char.isdigit()\n",
        "print(f)\n",
        "\n",
        "g=char.replace(\"World\",\"everyone\")\n",
        "print(g)\n",
        "\n",
        "h=char.upper()\n",
        "print(h)\n",
        "\n",
        "i=char.swapcase()\n",
        "print(i)\n",
        "\n",
        "j=char.partition(\"World\")\n",
        "print(j)\n",
        "\n",
        "k=char.split()\n",
        "print(k)\n",
        "\n",
        "l=char.title()\n",
        "print(l)\n",
        "\n",
        "m=char.isidentifier()\n",
        "print(m)\n",
        "\n",
        "n=char.encode()\n",
        "print(n)\n",
        "\n",
        "o=char.isdecimal()\n",
        "print(o)"
      ],
      "execution_count": 54,
      "outputs": [
        {
          "output_type": "stream",
          "text": [
            "Helloworld\n",
            "helloworld\n",
            "True\n",
            "False\n",
            "True\n",
            "False\n",
            "heLloeveryone\n",
            "HELLOWORLD\n",
            "HElLOwORLD\n",
            "('heLlo', 'World', '')\n",
            "['heLloWorld']\n",
            "Helloworld\n",
            "True\n",
            "b'heLloWorld'\n",
            "False\n"
          ],
          "name": "stdout"
        }
      ]
    },
    {
      "cell_type": "code",
      "metadata": {
        "id": "tG7ZEgkZDZLz",
        "colab_type": "code",
        "colab": {
          "base_uri": "https://localhost:8080/",
          "height": 51
        },
        "outputId": "936ba0ab-d02b-430e-c376-578b8d575684"
      },
      "source": [
        "# Write a Python program to check if the given string is a Palindrome or Anagram or None of them.\n",
        "# Display the message accordingly to the user.\n",
        "\n",
        "s=input(str(\"Enter the string- \"))\n",
        "if s==s[::-1]:\n",
        "  print(\"It is an palindrome\")\n",
        "else:\n",
        "  print(\"not an palindrome\")"
      ],
      "execution_count": 61,
      "outputs": [
        {
          "output_type": "stream",
          "text": [
            "Enter the string- madam\n",
            "It is an palindrome\n"
          ],
          "name": "stdout"
        }
      ]
    },
    {
      "cell_type": "code",
      "metadata": {
        "id": "hRN0rBZ62N-7",
        "colab_type": "code",
        "colab": {
          "base_uri": "https://localhost:8080/",
          "height": 34
        },
        "outputId": "ec54e77d-2385-4802-975c-fc4055414b61"
      },
      "source": [
        "# Write a Python's user defined function that removes all the additional characters from the string\n",
        "# and converts it finally to lower case using built-in lower(). eg: If the string is \"Dr. Darshan Ingle\n",
        "# @AI-ML Trainer\", then the output be \"drdarshaningleaimltrainer\".\n",
        "def mno(name):\n",
        "   a=name.lower().replace(\" \",\"\").replace(\"-\",\"\").replace(\".\",\"\").replace(\"@\",\"\")\n",
        "   print(a)\n",
        "  \n",
        "mno(\"Dr. Darshan Ingle @AI-ML Trainer\")"
      ],
      "execution_count": 85,
      "outputs": [
        {
          "output_type": "stream",
          "text": [
            "drdarshaningleaimltrainer\n"
          ],
          "name": "stdout"
        }
      ]
    }
  ]
}