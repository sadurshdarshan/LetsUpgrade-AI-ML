{
  "nbformat": 4,
  "nbformat_minor": 0,
  "metadata": {
    "kernelspec": {
      "display_name": "Python 3",
      "language": "python",
      "name": "python3"
    },
    "language_info": {
      "codemirror_mode": {
        "name": "ipython",
        "version": 3
      },
      "file_extension": ".py",
      "mimetype": "text/x-python",
      "name": "python",
      "nbconvert_exporter": "python",
      "pygments_lexer": "ipython3",
      "version": "3.7.4"
    },
    "colab": {
      "name": "Day 16 - 17.ipynb",
      "provenance": [],
      "collapsed_sections": []
    }
  },
  "cells": [
    {
      "cell_type": "code",
      "metadata": {
        "id": "mK07S6MkJZWl",
        "colab_type": "code",
        "colab": {}
      },
      "source": [
        "%matplotlib inline\n",
        "import pandas as pd"
      ],
      "execution_count": 61,
      "outputs": []
    },
    {
      "cell_type": "code",
      "metadata": {
        "id": "siu6CFRGJZXO",
        "colab_type": "code",
        "colab": {
          "base_uri": "https://localhost:8080/",
          "height": 197
        },
        "outputId": "1ea6b26e-404c-458a-dc9d-8392041d98ff"
      },
      "source": [
        "titles = pd.read_csv('titles.csv')\n",
        "titles.head()"
      ],
      "execution_count": 62,
      "outputs": [
        {
          "output_type": "execute_result",
          "data": {
            "text/html": [
              "<div>\n",
              "<style scoped>\n",
              "    .dataframe tbody tr th:only-of-type {\n",
              "        vertical-align: middle;\n",
              "    }\n",
              "\n",
              "    .dataframe tbody tr th {\n",
              "        vertical-align: top;\n",
              "    }\n",
              "\n",
              "    .dataframe thead th {\n",
              "        text-align: right;\n",
              "    }\n",
              "</style>\n",
              "<table border=\"1\" class=\"dataframe\">\n",
              "  <thead>\n",
              "    <tr style=\"text-align: right;\">\n",
              "      <th></th>\n",
              "      <th>title</th>\n",
              "      <th>year</th>\n",
              "    </tr>\n",
              "  </thead>\n",
              "  <tbody>\n",
              "    <tr>\n",
              "      <th>0</th>\n",
              "      <td>Tasveer Mere Sanam</td>\n",
              "      <td>1996</td>\n",
              "    </tr>\n",
              "    <tr>\n",
              "      <th>1</th>\n",
              "      <td>Only You</td>\n",
              "      <td>1994</td>\n",
              "    </tr>\n",
              "    <tr>\n",
              "      <th>2</th>\n",
              "      <td>El pueblo del terror</td>\n",
              "      <td>1970</td>\n",
              "    </tr>\n",
              "    <tr>\n",
              "      <th>3</th>\n",
              "      <td>Machine</td>\n",
              "      <td>2007</td>\n",
              "    </tr>\n",
              "    <tr>\n",
              "      <th>4</th>\n",
              "      <td>MARy</td>\n",
              "      <td>2008</td>\n",
              "    </tr>\n",
              "  </tbody>\n",
              "</table>\n",
              "</div>"
            ],
            "text/plain": [
              "                  title  year\n",
              "0    Tasveer Mere Sanam  1996\n",
              "1              Only You  1994\n",
              "2  El pueblo del terror  1970\n",
              "3               Machine  2007\n",
              "4                  MARy  2008"
            ]
          },
          "metadata": {
            "tags": []
          },
          "execution_count": 62
        }
      ]
    },
    {
      "cell_type": "code",
      "metadata": {
        "id": "1aIPoFZeJZXZ",
        "colab_type": "code",
        "colab": {}
      },
      "source": [
        "\n"
      ],
      "execution_count": 62,
      "outputs": []
    },
    {
      "cell_type": "markdown",
      "metadata": {
        "collapsed": true,
        "id": "ABBg7H_UJZXk",
        "colab_type": "text"
      },
      "source": [
        "### How many movies are listed in the titles dataframe?"
      ]
    },
    {
      "cell_type": "code",
      "metadata": {
        "id": "KKf36BB6JZXm",
        "colab_type": "code",
        "colab": {
          "base_uri": "https://localhost:8080/",
          "height": 34
        },
        "outputId": "65f81f03-7bcc-4937-ba8c-a832c0e633f8"
      },
      "source": [
        "titles[\"year\"].shape[0]\n",
        "                     "
      ],
      "execution_count": 63,
      "outputs": [
        {
          "output_type": "execute_result",
          "data": {
            "text/plain": [
              "244914"
            ]
          },
          "metadata": {
            "tags": []
          },
          "execution_count": 63
        }
      ]
    },
    {
      "cell_type": "code",
      "metadata": {
        "id": "DPFuwqHmJZXw",
        "colab_type": "code",
        "colab": {}
      },
      "source": [
        ""
      ],
      "execution_count": 63,
      "outputs": []
    },
    {
      "cell_type": "markdown",
      "metadata": {
        "collapsed": true,
        "id": "SMITEMuOJZX7",
        "colab_type": "text"
      },
      "source": [
        "### What are the earliest two films listed in the titles dataframe?"
      ]
    },
    {
      "cell_type": "code",
      "metadata": {
        "id": "1lLpNteuJZX9",
        "colab_type": "code",
        "colab": {
          "base_uri": "https://localhost:8080/",
          "height": 123
        },
        "outputId": "16c148ee-376d-464c-f4d4-28288ad3dadc"
      },
      "source": [
        "a=titles[\"year\"].sort_values().head()\n",
        "a"
      ],
      "execution_count": 247,
      "outputs": [
        {
          "output_type": "execute_result",
          "data": {
            "text/plain": [
              "193222    1894\n",
              "51388     1898\n",
              "4584      1899\n",
              "219198    1900\n",
              "47548     1900\n",
              "Name: year, dtype: int64"
            ]
          },
          "metadata": {
            "tags": []
          },
          "execution_count": 247
        }
      ]
    },
    {
      "cell_type": "markdown",
      "metadata": {
        "collapsed": true,
        "id": "zRvoJdc7JZYS",
        "colab_type": "text"
      },
      "source": [
        "### How many movies have the title \"Hamlet\"?"
      ]
    },
    {
      "cell_type": "code",
      "metadata": {
        "id": "asuwPkajTj5V",
        "colab_type": "code",
        "colab": {
          "base_uri": "https://localhost:8080/",
          "height": 34
        },
        "outputId": "3a088942-1f7c-4372-e3f4-3024f9bf65e3"
      },
      "source": [
        "titles[titles.title==\"Hamlet\"].shape[0]\n"
      ],
      "execution_count": 248,
      "outputs": [
        {
          "output_type": "execute_result",
          "data": {
            "text/plain": [
              "20"
            ]
          },
          "metadata": {
            "tags": []
          },
          "execution_count": 248
        }
      ]
    },
    {
      "cell_type": "markdown",
      "metadata": {
        "collapsed": true,
        "id": "dnpgG7aqJZYm",
        "colab_type": "text"
      },
      "source": [
        "### How many movies are titled \"North by Northwest\"?"
      ]
    },
    {
      "cell_type": "code",
      "metadata": {
        "id": "ogMsbMP4JZYo",
        "colab_type": "code",
        "colab": {
          "base_uri": "https://localhost:8080/",
          "height": 34
        },
        "outputId": "6492f710-f8a5-42cc-a813-40a2b43f2740"
      },
      "source": [
        "titles[titles.title==\"North by Northwest\"].shape[0]\n",
        "\n"
      ],
      "execution_count": 249,
      "outputs": [
        {
          "output_type": "execute_result",
          "data": {
            "text/plain": [
              "1"
            ]
          },
          "metadata": {
            "tags": []
          },
          "execution_count": 249
        }
      ]
    },
    {
      "cell_type": "markdown",
      "metadata": {
        "collapsed": true,
        "id": "fc0ifGf0JZY7",
        "colab_type": "text"
      },
      "source": [
        "### When was the first movie titled \"Hamlet\" made?"
      ]
    },
    {
      "cell_type": "code",
      "metadata": {
        "id": "3LldeM51dixs",
        "colab_type": "code",
        "colab": {
          "base_uri": "https://localhost:8080/",
          "height": 77
        },
        "outputId": "8191369b-e591-4191-d80a-c7763fa4ce4d"
      },
      "source": [
        "titles[titles.title==\"Hamlet\"].sort_values('year').head(1)\n",
        "\n"
      ],
      "execution_count": 250,
      "outputs": [
        {
          "output_type": "execute_result",
          "data": {
            "text/html": [
              "<div>\n",
              "<style scoped>\n",
              "    .dataframe tbody tr th:only-of-type {\n",
              "        vertical-align: middle;\n",
              "    }\n",
              "\n",
              "    .dataframe tbody tr th {\n",
              "        vertical-align: top;\n",
              "    }\n",
              "\n",
              "    .dataframe thead th {\n",
              "        text-align: right;\n",
              "    }\n",
              "</style>\n",
              "<table border=\"1\" class=\"dataframe\">\n",
              "  <thead>\n",
              "    <tr style=\"text-align: right;\">\n",
              "      <th></th>\n",
              "      <th>title</th>\n",
              "      <th>year</th>\n",
              "    </tr>\n",
              "  </thead>\n",
              "  <tbody>\n",
              "    <tr>\n",
              "      <th>52521</th>\n",
              "      <td>Hamlet</td>\n",
              "      <td>1910</td>\n",
              "    </tr>\n",
              "  </tbody>\n",
              "</table>\n",
              "</div>"
            ],
            "text/plain": [
              "        title  year\n",
              "52521  Hamlet  1910"
            ]
          },
          "metadata": {
            "tags": []
          },
          "execution_count": 250
        }
      ]
    },
    {
      "cell_type": "markdown",
      "metadata": {
        "collapsed": true,
        "id": "wn37nebCJZZG",
        "colab_type": "text"
      },
      "source": [
        "### List all of the \"Treasure Island\" movies from earliest to most recent."
      ]
    },
    {
      "cell_type": "code",
      "metadata": {
        "id": "1zPlvzlRJZZJ",
        "colab_type": "code",
        "colab": {
          "base_uri": "https://localhost:8080/",
          "height": 287
        },
        "outputId": "308631fe-50b3-45dd-fe7b-d791d1412b77"
      },
      "source": [
        "titles[titles.title=='Treasure Island'].sort_values('year')"
      ],
      "execution_count": 251,
      "outputs": [
        {
          "output_type": "execute_result",
          "data": {
            "text/html": [
              "<div>\n",
              "<style scoped>\n",
              "    .dataframe tbody tr th:only-of-type {\n",
              "        vertical-align: middle;\n",
              "    }\n",
              "\n",
              "    .dataframe tbody tr th {\n",
              "        vertical-align: top;\n",
              "    }\n",
              "\n",
              "    .dataframe thead th {\n",
              "        text-align: right;\n",
              "    }\n",
              "</style>\n",
              "<table border=\"1\" class=\"dataframe\">\n",
              "  <thead>\n",
              "    <tr style=\"text-align: right;\">\n",
              "      <th></th>\n",
              "      <th>title</th>\n",
              "      <th>year</th>\n",
              "    </tr>\n",
              "  </thead>\n",
              "  <tbody>\n",
              "    <tr>\n",
              "      <th>55686</th>\n",
              "      <td>Treasure Island</td>\n",
              "      <td>1918</td>\n",
              "    </tr>\n",
              "    <tr>\n",
              "      <th>196514</th>\n",
              "      <td>Treasure Island</td>\n",
              "      <td>1920</td>\n",
              "    </tr>\n",
              "    <tr>\n",
              "      <th>141822</th>\n",
              "      <td>Treasure Island</td>\n",
              "      <td>1934</td>\n",
              "    </tr>\n",
              "    <tr>\n",
              "      <th>77354</th>\n",
              "      <td>Treasure Island</td>\n",
              "      <td>1950</td>\n",
              "    </tr>\n",
              "    <tr>\n",
              "      <th>65051</th>\n",
              "      <td>Treasure Island</td>\n",
              "      <td>1972</td>\n",
              "    </tr>\n",
              "    <tr>\n",
              "      <th>37238</th>\n",
              "      <td>Treasure Island</td>\n",
              "      <td>1973</td>\n",
              "    </tr>\n",
              "    <tr>\n",
              "      <th>173051</th>\n",
              "      <td>Treasure Island</td>\n",
              "      <td>1985</td>\n",
              "    </tr>\n",
              "    <tr>\n",
              "      <th>27076</th>\n",
              "      <td>Treasure Island</td>\n",
              "      <td>1999</td>\n",
              "    </tr>\n",
              "  </tbody>\n",
              "</table>\n",
              "</div>"
            ],
            "text/plain": [
              "                  title  year\n",
              "55686   Treasure Island  1918\n",
              "196514  Treasure Island  1920\n",
              "141822  Treasure Island  1934\n",
              "77354   Treasure Island  1950\n",
              "65051   Treasure Island  1972\n",
              "37238   Treasure Island  1973\n",
              "173051  Treasure Island  1985\n",
              "27076   Treasure Island  1999"
            ]
          },
          "metadata": {
            "tags": []
          },
          "execution_count": 251
        }
      ]
    },
    {
      "cell_type": "markdown",
      "metadata": {
        "collapsed": true,
        "id": "L5gyJBlyJZZV",
        "colab_type": "text"
      },
      "source": [
        "### How many movies were made in the year 1950?"
      ]
    },
    {
      "cell_type": "code",
      "metadata": {
        "id": "NXFxMZGWJZZX",
        "colab_type": "code",
        "colab": {
          "base_uri": "https://localhost:8080/",
          "height": 70
        },
        "outputId": "5541b02e-63ec-4d76-c836-929045a83617"
      },
      "source": [
        "a=titles[titles.year == 1950].count()\n",
        "a"
      ],
      "execution_count": 253,
      "outputs": [
        {
          "output_type": "execute_result",
          "data": {
            "text/plain": [
              "title    1113\n",
              "year     1113\n",
              "dtype: int64"
            ]
          },
          "metadata": {
            "tags": []
          },
          "execution_count": 253
        }
      ]
    },
    {
      "cell_type": "markdown",
      "metadata": {
        "collapsed": true,
        "id": "uiK_qTkuJZZh",
        "colab_type": "text"
      },
      "source": [
        "### How many movies were made in the year 1960?"
      ]
    },
    {
      "cell_type": "code",
      "metadata": {
        "id": "LqYIOF_HJZZj",
        "colab_type": "code",
        "colab": {
          "base_uri": "https://localhost:8080/",
          "height": 70
        },
        "outputId": "639275d0-c758-4f60-b2b5-e6d6260e58ec"
      },
      "source": [
        "a=titles[titles.year == 1960].count()\n",
        "a"
      ],
      "execution_count": 256,
      "outputs": [
        {
          "output_type": "execute_result",
          "data": {
            "text/plain": [
              "title    1549\n",
              "year     1549\n",
              "dtype: int64"
            ]
          },
          "metadata": {
            "tags": []
          },
          "execution_count": 256
        }
      ]
    },
    {
      "cell_type": "markdown",
      "metadata": {
        "collapsed": true,
        "id": "jl7jWrygJZZ2",
        "colab_type": "text"
      },
      "source": [
        "### How many movies were made from 1950 through 1959?"
      ]
    },
    {
      "cell_type": "markdown",
      "metadata": {
        "id": "aNQ8nm7LJZZ4",
        "colab_type": "text"
      },
      "source": [
        ""
      ]
    },
    {
      "cell_type": "code",
      "metadata": {
        "id": "y5LOAvtzJZZ6",
        "colab_type": "code",
        "colab": {
          "base_uri": "https://localhost:8080/",
          "height": 34
        },
        "outputId": "d6fac92d-6b42-4b14-a017-1f38081b1426"
      },
      "source": [
        "titles[\"year\"].between(1950,1959).count()"
      ],
      "execution_count": 257,
      "outputs": [
        {
          "output_type": "execute_result",
          "data": {
            "text/plain": [
              "244914"
            ]
          },
          "metadata": {
            "tags": []
          },
          "execution_count": 257
        }
      ]
    },
    {
      "cell_type": "markdown",
      "metadata": {
        "collapsed": true,
        "id": "570aRViYJZaE",
        "colab_type": "text"
      },
      "source": [
        "### In what years has a movie titled \"Batman\" been released?"
      ]
    },
    {
      "cell_type": "code",
      "metadata": {
        "id": "LxlZrvJnJZaG",
        "colab_type": "code",
        "colab": {
          "base_uri": "https://localhost:8080/",
          "height": 107
        },
        "outputId": "0989522e-2465-4737-8bf2-6d621937bf50"
      },
      "source": [
        "titles[titles.title == 'Batman']"
      ],
      "execution_count": 258,
      "outputs": [
        {
          "output_type": "execute_result",
          "data": {
            "text/html": [
              "<div>\n",
              "<style scoped>\n",
              "    .dataframe tbody tr th:only-of-type {\n",
              "        vertical-align: middle;\n",
              "    }\n",
              "\n",
              "    .dataframe tbody tr th {\n",
              "        vertical-align: top;\n",
              "    }\n",
              "\n",
              "    .dataframe thead th {\n",
              "        text-align: right;\n",
              "    }\n",
              "</style>\n",
              "<table border=\"1\" class=\"dataframe\">\n",
              "  <thead>\n",
              "    <tr style=\"text-align: right;\">\n",
              "      <th></th>\n",
              "      <th>title</th>\n",
              "      <th>year</th>\n",
              "    </tr>\n",
              "  </thead>\n",
              "  <tbody>\n",
              "    <tr>\n",
              "      <th>39349</th>\n",
              "      <td>Batman</td>\n",
              "      <td>1943</td>\n",
              "    </tr>\n",
              "    <tr>\n",
              "      <th>240896</th>\n",
              "      <td>Batman</td>\n",
              "      <td>1989</td>\n",
              "    </tr>\n",
              "  </tbody>\n",
              "</table>\n",
              "</div>"
            ],
            "text/plain": [
              "         title  year\n",
              "39349   Batman  1943\n",
              "240896  Batman  1989"
            ]
          },
          "metadata": {
            "tags": []
          },
          "execution_count": 258
        }
      ]
    },
    {
      "cell_type": "code",
      "metadata": {
        "id": "jZuFeAESQcU9",
        "colab_type": "code",
        "colab": {
          "base_uri": "https://localhost:8080/",
          "height": 197
        },
        "outputId": "c19aac84-b424-4b62-df3b-b5ba3e899971"
      },
      "source": [
        "cast=pd.read_csv('cast_1.csv')\n",
        "cast.head()"
      ],
      "execution_count": 66,
      "outputs": [
        {
          "output_type": "execute_result",
          "data": {
            "text/html": [
              "<div>\n",
              "<style scoped>\n",
              "    .dataframe tbody tr th:only-of-type {\n",
              "        vertical-align: middle;\n",
              "    }\n",
              "\n",
              "    .dataframe tbody tr th {\n",
              "        vertical-align: top;\n",
              "    }\n",
              "\n",
              "    .dataframe thead th {\n",
              "        text-align: right;\n",
              "    }\n",
              "</style>\n",
              "<table border=\"1\" class=\"dataframe\">\n",
              "  <thead>\n",
              "    <tr style=\"text-align: right;\">\n",
              "      <th></th>\n",
              "      <th>title</th>\n",
              "      <th>year</th>\n",
              "      <th>name</th>\n",
              "      <th>type</th>\n",
              "      <th>character</th>\n",
              "      <th>n</th>\n",
              "    </tr>\n",
              "  </thead>\n",
              "  <tbody>\n",
              "    <tr>\n",
              "      <th>0</th>\n",
              "      <td>Closet Monster</td>\n",
              "      <td>2015</td>\n",
              "      <td>Buffy #1</td>\n",
              "      <td>actor</td>\n",
              "      <td>Buffy 4</td>\n",
              "      <td>31.0</td>\n",
              "    </tr>\n",
              "    <tr>\n",
              "      <th>1</th>\n",
              "      <td>Suuri illusioni</td>\n",
              "      <td>1985</td>\n",
              "      <td>Homo $</td>\n",
              "      <td>actor</td>\n",
              "      <td>Guests</td>\n",
              "      <td>22.0</td>\n",
              "    </tr>\n",
              "    <tr>\n",
              "      <th>2</th>\n",
              "      <td>Battle of the Sexes</td>\n",
              "      <td>2017</td>\n",
              "      <td>$hutter</td>\n",
              "      <td>actor</td>\n",
              "      <td>Bobby Riggs Fan</td>\n",
              "      <td>10.0</td>\n",
              "    </tr>\n",
              "    <tr>\n",
              "      <th>3</th>\n",
              "      <td>Secret in Their Eyes</td>\n",
              "      <td>2015</td>\n",
              "      <td>$hutter</td>\n",
              "      <td>actor</td>\n",
              "      <td>2002 Dodger Fan</td>\n",
              "      <td>NaN</td>\n",
              "    </tr>\n",
              "    <tr>\n",
              "      <th>4</th>\n",
              "      <td>Steve Jobs</td>\n",
              "      <td>2015</td>\n",
              "      <td>$hutter</td>\n",
              "      <td>actor</td>\n",
              "      <td>1988 Opera House Patron</td>\n",
              "      <td>NaN</td>\n",
              "    </tr>\n",
              "  </tbody>\n",
              "</table>\n",
              "</div>"
            ],
            "text/plain": [
              "                  title  year      name   type                character     n\n",
              "0        Closet Monster  2015  Buffy #1  actor                  Buffy 4  31.0\n",
              "1       Suuri illusioni  1985    Homo $  actor                   Guests  22.0\n",
              "2   Battle of the Sexes  2017   $hutter  actor          Bobby Riggs Fan  10.0\n",
              "3  Secret in Their Eyes  2015   $hutter  actor          2002 Dodger Fan   NaN\n",
              "4            Steve Jobs  2015   $hutter  actor  1988 Opera House Patron   NaN"
            ]
          },
          "metadata": {
            "tags": []
          },
          "execution_count": 66
        }
      ]
    },
    {
      "cell_type": "markdown",
      "metadata": {
        "collapsed": true,
        "id": "3b1POmVfJZaP",
        "colab_type": "text"
      },
      "source": [
        "### How many roles were there in the movie \"Inception\"?"
      ]
    },
    {
      "cell_type": "code",
      "metadata": {
        "id": "GGNC8rT3JZaR",
        "colab_type": "code",
        "colab": {
          "base_uri": "https://localhost:8080/",
          "height": 34
        },
        "outputId": "3d6a83ee-495e-444d-bd9a-52a79a50d059"
      },
      "source": [
        "len(cast[cast.title == 'Inception'])"
      ],
      "execution_count": 67,
      "outputs": [
        {
          "output_type": "execute_result",
          "data": {
            "text/plain": [
              "38"
            ]
          },
          "metadata": {
            "tags": []
          },
          "execution_count": 67
        }
      ]
    },
    {
      "cell_type": "markdown",
      "metadata": {
        "collapsed": true,
        "id": "bfROUs7vJZaj",
        "colab_type": "text"
      },
      "source": [
        "### How many roles in the movie \"Inception\" are NOT ranked by an \"n\" value?"
      ]
    },
    {
      "cell_type": "code",
      "metadata": {
        "id": "w49nNM36JZax",
        "colab_type": "code",
        "colab": {
          "base_uri": "https://localhost:8080/",
          "height": 710
        },
        "outputId": "33f0fc6f-6d60-4588-86a3-02607d86bf7d"
      },
      "source": [
        "v=cast[cast.title == 'Inception']\n",
        "u=v.iloc[:, 2]\n",
        "u"
      ],
      "execution_count": 120,
      "outputs": [
        {
          "output_type": "execute_result",
          "data": {
            "text/plain": [
              "98153         Michael (III) August\n",
              "149008                Peter Basham\n",
              "183937                Tom Berenger\n",
              "197877                    Ken Bhan\n",
              "260128              Virgile Bramly\n",
              "326745               Michael Caine\n",
              "333415                Earl Cameron\n",
              "374661               John Ceallach\n",
              "433867               Nicolas Clerc\n",
              "444385              Adam (IV) Cole\n",
              "497161                Garvin Cross\n",
              "517227          Jean-Michel Dagory\n",
              "590576           Leonardo DiCaprio\n",
              "684098               Seve Esposito\n",
              "690634         Marcus (II) Everett\n",
              "707642     Zachary Christopher Fay\n",
              "709436                   Russ Fega\n",
              "737322            Mark Fleischmann\n",
              "807795              Michael Gaston\n",
              "812135             Johnathan Geare\n",
              "832083               Carl Gilliard\n",
              "833376                 Jack Gilroy\n",
              "836295           Daniel Girondeaud\n",
              "859993        Joseph Gordon-Levitt\n",
              "910757                  Lukas Haas\n",
              "940923                   Tom Hardy\n",
              "967176                Ryan Hayward\n",
              "1006636            Andrew Hoagland\n",
              "1095095            Charles Jarrell\n",
              "1108755              Seong-hwan Jo\n",
              "1120184            Alonzo F. Jones\n",
              "1170785               Tim Kelleher\n",
              "1189066                 Mobin Khan\n",
              "1248176              Shunsaku Kud?\n",
              "1296268           John (IX) Lawson\n",
              "1309851                 Tai-Li Lee\n",
              "1312335      Jean-Christophe Leger\n",
              "1455534            Tohoru Masamune\n",
              "Name: name, dtype: object"
            ]
          },
          "metadata": {
            "tags": []
          },
          "execution_count": 120
        }
      ]
    },
    {
      "cell_type": "markdown",
      "metadata": {
        "collapsed": true,
        "id": "eBDLlx1NJZa9",
        "colab_type": "text"
      },
      "source": [
        "### But how many roles in the movie \"Inception\" did receive an \"n\" value?"
      ]
    },
    {
      "cell_type": "code",
      "metadata": {
        "id": "Wf6CpPMYJZa-",
        "colab_type": "code",
        "colab": {
          "base_uri": "https://localhost:8080/",
          "height": 1000
        },
        "outputId": "9ca07bd7-2322-4fb3-c69a-fdd805d828a7"
      },
      "source": [
        "v=cast[cast.title == 'Inception'] \n",
        "v"
      ],
      "execution_count": 125,
      "outputs": [
        {
          "output_type": "execute_result",
          "data": {
            "text/html": [
              "<div>\n",
              "<style scoped>\n",
              "    .dataframe tbody tr th:only-of-type {\n",
              "        vertical-align: middle;\n",
              "    }\n",
              "\n",
              "    .dataframe tbody tr th {\n",
              "        vertical-align: top;\n",
              "    }\n",
              "\n",
              "    .dataframe thead th {\n",
              "        text-align: right;\n",
              "    }\n",
              "</style>\n",
              "<table border=\"1\" class=\"dataframe\">\n",
              "  <thead>\n",
              "    <tr style=\"text-align: right;\">\n",
              "      <th></th>\n",
              "      <th>title</th>\n",
              "      <th>year</th>\n",
              "      <th>name</th>\n",
              "      <th>type</th>\n",
              "      <th>character</th>\n",
              "      <th>n</th>\n",
              "    </tr>\n",
              "  </thead>\n",
              "  <tbody>\n",
              "    <tr>\n",
              "      <th>98153</th>\n",
              "      <td>Inception</td>\n",
              "      <td>2010</td>\n",
              "      <td>Michael (III) August</td>\n",
              "      <td>actor</td>\n",
              "      <td>LAX Passenger</td>\n",
              "      <td>NaN</td>\n",
              "    </tr>\n",
              "    <tr>\n",
              "      <th>149008</th>\n",
              "      <td>Inception</td>\n",
              "      <td>2010</td>\n",
              "      <td>Peter Basham</td>\n",
              "      <td>actor</td>\n",
              "      <td>Fischer's Jet Captain</td>\n",
              "      <td>44.0</td>\n",
              "    </tr>\n",
              "    <tr>\n",
              "      <th>183937</th>\n",
              "      <td>Inception</td>\n",
              "      <td>2010</td>\n",
              "      <td>Tom Berenger</td>\n",
              "      <td>actor</td>\n",
              "      <td>Browning</td>\n",
              "      <td>8.0</td>\n",
              "    </tr>\n",
              "    <tr>\n",
              "      <th>197877</th>\n",
              "      <td>Inception</td>\n",
              "      <td>2010</td>\n",
              "      <td>Ken Bhan</td>\n",
              "      <td>actor</td>\n",
              "      <td>Mombasan Gambler</td>\n",
              "      <td>NaN</td>\n",
              "    </tr>\n",
              "    <tr>\n",
              "      <th>260128</th>\n",
              "      <td>Inception</td>\n",
              "      <td>2010</td>\n",
              "      <td>Virgile Bramly</td>\n",
              "      <td>actor</td>\n",
              "      <td>Bridge Sub Con</td>\n",
              "      <td>29.0</td>\n",
              "    </tr>\n",
              "    <tr>\n",
              "      <th>326745</th>\n",
              "      <td>Inception</td>\n",
              "      <td>2010</td>\n",
              "      <td>Michael Caine</td>\n",
              "      <td>actor</td>\n",
              "      <td>Miles</td>\n",
              "      <td>11.0</td>\n",
              "    </tr>\n",
              "    <tr>\n",
              "      <th>333415</th>\n",
              "      <td>Inception</td>\n",
              "      <td>2010</td>\n",
              "      <td>Earl Cameron</td>\n",
              "      <td>actor</td>\n",
              "      <td>Elderly Bald Man</td>\n",
              "      <td>20.0</td>\n",
              "    </tr>\n",
              "    <tr>\n",
              "      <th>374661</th>\n",
              "      <td>Inception</td>\n",
              "      <td>2010</td>\n",
              "      <td>John Ceallach</td>\n",
              "      <td>actor</td>\n",
              "      <td>LAX Passenger</td>\n",
              "      <td>NaN</td>\n",
              "    </tr>\n",
              "    <tr>\n",
              "      <th>433867</th>\n",
              "      <td>Inception</td>\n",
              "      <td>2010</td>\n",
              "      <td>Nicolas Clerc</td>\n",
              "      <td>actor</td>\n",
              "      <td>Bridge Sub Con</td>\n",
              "      <td>26.0</td>\n",
              "    </tr>\n",
              "    <tr>\n",
              "      <th>444385</th>\n",
              "      <td>Inception</td>\n",
              "      <td>2010</td>\n",
              "      <td>Adam (IV) Cole</td>\n",
              "      <td>actor</td>\n",
              "      <td>Bar Sub Con</td>\n",
              "      <td>34.0</td>\n",
              "    </tr>\n",
              "    <tr>\n",
              "      <th>497161</th>\n",
              "      <td>Inception</td>\n",
              "      <td>2010</td>\n",
              "      <td>Garvin Cross</td>\n",
              "      <td>actor</td>\n",
              "      <td>Snow Commander</td>\n",
              "      <td>NaN</td>\n",
              "    </tr>\n",
              "    <tr>\n",
              "      <th>517227</th>\n",
              "      <td>Inception</td>\n",
              "      <td>2010</td>\n",
              "      <td>Jean-Michel Dagory</td>\n",
              "      <td>actor</td>\n",
              "      <td>Bridge Sub Con</td>\n",
              "      <td>30.0</td>\n",
              "    </tr>\n",
              "    <tr>\n",
              "      <th>590576</th>\n",
              "      <td>Inception</td>\n",
              "      <td>2010</td>\n",
              "      <td>Leonardo DiCaprio</td>\n",
              "      <td>actor</td>\n",
              "      <td>Cobb</td>\n",
              "      <td>1.0</td>\n",
              "    </tr>\n",
              "    <tr>\n",
              "      <th>684098</th>\n",
              "      <td>Inception</td>\n",
              "      <td>2010</td>\n",
              "      <td>Seve Esposito</td>\n",
              "      <td>actor</td>\n",
              "      <td>Italian Gambler</td>\n",
              "      <td>NaN</td>\n",
              "    </tr>\n",
              "    <tr>\n",
              "      <th>690634</th>\n",
              "      <td>Inception</td>\n",
              "      <td>2010</td>\n",
              "      <td>Marcus (II) Everett</td>\n",
              "      <td>actor</td>\n",
              "      <td>Stock Broker</td>\n",
              "      <td>NaN</td>\n",
              "    </tr>\n",
              "    <tr>\n",
              "      <th>707642</th>\n",
              "      <td>Inception</td>\n",
              "      <td>2010</td>\n",
              "      <td>Zachary Christopher Fay</td>\n",
              "      <td>actor</td>\n",
              "      <td>Extra</td>\n",
              "      <td>NaN</td>\n",
              "    </tr>\n",
              "    <tr>\n",
              "      <th>709436</th>\n",
              "      <td>Inception</td>\n",
              "      <td>2010</td>\n",
              "      <td>Russ Fega</td>\n",
              "      <td>actor</td>\n",
              "      <td>Cab Driver</td>\n",
              "      <td>23.0</td>\n",
              "    </tr>\n",
              "    <tr>\n",
              "      <th>737322</th>\n",
              "      <td>Inception</td>\n",
              "      <td>2010</td>\n",
              "      <td>Mark Fleischmann</td>\n",
              "      <td>actor</td>\n",
              "      <td>Penrose Sub Con</td>\n",
              "      <td>32.0</td>\n",
              "    </tr>\n",
              "    <tr>\n",
              "      <th>807795</th>\n",
              "      <td>Inception</td>\n",
              "      <td>2010</td>\n",
              "      <td>Michael Gaston</td>\n",
              "      <td>actor</td>\n",
              "      <td>Immigration Officer</td>\n",
              "      <td>45.0</td>\n",
              "    </tr>\n",
              "    <tr>\n",
              "      <th>812135</th>\n",
              "      <td>Inception</td>\n",
              "      <td>2010</td>\n",
              "      <td>Johnathan Geare</td>\n",
              "      <td>actor</td>\n",
              "      <td>James (3 years)</td>\n",
              "      <td>17.0</td>\n",
              "    </tr>\n",
              "    <tr>\n",
              "      <th>832083</th>\n",
              "      <td>Inception</td>\n",
              "      <td>2010</td>\n",
              "      <td>Carl Gilliard</td>\n",
              "      <td>actor</td>\n",
              "      <td>Lobby Sub Con</td>\n",
              "      <td>40.0</td>\n",
              "    </tr>\n",
              "    <tr>\n",
              "      <th>833376</th>\n",
              "      <td>Inception</td>\n",
              "      <td>2010</td>\n",
              "      <td>Jack Gilroy</td>\n",
              "      <td>actor</td>\n",
              "      <td>Old Cobb</td>\n",
              "      <td>50.0</td>\n",
              "    </tr>\n",
              "    <tr>\n",
              "      <th>836295</th>\n",
              "      <td>Inception</td>\n",
              "      <td>2010</td>\n",
              "      <td>Daniel Girondeaud</td>\n",
              "      <td>actor</td>\n",
              "      <td>Bridge Sub Con</td>\n",
              "      <td>NaN</td>\n",
              "    </tr>\n",
              "    <tr>\n",
              "      <th>859993</th>\n",
              "      <td>Inception</td>\n",
              "      <td>2010</td>\n",
              "      <td>Joseph Gordon-Levitt</td>\n",
              "      <td>actor</td>\n",
              "      <td>Arthur</td>\n",
              "      <td>2.0</td>\n",
              "    </tr>\n",
              "    <tr>\n",
              "      <th>910757</th>\n",
              "      <td>Inception</td>\n",
              "      <td>2010</td>\n",
              "      <td>Lukas Haas</td>\n",
              "      <td>actor</td>\n",
              "      <td>Nash</td>\n",
              "      <td>12.0</td>\n",
              "    </tr>\n",
              "    <tr>\n",
              "      <th>940923</th>\n",
              "      <td>Inception</td>\n",
              "      <td>2010</td>\n",
              "      <td>Tom Hardy</td>\n",
              "      <td>actor</td>\n",
              "      <td>Eames</td>\n",
              "      <td>4.0</td>\n",
              "    </tr>\n",
              "    <tr>\n",
              "      <th>967176</th>\n",
              "      <td>Inception</td>\n",
              "      <td>2010</td>\n",
              "      <td>Ryan Hayward</td>\n",
              "      <td>actor</td>\n",
              "      <td>Lawyer</td>\n",
              "      <td>21.0</td>\n",
              "    </tr>\n",
              "    <tr>\n",
              "      <th>1006636</th>\n",
              "      <td>Inception</td>\n",
              "      <td>2010</td>\n",
              "      <td>Andrew Hoagland</td>\n",
              "      <td>actor</td>\n",
              "      <td>Pedestrian</td>\n",
              "      <td>NaN</td>\n",
              "    </tr>\n",
              "    <tr>\n",
              "      <th>1095095</th>\n",
              "      <td>Inception</td>\n",
              "      <td>2010</td>\n",
              "      <td>Charles Jarrell</td>\n",
              "      <td>actor</td>\n",
              "      <td>Hotel Guest</td>\n",
              "      <td>NaN</td>\n",
              "    </tr>\n",
              "    <tr>\n",
              "      <th>1108755</th>\n",
              "      <td>Inception</td>\n",
              "      <td>2010</td>\n",
              "      <td>Seong-hwan Jo</td>\n",
              "      <td>actor</td>\n",
              "      <td>Japanese Landing Crew</td>\n",
              "      <td>NaN</td>\n",
              "    </tr>\n",
              "    <tr>\n",
              "      <th>1120184</th>\n",
              "      <td>Inception</td>\n",
              "      <td>2010</td>\n",
              "      <td>Alonzo F. Jones</td>\n",
              "      <td>actor</td>\n",
              "      <td>Mombasan Casino Staff</td>\n",
              "      <td>NaN</td>\n",
              "    </tr>\n",
              "    <tr>\n",
              "      <th>1170785</th>\n",
              "      <td>Inception</td>\n",
              "      <td>2010</td>\n",
              "      <td>Tim Kelleher</td>\n",
              "      <td>actor</td>\n",
              "      <td>Thin Man</td>\n",
              "      <td>24.0</td>\n",
              "    </tr>\n",
              "    <tr>\n",
              "      <th>1189066</th>\n",
              "      <td>Inception</td>\n",
              "      <td>2010</td>\n",
              "      <td>Mobin Khan</td>\n",
              "      <td>actor</td>\n",
              "      <td>Mombasa Casino Cashier</td>\n",
              "      <td>NaN</td>\n",
              "    </tr>\n",
              "    <tr>\n",
              "      <th>1248176</th>\n",
              "      <td>Inception</td>\n",
              "      <td>2010</td>\n",
              "      <td>Shunsaku Kud?</td>\n",
              "      <td>actor</td>\n",
              "      <td>Saito's Bodyguard Officer</td>\n",
              "      <td>NaN</td>\n",
              "    </tr>\n",
              "    <tr>\n",
              "      <th>1296268</th>\n",
              "      <td>Inception</td>\n",
              "      <td>2010</td>\n",
              "      <td>John (IX) Lawson</td>\n",
              "      <td>actor</td>\n",
              "      <td>Street Person</td>\n",
              "      <td>NaN</td>\n",
              "    </tr>\n",
              "    <tr>\n",
              "      <th>1309851</th>\n",
              "      <td>Inception</td>\n",
              "      <td>2010</td>\n",
              "      <td>Tai-Li Lee</td>\n",
              "      <td>actor</td>\n",
              "      <td>Tadashi</td>\n",
              "      <td>13.0</td>\n",
              "    </tr>\n",
              "    <tr>\n",
              "      <th>1312335</th>\n",
              "      <td>Inception</td>\n",
              "      <td>2010</td>\n",
              "      <td>Jean-Christophe Leger</td>\n",
              "      <td>actor</td>\n",
              "      <td>French Student</td>\n",
              "      <td>NaN</td>\n",
              "    </tr>\n",
              "    <tr>\n",
              "      <th>1455534</th>\n",
              "      <td>Inception</td>\n",
              "      <td>2010</td>\n",
              "      <td>Tohoru Masamune</td>\n",
              "      <td>actor</td>\n",
              "      <td>Japanese Security Guard</td>\n",
              "      <td>18.0</td>\n",
              "    </tr>\n",
              "  </tbody>\n",
              "</table>\n",
              "</div>"
            ],
            "text/plain": [
              "             title  year  ...                  character     n\n",
              "98153    Inception  2010  ...              LAX Passenger   NaN\n",
              "149008   Inception  2010  ...      Fischer's Jet Captain  44.0\n",
              "183937   Inception  2010  ...                   Browning   8.0\n",
              "197877   Inception  2010  ...           Mombasan Gambler   NaN\n",
              "260128   Inception  2010  ...             Bridge Sub Con  29.0\n",
              "326745   Inception  2010  ...                      Miles  11.0\n",
              "333415   Inception  2010  ...           Elderly Bald Man  20.0\n",
              "374661   Inception  2010  ...              LAX Passenger   NaN\n",
              "433867   Inception  2010  ...             Bridge Sub Con  26.0\n",
              "444385   Inception  2010  ...                Bar Sub Con  34.0\n",
              "497161   Inception  2010  ...             Snow Commander   NaN\n",
              "517227   Inception  2010  ...             Bridge Sub Con  30.0\n",
              "590576   Inception  2010  ...                       Cobb   1.0\n",
              "684098   Inception  2010  ...            Italian Gambler   NaN\n",
              "690634   Inception  2010  ...               Stock Broker   NaN\n",
              "707642   Inception  2010  ...                      Extra   NaN\n",
              "709436   Inception  2010  ...                 Cab Driver  23.0\n",
              "737322   Inception  2010  ...            Penrose Sub Con  32.0\n",
              "807795   Inception  2010  ...        Immigration Officer  45.0\n",
              "812135   Inception  2010  ...            James (3 years)  17.0\n",
              "832083   Inception  2010  ...              Lobby Sub Con  40.0\n",
              "833376   Inception  2010  ...                   Old Cobb  50.0\n",
              "836295   Inception  2010  ...             Bridge Sub Con   NaN\n",
              "859993   Inception  2010  ...                     Arthur   2.0\n",
              "910757   Inception  2010  ...                       Nash  12.0\n",
              "940923   Inception  2010  ...                      Eames   4.0\n",
              "967176   Inception  2010  ...                     Lawyer  21.0\n",
              "1006636  Inception  2010  ...                 Pedestrian   NaN\n",
              "1095095  Inception  2010  ...                Hotel Guest   NaN\n",
              "1108755  Inception  2010  ...      Japanese Landing Crew   NaN\n",
              "1120184  Inception  2010  ...      Mombasan Casino Staff   NaN\n",
              "1170785  Inception  2010  ...                   Thin Man  24.0\n",
              "1189066  Inception  2010  ...     Mombasa Casino Cashier   NaN\n",
              "1248176  Inception  2010  ...  Saito's Bodyguard Officer   NaN\n",
              "1296268  Inception  2010  ...              Street Person   NaN\n",
              "1309851  Inception  2010  ...                    Tadashi  13.0\n",
              "1312335  Inception  2010  ...             French Student   NaN\n",
              "1455534  Inception  2010  ...    Japanese Security Guard  18.0\n",
              "\n",
              "[38 rows x 6 columns]"
            ]
          },
          "metadata": {
            "tags": []
          },
          "execution_count": 125
        }
      ]
    },
    {
      "cell_type": "markdown",
      "metadata": {
        "collapsed": true,
        "id": "lxGhIAMPJZba",
        "colab_type": "text"
      },
      "source": [
        "### Display the cast of \"North by Northwest\" in their correct \"n\"-value order, ignoring roles that did not earn a numeric \"n\" value."
      ]
    },
    {
      "cell_type": "code",
      "metadata": {
        "id": "q5mUN7nLi0Vl",
        "colab_type": "code",
        "colab": {
          "base_uri": "https://localhost:8080/",
          "height": 1000
        },
        "outputId": "1497eb5a-5ba5-4249-9870-83dd51f8af00"
      },
      "source": [
        "value=cast[cast.title == 'North by Northwest']\n",
        "value.iloc[:, 2]"
      ],
      "execution_count": 100,
      "outputs": [
        {
          "output_type": "execute_result",
          "data": {
            "text/plain": [
              "12668           Stanley Adams\n",
              "29122              Andy Albin\n",
              "56389            Don Anderson\n",
              "56610         Ernest Anderson\n",
              "95950       Malcolm Atterbury\n",
              "101764              Tol Avery\n",
              "113558             Sam Bagley\n",
              "119104            Frank Baker\n",
              "124956              Alex Ball\n",
              "143362          Baynes Barron\n",
              "157984          Brandon Beach\n",
              "183104          John Beradino\n",
              "206471           Edward Binns\n",
              "231150        Stephen Bolster\n",
              "356707         Leo G. Carroll\n",
              "357237       Steve Carruthers\n",
              "363413          Taggart Casey\n",
              "370213          Bill Catching\n",
              "440718           Bob (II) Coe\n",
              "464736        Philip Coolidge\n",
              "485168           David A. Cox\n",
              "486194             Walter Coy\n",
              "497282            Jimmy Cross\n",
              "521452              Jack Daly\n",
              "522475            John Damler\n",
              "603172        Lawrence Dobkin\n",
              "662870            Daniel Elam\n",
              "665768      Robert Ellenstein\n",
              "704461          Tommy Farrell\n",
              "707790        Adolph Faylauer\n",
              "815510             Paul Genge\n",
              "838574              Ned Glass\n",
              "852274         James Gonzalez\n",
              "871426             Cary Grant\n",
              "881227           Tom Greenway\n",
              "917621          Robert Haines\n",
              "924065            Stuart Hall\n",
              "978962             Len Hendry\n",
              "1004782      Alfred Hitchcock\n",
              "1018594         Stuart Holmes\n",
              "1064123         Hideo Inamura\n",
              "1079550        Eugene Jackson\n",
              "1112135         Bobby Johnson\n",
              "1118427        Dick Johnstone\n",
              "1146961              Sid Kane\n",
              "1175937        Kenner G. Kemp\n",
              "1180121           Colin Kenny\n",
              "1275337         Martin Landau\n",
              "1326121        Larry Leverett\n",
              "1327241      Carl M. Leviness\n",
              "1354270    Alexander Lockwood\n",
              "1384780             Ken Lynch\n",
              "1438481         Frank Marlowe\n",
              "1443633    Tom (III) Marshall\n",
              "1448786         Thomas Martin\n",
              "1457165           James Mason\n",
              "1477780       James McCallion\n",
              "1508344         Patrick McVey\n",
              "1547433       Carl Milletaire\n",
              "1563494           Hans Moebus\n",
              "Name: name, dtype: object"
            ]
          },
          "metadata": {
            "tags": []
          },
          "execution_count": 100
        }
      ]
    },
    {
      "cell_type": "markdown",
      "metadata": {
        "collapsed": true,
        "id": "VKUUHbN8JZbs",
        "colab_type": "text"
      },
      "source": [
        "### Display the entire cast, in \"n\"-order, of the 1972 film \"Sleuth\"."
      ]
    },
    {
      "cell_type": "code",
      "metadata": {
        "id": "jsXI5wMtJZbv",
        "colab_type": "code",
        "colab": {
          "base_uri": "https://localhost:8080/",
          "height": 167
        },
        "outputId": "c7176ee0-eeb4-434d-b024-b338cb34a060"
      },
      "source": [
        "cast[(cast.title == 'Sleuth') & (cast.year == 1972)].sort_values('n')"
      ],
      "execution_count": 138,
      "outputs": [
        {
          "output_type": "execute_result",
          "data": {
            "text/html": [
              "<div>\n",
              "<style scoped>\n",
              "    .dataframe tbody tr th:only-of-type {\n",
              "        vertical-align: middle;\n",
              "    }\n",
              "\n",
              "    .dataframe tbody tr th {\n",
              "        vertical-align: top;\n",
              "    }\n",
              "\n",
              "    .dataframe thead th {\n",
              "        text-align: right;\n",
              "    }\n",
              "</style>\n",
              "<table border=\"1\" class=\"dataframe\">\n",
              "  <thead>\n",
              "    <tr style=\"text-align: right;\">\n",
              "      <th></th>\n",
              "      <th>title</th>\n",
              "      <th>year</th>\n",
              "      <th>name</th>\n",
              "      <th>type</th>\n",
              "      <th>character</th>\n",
              "      <th>n</th>\n",
              "    </tr>\n",
              "  </thead>\n",
              "  <tbody>\n",
              "    <tr>\n",
              "      <th>326773</th>\n",
              "      <td>Sleuth</td>\n",
              "      <td>1972</td>\n",
              "      <td>Michael Caine</td>\n",
              "      <td>actor</td>\n",
              "      <td>Milo Tindle</td>\n",
              "      <td>2.0</td>\n",
              "    </tr>\n",
              "    <tr>\n",
              "      <th>373876</th>\n",
              "      <td>Sleuth</td>\n",
              "      <td>1972</td>\n",
              "      <td>Alec Cawthorne</td>\n",
              "      <td>actor</td>\n",
              "      <td>Inspector Doppler</td>\n",
              "      <td>3.0</td>\n",
              "    </tr>\n",
              "    <tr>\n",
              "      <th>1465483</th>\n",
              "      <td>Sleuth</td>\n",
              "      <td>1972</td>\n",
              "      <td>John (II) Matthews</td>\n",
              "      <td>actor</td>\n",
              "      <td>Detective Sergeant Tarrant</td>\n",
              "      <td>4.0</td>\n",
              "    </tr>\n",
              "    <tr>\n",
              "      <th>1448690</th>\n",
              "      <td>Sleuth</td>\n",
              "      <td>1972</td>\n",
              "      <td>Teddy Martin</td>\n",
              "      <td>actor</td>\n",
              "      <td>Police Constable Higgs</td>\n",
              "      <td>6.0</td>\n",
              "    </tr>\n",
              "  </tbody>\n",
              "</table>\n",
              "</div>"
            ],
            "text/plain": [
              "          title  year  ...                   character    n\n",
              "326773   Sleuth  1972  ...                 Milo Tindle  2.0\n",
              "373876   Sleuth  1972  ...           Inspector Doppler  3.0\n",
              "1465483  Sleuth  1972  ...  Detective Sergeant Tarrant  4.0\n",
              "1448690  Sleuth  1972  ...      Police Constable Higgs  6.0\n",
              "\n",
              "[4 rows x 6 columns]"
            ]
          },
          "metadata": {
            "tags": []
          },
          "execution_count": 138
        }
      ]
    },
    {
      "cell_type": "code",
      "metadata": {
        "id": "on1fA5F7JZb5",
        "colab_type": "code",
        "colab": {}
      },
      "source": [
        ""
      ],
      "execution_count": null,
      "outputs": []
    },
    {
      "cell_type": "markdown",
      "metadata": {
        "collapsed": true,
        "id": "t0Ej-eGfJZcB",
        "colab_type": "text"
      },
      "source": [
        "### Now display the entire cast, in \"n\"-order, of the 2007 version of \"Sleuth\"."
      ]
    },
    {
      "cell_type": "code",
      "metadata": {
        "id": "qLKjPW9KJZcD",
        "colab_type": "code",
        "colab": {
          "base_uri": "https://localhost:8080/",
          "height": 167
        },
        "outputId": "b9888ede-b7fa-45d6-d697-19d1dd4b567b"
      },
      "source": [
        "cast[(cast.title == 'Sleuth') & (cast.year == 2007)].sort_values('n')"
      ],
      "execution_count": 137,
      "outputs": [
        {
          "output_type": "execute_result",
          "data": {
            "text/html": [
              "<div>\n",
              "<style scoped>\n",
              "    .dataframe tbody tr th:only-of-type {\n",
              "        vertical-align: middle;\n",
              "    }\n",
              "\n",
              "    .dataframe tbody tr th {\n",
              "        vertical-align: top;\n",
              "    }\n",
              "\n",
              "    .dataframe thead th {\n",
              "        text-align: right;\n",
              "    }\n",
              "</style>\n",
              "<table border=\"1\" class=\"dataframe\">\n",
              "  <thead>\n",
              "    <tr style=\"text-align: right;\">\n",
              "      <th></th>\n",
              "      <th>title</th>\n",
              "      <th>year</th>\n",
              "      <th>name</th>\n",
              "      <th>type</th>\n",
              "      <th>character</th>\n",
              "      <th>n</th>\n",
              "    </tr>\n",
              "  </thead>\n",
              "  <tbody>\n",
              "    <tr>\n",
              "      <th>326774</th>\n",
              "      <td>Sleuth</td>\n",
              "      <td>2007</td>\n",
              "      <td>Michael Caine</td>\n",
              "      <td>actor</td>\n",
              "      <td>Andrew</td>\n",
              "      <td>1.0</td>\n",
              "    </tr>\n",
              "    <tr>\n",
              "      <th>1293634</th>\n",
              "      <td>Sleuth</td>\n",
              "      <td>2007</td>\n",
              "      <td>Jude Law</td>\n",
              "      <td>actor</td>\n",
              "      <td>Milo</td>\n",
              "      <td>2.0</td>\n",
              "    </tr>\n",
              "    <tr>\n",
              "      <th>260242</th>\n",
              "      <td>Sleuth</td>\n",
              "      <td>2007</td>\n",
              "      <td>Kenneth Branagh</td>\n",
              "      <td>actor</td>\n",
              "      <td>Other Man on T.V.</td>\n",
              "      <td>NaN</td>\n",
              "    </tr>\n",
              "    <tr>\n",
              "      <th>373877</th>\n",
              "      <td>Sleuth</td>\n",
              "      <td>2007</td>\n",
              "      <td>Alec (II) Cawthorne</td>\n",
              "      <td>actor</td>\n",
              "      <td>Inspector Doppler</td>\n",
              "      <td>NaN</td>\n",
              "    </tr>\n",
              "  </tbody>\n",
              "</table>\n",
              "</div>"
            ],
            "text/plain": [
              "          title  year                 name   type          character    n\n",
              "326774   Sleuth  2007        Michael Caine  actor             Andrew  1.0\n",
              "1293634  Sleuth  2007             Jude Law  actor               Milo  2.0\n",
              "260242   Sleuth  2007      Kenneth Branagh  actor  Other Man on T.V.  NaN\n",
              "373877   Sleuth  2007  Alec (II) Cawthorne  actor  Inspector Doppler  NaN"
            ]
          },
          "metadata": {
            "tags": []
          },
          "execution_count": 137
        }
      ]
    },
    {
      "cell_type": "markdown",
      "metadata": {
        "collapsed": true,
        "id": "MztluQXeJZcU",
        "colab_type": "text"
      },
      "source": [
        "### How many roles were credited in the silent 1921 version of Hamlet?"
      ]
    },
    {
      "cell_type": "code",
      "metadata": {
        "id": "fWWp_zu3exZ7",
        "colab_type": "code",
        "colab": {
          "base_uri": "https://localhost:8080/",
          "height": 167
        },
        "outputId": "ad407226-18ec-428a-c2f3-b2aa077bdd60"
      },
      "source": [
        "role=cast[(cast.title == 'Hamlet') & (cast.year == 1921)]\n",
        "role"
      ],
      "execution_count": 259,
      "outputs": [
        {
          "output_type": "execute_result",
          "data": {
            "text/html": [
              "<div>\n",
              "<style scoped>\n",
              "    .dataframe tbody tr th:only-of-type {\n",
              "        vertical-align: middle;\n",
              "    }\n",
              "\n",
              "    .dataframe tbody tr th {\n",
              "        vertical-align: top;\n",
              "    }\n",
              "\n",
              "    .dataframe thead th {\n",
              "        text-align: right;\n",
              "    }\n",
              "</style>\n",
              "<table border=\"1\" class=\"dataframe\">\n",
              "  <thead>\n",
              "    <tr style=\"text-align: right;\">\n",
              "      <th></th>\n",
              "      <th>title</th>\n",
              "      <th>year</th>\n",
              "      <th>name</th>\n",
              "      <th>type</th>\n",
              "      <th>character</th>\n",
              "      <th>n</th>\n",
              "    </tr>\n",
              "  </thead>\n",
              "  <tbody>\n",
              "    <tr>\n",
              "      <th>7789</th>\n",
              "      <td>Hamlet</td>\n",
              "      <td>1921</td>\n",
              "      <td>Fritz Achterberg</td>\n",
              "      <td>actor</td>\n",
              "      <td>Fortinbras,</td>\n",
              "      <td>9.0</td>\n",
              "    </tr>\n",
              "    <tr>\n",
              "      <th>458904</th>\n",
              "      <td>Hamlet</td>\n",
              "      <td>1921</td>\n",
              "      <td>Paul Conradi</td>\n",
              "      <td>actor</td>\n",
              "      <td>K?nig Hamlet</td>\n",
              "      <td>2.0</td>\n",
              "    </tr>\n",
              "    <tr>\n",
              "      <th>555034</th>\n",
              "      <td>Hamlet</td>\n",
              "      <td>1921</td>\n",
              "      <td>Anton De Verdier</td>\n",
              "      <td>actor</td>\n",
              "      <td>Laertes</td>\n",
              "      <td>7.0</td>\n",
              "    </tr>\n",
              "    <tr>\n",
              "      <th>1135279</th>\n",
              "      <td>Hamlet</td>\n",
              "      <td>1921</td>\n",
              "      <td>Hans Junkermann</td>\n",
              "      <td>actor</td>\n",
              "      <td>Polonius</td>\n",
              "      <td>6.0</td>\n",
              "    </tr>\n",
              "  </tbody>\n",
              "</table>\n",
              "</div>"
            ],
            "text/plain": [
              "          title  year              name   type     character    n\n",
              "7789     Hamlet  1921  Fritz Achterberg  actor   Fortinbras,  9.0\n",
              "458904   Hamlet  1921      Paul Conradi  actor  K?nig Hamlet  2.0\n",
              "555034   Hamlet  1921  Anton De Verdier  actor       Laertes  7.0\n",
              "1135279  Hamlet  1921   Hans Junkermann  actor      Polonius  6.0"
            ]
          },
          "metadata": {
            "tags": []
          },
          "execution_count": 259
        }
      ]
    },
    {
      "cell_type": "code",
      "metadata": {
        "id": "G2-fCJuRfV75",
        "colab_type": "code",
        "colab": {
          "base_uri": "https://localhost:8080/",
          "height": 34
        },
        "outputId": "ba1d6e4f-93bd-4512-877b-d6eac529e5ed"
      },
      "source": [
        "role=role.iloc[:, 4]\n",
        "len(role)"
      ],
      "execution_count": 260,
      "outputs": [
        {
          "output_type": "execute_result",
          "data": {
            "text/plain": [
              "4"
            ]
          },
          "metadata": {
            "tags": []
          },
          "execution_count": 260
        }
      ]
    },
    {
      "cell_type": "markdown",
      "metadata": {
        "collapsed": true,
        "id": "rXhQWuA8JZcn",
        "colab_type": "text"
      },
      "source": [
        "### How many roles were credited in Branagh’s 1996 Hamlet?"
      ]
    },
    {
      "cell_type": "code",
      "metadata": {
        "id": "vWy5lRFnJZco",
        "colab_type": "code",
        "colab": {
          "base_uri": "https://localhost:8080/",
          "height": 827
        },
        "outputId": "c0ed888d-40c9-4680-d939-c373f2a367aa"
      },
      "source": [
        "role=cast[(cast.title == 'Hamlet') & (cast.year == 1996) & (cast.n > 1)]\n",
        "role"
      ],
      "execution_count": 208,
      "outputs": [
        {
          "output_type": "execute_result",
          "data": {
            "text/html": [
              "<div>\n",
              "<style scoped>\n",
              "    .dataframe tbody tr th:only-of-type {\n",
              "        vertical-align: middle;\n",
              "    }\n",
              "\n",
              "    .dataframe tbody tr th {\n",
              "        vertical-align: top;\n",
              "    }\n",
              "\n",
              "    .dataframe thead th {\n",
              "        text-align: right;\n",
              "    }\n",
              "</style>\n",
              "<table border=\"1\" class=\"dataframe\">\n",
              "  <thead>\n",
              "    <tr style=\"text-align: right;\">\n",
              "      <th></th>\n",
              "      <th>title</th>\n",
              "      <th>year</th>\n",
              "      <th>name</th>\n",
              "      <th>type</th>\n",
              "      <th>character</th>\n",
              "      <th>n</th>\n",
              "    </tr>\n",
              "  </thead>\n",
              "  <tbody>\n",
              "    <tr>\n",
              "      <th>95861</th>\n",
              "      <td>Hamlet</td>\n",
              "      <td>1996</td>\n",
              "      <td>Richard Attenborough</td>\n",
              "      <td>actor</td>\n",
              "      <td>English Ambassador</td>\n",
              "      <td>2.0</td>\n",
              "    </tr>\n",
              "    <tr>\n",
              "      <th>158642</th>\n",
              "      <td>Hamlet</td>\n",
              "      <td>1996</td>\n",
              "      <td>Simon Russell Beale</td>\n",
              "      <td>actor</td>\n",
              "      <td>Second Gravedigger</td>\n",
              "      <td>37.0</td>\n",
              "    </tr>\n",
              "    <tr>\n",
              "      <th>214473</th>\n",
              "      <td>Hamlet</td>\n",
              "      <td>1996</td>\n",
              "      <td>David (V) Blair</td>\n",
              "      <td>actor</td>\n",
              "      <td>Attendant to Claudius</td>\n",
              "      <td>3.0</td>\n",
              "    </tr>\n",
              "    <tr>\n",
              "      <th>219554</th>\n",
              "      <td>Hamlet</td>\n",
              "      <td>1996</td>\n",
              "      <td>Brian Blessed</td>\n",
              "      <td>actor</td>\n",
              "      <td>Ghost of Hamlet's Father</td>\n",
              "      <td>4.0</td>\n",
              "    </tr>\n",
              "    <tr>\n",
              "      <th>260225</th>\n",
              "      <td>Hamlet</td>\n",
              "      <td>1996</td>\n",
              "      <td>Kenneth Branagh</td>\n",
              "      <td>actor</td>\n",
              "      <td>Hamlet</td>\n",
              "      <td>5.0</td>\n",
              "    </tr>\n",
              "    <tr>\n",
              "      <th>272749</th>\n",
              "      <td>Hamlet</td>\n",
              "      <td>1996</td>\n",
              "      <td>Richard Briers</td>\n",
              "      <td>actor</td>\n",
              "      <td>Polonius</td>\n",
              "      <td>6.0</td>\n",
              "    </tr>\n",
              "    <tr>\n",
              "      <th>294652</th>\n",
              "      <td>Hamlet</td>\n",
              "      <td>1996</td>\n",
              "      <td>Michael Bryant</td>\n",
              "      <td>actor</td>\n",
              "      <td>Priest</td>\n",
              "      <td>7.0</td>\n",
              "    </tr>\n",
              "    <tr>\n",
              "      <th>319501</th>\n",
              "      <td>Hamlet</td>\n",
              "      <td>1996</td>\n",
              "      <td>Peter Bygott</td>\n",
              "      <td>actor</td>\n",
              "      <td>Attendant to Claudius</td>\n",
              "      <td>8.0</td>\n",
              "    </tr>\n",
              "    <tr>\n",
              "      <th>500916</th>\n",
              "      <td>Hamlet</td>\n",
              "      <td>1996</td>\n",
              "      <td>Billy Crystal</td>\n",
              "      <td>actor</td>\n",
              "      <td>First Gravedigger</td>\n",
              "      <td>10.0</td>\n",
              "    </tr>\n",
              "    <tr>\n",
              "      <th>518572</th>\n",
              "      <td>Hamlet</td>\n",
              "      <td>1996</td>\n",
              "      <td>Charles Daish</td>\n",
              "      <td>actor</td>\n",
              "      <td>Stage Manager</td>\n",
              "      <td>11.0</td>\n",
              "    </tr>\n",
              "    <tr>\n",
              "      <th>576147</th>\n",
              "      <td>Hamlet</td>\n",
              "      <td>1996</td>\n",
              "      <td>G?rard Depardieu</td>\n",
              "      <td>actor</td>\n",
              "      <td>Reynaldo</td>\n",
              "      <td>13.0</td>\n",
              "    </tr>\n",
              "    <tr>\n",
              "      <th>598618</th>\n",
              "      <td>Hamlet</td>\n",
              "      <td>1996</td>\n",
              "      <td>Reece Dinsdale</td>\n",
              "      <td>actor</td>\n",
              "      <td>Guildenstern</td>\n",
              "      <td>14.0</td>\n",
              "    </tr>\n",
              "    <tr>\n",
              "      <th>604339</th>\n",
              "      <td>Hamlet</td>\n",
              "      <td>1996</td>\n",
              "      <td>Ken Dodd</td>\n",
              "      <td>actor</td>\n",
              "      <td>Yorick</td>\n",
              "      <td>15.0</td>\n",
              "    </tr>\n",
              "    <tr>\n",
              "      <th>656817</th>\n",
              "      <td>Hamlet</td>\n",
              "      <td>1996</td>\n",
              "      <td>Rob Edwards</td>\n",
              "      <td>actor</td>\n",
              "      <td>Lucianus</td>\n",
              "      <td>17.0</td>\n",
              "    </tr>\n",
              "    <tr>\n",
              "      <th>704270</th>\n",
              "      <td>Hamlet</td>\n",
              "      <td>1996</td>\n",
              "      <td>Nicholas Farrell</td>\n",
              "      <td>actor</td>\n",
              "      <td>Horatio</td>\n",
              "      <td>18.0</td>\n",
              "    </tr>\n",
              "    <tr>\n",
              "      <th>708468</th>\n",
              "      <td>Hamlet</td>\n",
              "      <td>1996</td>\n",
              "      <td>Ray Fearon</td>\n",
              "      <td>actor</td>\n",
              "      <td>Francisco</td>\n",
              "      <td>19.0</td>\n",
              "    </tr>\n",
              "    <tr>\n",
              "      <th>827066</th>\n",
              "      <td>Hamlet</td>\n",
              "      <td>1996</td>\n",
              "      <td>John Gielgud</td>\n",
              "      <td>actor</td>\n",
              "      <td>Priam</td>\n",
              "      <td>21.0</td>\n",
              "    </tr>\n",
              "    <tr>\n",
              "      <th>990819</th>\n",
              "      <td>Hamlet</td>\n",
              "      <td>1996</td>\n",
              "      <td>Charlton Heston</td>\n",
              "      <td>actor</td>\n",
              "      <td>Player King</td>\n",
              "      <td>23.0</td>\n",
              "    </tr>\n",
              "    <tr>\n",
              "      <th>1074691</th>\n",
              "      <td>Hamlet</td>\n",
              "      <td>1996</td>\n",
              "      <td>Ravil Isyanov</td>\n",
              "      <td>actor</td>\n",
              "      <td>Cornelius</td>\n",
              "      <td>24.0</td>\n",
              "    </tr>\n",
              "    <tr>\n",
              "      <th>1082161</th>\n",
              "      <td>Hamlet</td>\n",
              "      <td>1996</td>\n",
              "      <td>Derek Jacobi</td>\n",
              "      <td>actor</td>\n",
              "      <td>Claudius</td>\n",
              "      <td>25.0</td>\n",
              "    </tr>\n",
              "    <tr>\n",
              "      <th>1210509</th>\n",
              "      <td>Hamlet</td>\n",
              "      <td>1996</td>\n",
              "      <td>Jeffery Kissoon</td>\n",
              "      <td>actor</td>\n",
              "      <td>Fortinbras's Captain</td>\n",
              "      <td>27.0</td>\n",
              "    </tr>\n",
              "    <tr>\n",
              "      <th>1316617</th>\n",
              "      <td>Hamlet</td>\n",
              "      <td>1996</td>\n",
              "      <td>Jack Lemmon</td>\n",
              "      <td>actor</td>\n",
              "      <td>Marcellus</td>\n",
              "      <td>29.0</td>\n",
              "    </tr>\n",
              "    <tr>\n",
              "      <th>1417360</th>\n",
              "      <td>Hamlet</td>\n",
              "      <td>1996</td>\n",
              "      <td>Michael Maloney</td>\n",
              "      <td>actor</td>\n",
              "      <td>Laertes</td>\n",
              "      <td>31.0</td>\n",
              "    </tr>\n",
              "    <tr>\n",
              "      <th>1489191</th>\n",
              "      <td>Hamlet</td>\n",
              "      <td>1996</td>\n",
              "      <td>Ian McElhinney</td>\n",
              "      <td>actor</td>\n",
              "      <td>Barnardo</td>\n",
              "      <td>30.0</td>\n",
              "    </tr>\n",
              "    <tr>\n",
              "      <th>1549128</th>\n",
              "      <td>Hamlet</td>\n",
              "      <td>1996</td>\n",
              "      <td>John Mills</td>\n",
              "      <td>actor</td>\n",
              "      <td>Old Norway</td>\n",
              "      <td>33.0</td>\n",
              "    </tr>\n",
              "    <tr>\n",
              "      <th>1556082</th>\n",
              "      <td>Hamlet</td>\n",
              "      <td>1996</td>\n",
              "      <td>Jimi Mistry</td>\n",
              "      <td>actor</td>\n",
              "      <td>Sailor Two</td>\n",
              "      <td>34.0</td>\n",
              "    </tr>\n",
              "  </tbody>\n",
              "</table>\n",
              "</div>"
            ],
            "text/plain": [
              "          title  year  ...                 character     n\n",
              "95861    Hamlet  1996  ...        English Ambassador   2.0\n",
              "158642   Hamlet  1996  ...        Second Gravedigger  37.0\n",
              "214473   Hamlet  1996  ...     Attendant to Claudius   3.0\n",
              "219554   Hamlet  1996  ...  Ghost of Hamlet's Father   4.0\n",
              "260225   Hamlet  1996  ...                    Hamlet   5.0\n",
              "272749   Hamlet  1996  ...                  Polonius   6.0\n",
              "294652   Hamlet  1996  ...                    Priest   7.0\n",
              "319501   Hamlet  1996  ...     Attendant to Claudius   8.0\n",
              "500916   Hamlet  1996  ...         First Gravedigger  10.0\n",
              "518572   Hamlet  1996  ...             Stage Manager  11.0\n",
              "576147   Hamlet  1996  ...                  Reynaldo  13.0\n",
              "598618   Hamlet  1996  ...              Guildenstern  14.0\n",
              "604339   Hamlet  1996  ...                    Yorick  15.0\n",
              "656817   Hamlet  1996  ...                  Lucianus  17.0\n",
              "704270   Hamlet  1996  ...                   Horatio  18.0\n",
              "708468   Hamlet  1996  ...                 Francisco  19.0\n",
              "827066   Hamlet  1996  ...                     Priam  21.0\n",
              "990819   Hamlet  1996  ...               Player King  23.0\n",
              "1074691  Hamlet  1996  ...                 Cornelius  24.0\n",
              "1082161  Hamlet  1996  ...                  Claudius  25.0\n",
              "1210509  Hamlet  1996  ...      Fortinbras's Captain  27.0\n",
              "1316617  Hamlet  1996  ...                 Marcellus  29.0\n",
              "1417360  Hamlet  1996  ...                   Laertes  31.0\n",
              "1489191  Hamlet  1996  ...                  Barnardo  30.0\n",
              "1549128  Hamlet  1996  ...                Old Norway  33.0\n",
              "1556082  Hamlet  1996  ...                Sailor Two  34.0\n",
              "\n",
              "[26 rows x 6 columns]"
            ]
          },
          "metadata": {
            "tags": []
          },
          "execution_count": 208
        }
      ]
    },
    {
      "cell_type": "code",
      "metadata": {
        "id": "KzZ48tO8SkQX",
        "colab_type": "code",
        "colab": {
          "base_uri": "https://localhost:8080/",
          "height": 34
        },
        "outputId": "f7b9cc8f-c7de-4f1a-b9ea-f9e994461128"
      },
      "source": [
        "role=role.iloc[:, 4]\n",
        "len(role)"
      ],
      "execution_count": 205,
      "outputs": [
        {
          "output_type": "execute_result",
          "data": {
            "text/plain": [
              "31"
            ]
          },
          "metadata": {
            "tags": []
          },
          "execution_count": 205
        }
      ]
    },
    {
      "cell_type": "markdown",
      "metadata": {
        "collapsed": true,
        "id": "SoHEG75fJZc5",
        "colab_type": "text"
      },
      "source": [
        "### How many \"Hamlet\" roles have been listed in all film credits through history?"
      ]
    },
    {
      "cell_type": "code",
      "metadata": {
        "id": "JlsKbix_JZc7",
        "colab_type": "code",
        "colab": {
          "base_uri": "https://localhost:8080/",
          "height": 34
        },
        "outputId": "027c8125-2765-4af5-83af-48ae2a43f14f"
      },
      "source": [
        "len(cast[cast.title == 'Hamlet'])"
      ],
      "execution_count": 170,
      "outputs": [
        {
          "output_type": "execute_result",
          "data": {
            "text/plain": [
              "164"
            ]
          },
          "metadata": {
            "tags": []
          },
          "execution_count": 170
        }
      ]
    },
    {
      "cell_type": "markdown",
      "metadata": {
        "collapsed": true,
        "id": "NmI6hSDoJZdS",
        "colab_type": "text"
      },
      "source": [
        "### How many people have played an \"Ophelia\"?"
      ]
    },
    {
      "cell_type": "code",
      "metadata": {
        "id": "JRc44AKKJZdT",
        "colab_type": "code",
        "colab": {
          "base_uri": "https://localhost:8080/",
          "height": 227
        },
        "outputId": "ce1b4c1b-1505-4d31-d146-aba43f025b7f"
      },
      "source": [
        "role=cast[cast.title == 'Ophelia']\n",
        "role"
      ],
      "execution_count": 210,
      "outputs": [
        {
          "output_type": "execute_result",
          "data": {
            "text/html": [
              "<div>\n",
              "<style scoped>\n",
              "    .dataframe tbody tr th:only-of-type {\n",
              "        vertical-align: middle;\n",
              "    }\n",
              "\n",
              "    .dataframe tbody tr th {\n",
              "        vertical-align: top;\n",
              "    }\n",
              "\n",
              "    .dataframe thead th {\n",
              "        text-align: right;\n",
              "    }\n",
              "</style>\n",
              "<table border=\"1\" class=\"dataframe\">\n",
              "  <thead>\n",
              "    <tr style=\"text-align: right;\">\n",
              "      <th></th>\n",
              "      <th>title</th>\n",
              "      <th>year</th>\n",
              "      <th>name</th>\n",
              "      <th>type</th>\n",
              "      <th>character</th>\n",
              "      <th>n</th>\n",
              "    </tr>\n",
              "  </thead>\n",
              "  <tbody>\n",
              "    <tr>\n",
              "      <th>236138</th>\n",
              "      <td>Ophelia</td>\n",
              "      <td>2018</td>\n",
              "      <td>Booda</td>\n",
              "      <td>actor</td>\n",
              "      <td>Priest</td>\n",
              "      <td>NaN</td>\n",
              "    </tr>\n",
              "    <tr>\n",
              "      <th>511969</th>\n",
              "      <td>Ophelia</td>\n",
              "      <td>2018</td>\n",
              "      <td>Noel Czuczor</td>\n",
              "      <td>actor</td>\n",
              "      <td>Rosencrantz</td>\n",
              "      <td>NaN</td>\n",
              "    </tr>\n",
              "    <tr>\n",
              "      <th>554488</th>\n",
              "      <td>Ophelia</td>\n",
              "      <td>2018</td>\n",
              "      <td>Sebastian De Souza</td>\n",
              "      <td>actor</td>\n",
              "      <td>Edmund</td>\n",
              "      <td>NaN</td>\n",
              "    </tr>\n",
              "    <tr>\n",
              "      <th>712347</th>\n",
              "      <td>Ophelia</td>\n",
              "      <td>2018</td>\n",
              "      <td>Tom Felton</td>\n",
              "      <td>actor</td>\n",
              "      <td>Laertes</td>\n",
              "      <td>NaN</td>\n",
              "    </tr>\n",
              "    <tr>\n",
              "      <th>1397092</th>\n",
              "      <td>Ophelia</td>\n",
              "      <td>2018</td>\n",
              "      <td>George MacKay</td>\n",
              "      <td>actor</td>\n",
              "      <td>Hamlet</td>\n",
              "      <td>NaN</td>\n",
              "    </tr>\n",
              "    <tr>\n",
              "      <th>1403661</th>\n",
              "      <td>Ophelia</td>\n",
              "      <td>2018</td>\n",
              "      <td>Dominic Mafham</td>\n",
              "      <td>actor</td>\n",
              "      <td>Polonius</td>\n",
              "      <td>NaN</td>\n",
              "    </tr>\n",
              "  </tbody>\n",
              "</table>\n",
              "</div>"
            ],
            "text/plain": [
              "           title  year                name   type    character   n\n",
              "236138   Ophelia  2018               Booda  actor       Priest NaN\n",
              "511969   Ophelia  2018        Noel Czuczor  actor  Rosencrantz NaN\n",
              "554488   Ophelia  2018  Sebastian De Souza  actor       Edmund NaN\n",
              "712347   Ophelia  2018          Tom Felton  actor      Laertes NaN\n",
              "1397092  Ophelia  2018       George MacKay  actor       Hamlet NaN\n",
              "1403661  Ophelia  2018      Dominic Mafham  actor     Polonius NaN"
            ]
          },
          "metadata": {
            "tags": []
          },
          "execution_count": 210
        }
      ]
    },
    {
      "cell_type": "code",
      "metadata": {
        "id": "A1zIwVStJZdh",
        "colab_type": "code",
        "colab": {
          "base_uri": "https://localhost:8080/",
          "height": 34
        },
        "outputId": "712f898f-5134-408b-dbb9-ffa5beb9a59a"
      },
      "source": [
        "role=role.iloc[:, 4]\n",
        "len(role)"
      ],
      "execution_count": 211,
      "outputs": [
        {
          "output_type": "execute_result",
          "data": {
            "text/plain": [
              "6"
            ]
          },
          "metadata": {
            "tags": []
          },
          "execution_count": 211
        }
      ]
    },
    {
      "cell_type": "markdown",
      "metadata": {
        "collapsed": true,
        "id": "g-sGF9HNJZdx",
        "colab_type": "text"
      },
      "source": [
        "### How many people have played a role called \"The Dude\"?"
      ]
    },
    {
      "cell_type": "code",
      "metadata": {
        "id": "izf0wA9hJZd0",
        "colab_type": "code",
        "colab": {
          "base_uri": "https://localhost:8080/",
          "height": 437
        },
        "outputId": "507b0f95-ce96-4987-9cc5-c60ce8823491"
      },
      "source": [
        "char=cast[cast.character == 'The Dude']\n",
        "char"
      ],
      "execution_count": 185,
      "outputs": [
        {
          "output_type": "execute_result",
          "data": {
            "text/html": [
              "<div>\n",
              "<style scoped>\n",
              "    .dataframe tbody tr th:only-of-type {\n",
              "        vertical-align: middle;\n",
              "    }\n",
              "\n",
              "    .dataframe tbody tr th {\n",
              "        vertical-align: top;\n",
              "    }\n",
              "\n",
              "    .dataframe thead th {\n",
              "        text-align: right;\n",
              "    }\n",
              "</style>\n",
              "<table border=\"1\" class=\"dataframe\">\n",
              "  <thead>\n",
              "    <tr style=\"text-align: right;\">\n",
              "      <th></th>\n",
              "      <th>title</th>\n",
              "      <th>year</th>\n",
              "      <th>name</th>\n",
              "      <th>type</th>\n",
              "      <th>character</th>\n",
              "      <th>n</th>\n",
              "    </tr>\n",
              "  </thead>\n",
              "  <tbody>\n",
              "    <tr>\n",
              "      <th>272161</th>\n",
              "      <td>The Big Lebowski</td>\n",
              "      <td>1998</td>\n",
              "      <td>Jeff Bridges</td>\n",
              "      <td>actor</td>\n",
              "      <td>The Dude</td>\n",
              "      <td>1.0</td>\n",
              "    </tr>\n",
              "    <tr>\n",
              "      <th>339389</th>\n",
              "      <td>Terms &amp; Conditions</td>\n",
              "      <td>2015</td>\n",
              "      <td>Jordan Cann</td>\n",
              "      <td>actor</td>\n",
              "      <td>The Dude</td>\n",
              "      <td>9.0</td>\n",
              "    </tr>\n",
              "    <tr>\n",
              "      <th>498660</th>\n",
              "      <td>Stranger</td>\n",
              "      <td>2000</td>\n",
              "      <td>Scott Crowell</td>\n",
              "      <td>actor</td>\n",
              "      <td>The Dude</td>\n",
              "      <td>NaN</td>\n",
              "    </tr>\n",
              "    <tr>\n",
              "      <th>570128</th>\n",
              "      <td>Pizza Man vs. the Dude</td>\n",
              "      <td>2004</td>\n",
              "      <td>Chris DeMarcus</td>\n",
              "      <td>actor</td>\n",
              "      <td>The Dude</td>\n",
              "      <td>NaN</td>\n",
              "    </tr>\n",
              "    <tr>\n",
              "      <th>610791</th>\n",
              "      <td>Sweepstakes</td>\n",
              "      <td>1931</td>\n",
              "      <td>Mike Donlin</td>\n",
              "      <td>actor</td>\n",
              "      <td>The Dude</td>\n",
              "      <td>12.0</td>\n",
              "    </tr>\n",
              "    <tr>\n",
              "      <th>629473</th>\n",
              "      <td>Self Helpless</td>\n",
              "      <td>2010</td>\n",
              "      <td>Devin The Dude</td>\n",
              "      <td>actor</td>\n",
              "      <td>The Dude</td>\n",
              "      <td>NaN</td>\n",
              "    </tr>\n",
              "    <tr>\n",
              "      <th>855976</th>\n",
              "      <td>A Few Brains More</td>\n",
              "      <td>2012</td>\n",
              "      <td>Michael D. Goodwin</td>\n",
              "      <td>actor</td>\n",
              "      <td>The Dude</td>\n",
              "      <td>NaN</td>\n",
              "    </tr>\n",
              "    <tr>\n",
              "      <th>1089444</th>\n",
              "      <td>Jay and Silent Bob Strike Back</td>\n",
              "      <td>2001</td>\n",
              "      <td>Matthew (XIX) James</td>\n",
              "      <td>actor</td>\n",
              "      <td>The Dude</td>\n",
              "      <td>37.0</td>\n",
              "    </tr>\n",
              "    <tr>\n",
              "      <th>1138933</th>\n",
              "      <td>Explicit Ills</td>\n",
              "      <td>2008</td>\n",
              "      <td>Christopher Kadish</td>\n",
              "      <td>actor</td>\n",
              "      <td>The Dude</td>\n",
              "      <td>27.0</td>\n",
              "    </tr>\n",
              "    <tr>\n",
              "      <th>1367230</th>\n",
              "      <td>American Idiots</td>\n",
              "      <td>2013</td>\n",
              "      <td>Jason Loughridge</td>\n",
              "      <td>actor</td>\n",
              "      <td>The Dude</td>\n",
              "      <td>10.0</td>\n",
              "    </tr>\n",
              "    <tr>\n",
              "      <th>1386561</th>\n",
              "      <td>The Winds of Autumn</td>\n",
              "      <td>1976</td>\n",
              "      <td>Steve Lyons</td>\n",
              "      <td>actor</td>\n",
              "      <td>The Dude</td>\n",
              "      <td>30.0</td>\n",
              "    </tr>\n",
              "    <tr>\n",
              "      <th>1512572</th>\n",
              "      <td>The Liq</td>\n",
              "      <td>2016</td>\n",
              "      <td>Mark Alan Meek</td>\n",
              "      <td>actor</td>\n",
              "      <td>The Dude</td>\n",
              "      <td>NaN</td>\n",
              "    </tr>\n",
              "    <tr>\n",
              "      <th>1540933</th>\n",
              "      <td>Wild Oats Lane</td>\n",
              "      <td>1926</td>\n",
              "      <td>Jerry Miley</td>\n",
              "      <td>actor</td>\n",
              "      <td>The Dude</td>\n",
              "      <td>6.0</td>\n",
              "    </tr>\n",
              "  </tbody>\n",
              "</table>\n",
              "</div>"
            ],
            "text/plain": [
              "                                  title  year  ... character     n\n",
              "272161                 The Big Lebowski  1998  ...  The Dude   1.0\n",
              "339389               Terms & Conditions  2015  ...  The Dude   9.0\n",
              "498660                         Stranger  2000  ...  The Dude   NaN\n",
              "570128           Pizza Man vs. the Dude  2004  ...  The Dude   NaN\n",
              "610791                      Sweepstakes  1931  ...  The Dude  12.0\n",
              "629473                    Self Helpless  2010  ...  The Dude   NaN\n",
              "855976                A Few Brains More  2012  ...  The Dude   NaN\n",
              "1089444  Jay and Silent Bob Strike Back  2001  ...  The Dude  37.0\n",
              "1138933                   Explicit Ills  2008  ...  The Dude  27.0\n",
              "1367230                 American Idiots  2013  ...  The Dude  10.0\n",
              "1386561             The Winds of Autumn  1976  ...  The Dude  30.0\n",
              "1512572                         The Liq  2016  ...  The Dude   NaN\n",
              "1540933                  Wild Oats Lane  1926  ...  The Dude   6.0\n",
              "\n",
              "[13 rows x 6 columns]"
            ]
          },
          "metadata": {
            "tags": []
          },
          "execution_count": 185
        }
      ]
    },
    {
      "cell_type": "code",
      "metadata": {
        "id": "WSb3p0qXJZeA",
        "colab_type": "code",
        "colab": {
          "base_uri": "https://localhost:8080/",
          "height": 34
        },
        "outputId": "04eeb788-e72f-4434-b5af-b6bb61fab0b2"
      },
      "source": [
        "char=char.iloc[:, 4]\n",
        "len(char)"
      ],
      "execution_count": 186,
      "outputs": [
        {
          "output_type": "execute_result",
          "data": {
            "text/plain": [
              "13"
            ]
          },
          "metadata": {
            "tags": []
          },
          "execution_count": 186
        }
      ]
    },
    {
      "cell_type": "markdown",
      "metadata": {
        "collapsed": true,
        "id": "H7pwAx72JZeI",
        "colab_type": "text"
      },
      "source": [
        "### How many people have played a role called \"The Stranger\"?"
      ]
    },
    {
      "cell_type": "code",
      "metadata": {
        "id": "b3qHf-F2JZeJ",
        "colab_type": "code",
        "colab": {
          "base_uri": "https://localhost:8080/",
          "height": 406
        },
        "outputId": "265b2c8d-2a97-4787-83c1-657086e3c04e"
      },
      "source": [
        "char=cast[cast.character == 'The Stranger']\n",
        "char"
      ],
      "execution_count": 187,
      "outputs": [
        {
          "output_type": "execute_result",
          "data": {
            "text/html": [
              "<div>\n",
              "<style scoped>\n",
              "    .dataframe tbody tr th:only-of-type {\n",
              "        vertical-align: middle;\n",
              "    }\n",
              "\n",
              "    .dataframe tbody tr th {\n",
              "        vertical-align: top;\n",
              "    }\n",
              "\n",
              "    .dataframe thead th {\n",
              "        text-align: right;\n",
              "    }\n",
              "</style>\n",
              "<table border=\"1\" class=\"dataframe\">\n",
              "  <thead>\n",
              "    <tr style=\"text-align: right;\">\n",
              "      <th></th>\n",
              "      <th>title</th>\n",
              "      <th>year</th>\n",
              "      <th>name</th>\n",
              "      <th>type</th>\n",
              "      <th>character</th>\n",
              "      <th>n</th>\n",
              "    </tr>\n",
              "  </thead>\n",
              "  <tbody>\n",
              "    <tr>\n",
              "      <th>25954</th>\n",
              "      <td>Theeb</td>\n",
              "      <td>2014</td>\n",
              "      <td>Hassan Mutlag Al-Maraiyeh</td>\n",
              "      <td>actor</td>\n",
              "      <td>The Stranger</td>\n",
              "      <td>2.0</td>\n",
              "    </tr>\n",
              "    <tr>\n",
              "      <th>35748</th>\n",
              "      <td>My Time to Die</td>\n",
              "      <td>2014</td>\n",
              "      <td>Vincent H. Alexander</td>\n",
              "      <td>actor</td>\n",
              "      <td>The Stranger</td>\n",
              "      <td>2.0</td>\n",
              "    </tr>\n",
              "    <tr>\n",
              "      <th>46418</th>\n",
              "      <td>Hickok</td>\n",
              "      <td>2017</td>\n",
              "      <td>Terral Altom</td>\n",
              "      <td>actor</td>\n",
              "      <td>The Stranger</td>\n",
              "      <td>NaN</td>\n",
              "    </tr>\n",
              "    <tr>\n",
              "      <th>67421</th>\n",
              "      <td>Get Mean</td>\n",
              "      <td>1975</td>\n",
              "      <td>Tony Anthony</td>\n",
              "      <td>actor</td>\n",
              "      <td>The Stranger</td>\n",
              "      <td>1.0</td>\n",
              "    </tr>\n",
              "    <tr>\n",
              "      <th>67424</th>\n",
              "      <td>Lo straniero di silenzio</td>\n",
              "      <td>1968</td>\n",
              "      <td>Tony Anthony</td>\n",
              "      <td>actor</td>\n",
              "      <td>The Stranger</td>\n",
              "      <td>1.0</td>\n",
              "    </tr>\n",
              "    <tr>\n",
              "      <th>...</th>\n",
              "      <td>...</td>\n",
              "      <td>...</td>\n",
              "      <td>...</td>\n",
              "      <td>...</td>\n",
              "      <td>...</td>\n",
              "      <td>...</td>\n",
              "    </tr>\n",
              "    <tr>\n",
              "      <th>1458044</th>\n",
              "      <td>uk18</td>\n",
              "      <td>2017</td>\n",
              "      <td>Simon (VIII) Mason</td>\n",
              "      <td>actor</td>\n",
              "      <td>The Stranger</td>\n",
              "      <td>21.0</td>\n",
              "    </tr>\n",
              "    <tr>\n",
              "      <th>1492101</th>\n",
              "      <td>A Gothic Tale</td>\n",
              "      <td>2008</td>\n",
              "      <td>Ryan McGivern</td>\n",
              "      <td>actor</td>\n",
              "      <td>The Stranger</td>\n",
              "      <td>4.0</td>\n",
              "    </tr>\n",
              "    <tr>\n",
              "      <th>1493351</th>\n",
              "      <td>The Bethany Witch</td>\n",
              "      <td>2012</td>\n",
              "      <td>Aaron McGrane</td>\n",
              "      <td>actor</td>\n",
              "      <td>The Stranger</td>\n",
              "      <td>NaN</td>\n",
              "    </tr>\n",
              "    <tr>\n",
              "      <th>1505567</th>\n",
              "      <td>Campbell's Kingdom</td>\n",
              "      <td>1957</td>\n",
              "      <td>Richard (II) McNamara</td>\n",
              "      <td>actor</td>\n",
              "      <td>The Stranger</td>\n",
              "      <td>NaN</td>\n",
              "    </tr>\n",
              "    <tr>\n",
              "      <th>1541204</th>\n",
              "      <td>Se sei vivo spara</td>\n",
              "      <td>1967</td>\n",
              "      <td>Tomas Milian</td>\n",
              "      <td>actor</td>\n",
              "      <td>The Stranger</td>\n",
              "      <td>1.0</td>\n",
              "    </tr>\n",
              "  </tbody>\n",
              "</table>\n",
              "<p>121 rows × 6 columns</p>\n",
              "</div>"
            ],
            "text/plain": [
              "                            title  year  ...     character     n\n",
              "25954                       Theeb  2014  ...  The Stranger   2.0\n",
              "35748              My Time to Die  2014  ...  The Stranger   2.0\n",
              "46418                      Hickok  2017  ...  The Stranger   NaN\n",
              "67421                    Get Mean  1975  ...  The Stranger   1.0\n",
              "67424    Lo straniero di silenzio  1968  ...  The Stranger   1.0\n",
              "...                           ...   ...  ...           ...   ...\n",
              "1458044                      uk18  2017  ...  The Stranger  21.0\n",
              "1492101             A Gothic Tale  2008  ...  The Stranger   4.0\n",
              "1493351         The Bethany Witch  2012  ...  The Stranger   NaN\n",
              "1505567        Campbell's Kingdom  1957  ...  The Stranger   NaN\n",
              "1541204         Se sei vivo spara  1967  ...  The Stranger   1.0\n",
              "\n",
              "[121 rows x 6 columns]"
            ]
          },
          "metadata": {
            "tags": []
          },
          "execution_count": 187
        }
      ]
    },
    {
      "cell_type": "code",
      "metadata": {
        "id": "wyM83wRiJZeT",
        "colab_type": "code",
        "colab": {
          "base_uri": "https://localhost:8080/",
          "height": 34
        },
        "outputId": "90bb38b3-3ca6-4c62-bda1-8bb81f093c2a"
      },
      "source": [
        "char=char.iloc[:, 4]\n",
        "len(char)"
      ],
      "execution_count": 188,
      "outputs": [
        {
          "output_type": "execute_result",
          "data": {
            "text/plain": [
              "121"
            ]
          },
          "metadata": {
            "tags": []
          },
          "execution_count": 188
        }
      ]
    },
    {
      "cell_type": "markdown",
      "metadata": {
        "collapsed": true,
        "id": "Z31lY1JwJZee",
        "colab_type": "text"
      },
      "source": [
        "### How many roles has Sidney Poitier played throughout his career?"
      ]
    },
    {
      "cell_type": "code",
      "metadata": {
        "id": "Q-vncfzzJZef",
        "colab_type": "code",
        "colab": {
          "base_uri": "https://localhost:8080/",
          "height": 77
        },
        "outputId": "e6b61199-36b7-4702-974b-2b74347c26a3"
      },
      "source": [
        "char=cast[cast.character == 'Sidney Poitier']\n",
        "char"
      ],
      "execution_count": 189,
      "outputs": [
        {
          "output_type": "execute_result",
          "data": {
            "text/html": [
              "<div>\n",
              "<style scoped>\n",
              "    .dataframe tbody tr th:only-of-type {\n",
              "        vertical-align: middle;\n",
              "    }\n",
              "\n",
              "    .dataframe tbody tr th {\n",
              "        vertical-align: top;\n",
              "    }\n",
              "\n",
              "    .dataframe thead th {\n",
              "        text-align: right;\n",
              "    }\n",
              "</style>\n",
              "<table border=\"1\" class=\"dataframe\">\n",
              "  <thead>\n",
              "    <tr style=\"text-align: right;\">\n",
              "      <th></th>\n",
              "      <th>title</th>\n",
              "      <th>year</th>\n",
              "      <th>name</th>\n",
              "      <th>type</th>\n",
              "      <th>character</th>\n",
              "      <th>n</th>\n",
              "    </tr>\n",
              "  </thead>\n",
              "  <tbody>\n",
              "    <tr>\n",
              "      <th>359366</th>\n",
              "      <td>Brando Unauthorized</td>\n",
              "      <td>2011</td>\n",
              "      <td>Keenan Carter</td>\n",
              "      <td>actor</td>\n",
              "      <td>Sidney Poitier</td>\n",
              "      <td>NaN</td>\n",
              "    </tr>\n",
              "  </tbody>\n",
              "</table>\n",
              "</div>"
            ],
            "text/plain": [
              "                      title  year           name   type       character   n\n",
              "359366  Brando Unauthorized  2011  Keenan Carter  actor  Sidney Poitier NaN"
            ]
          },
          "metadata": {
            "tags": []
          },
          "execution_count": 189
        }
      ]
    },
    {
      "cell_type": "code",
      "metadata": {
        "id": "QzCLj_4hJZeo",
        "colab_type": "code",
        "colab": {
          "base_uri": "https://localhost:8080/",
          "height": 34
        },
        "outputId": "f9e79bd1-87d6-426f-8cd4-06e357126c34"
      },
      "source": [
        "char=char.iloc[:, 4]\n",
        "len(char)"
      ],
      "execution_count": 190,
      "outputs": [
        {
          "output_type": "execute_result",
          "data": {
            "text/plain": [
              "1"
            ]
          },
          "metadata": {
            "tags": []
          },
          "execution_count": 190
        }
      ]
    },
    {
      "cell_type": "markdown",
      "metadata": {
        "collapsed": true,
        "id": "jKGV6pDVJZew",
        "colab_type": "text"
      },
      "source": [
        "### How many roles has Judi Dench played?"
      ]
    },
    {
      "cell_type": "code",
      "metadata": {
        "id": "2O6F0F2uJZey",
        "colab_type": "code",
        "colab": {
          "base_uri": "https://localhost:8080/",
          "height": 47
        },
        "outputId": "1e119368-510a-41ac-e88a-36a164ada220"
      },
      "source": [
        "char=cast[cast.character == 'Judi Dench']\n",
        "char"
      ],
      "execution_count": 194,
      "outputs": [
        {
          "output_type": "execute_result",
          "data": {
            "text/html": [
              "<div>\n",
              "<style scoped>\n",
              "    .dataframe tbody tr th:only-of-type {\n",
              "        vertical-align: middle;\n",
              "    }\n",
              "\n",
              "    .dataframe tbody tr th {\n",
              "        vertical-align: top;\n",
              "    }\n",
              "\n",
              "    .dataframe thead th {\n",
              "        text-align: right;\n",
              "    }\n",
              "</style>\n",
              "<table border=\"1\" class=\"dataframe\">\n",
              "  <thead>\n",
              "    <tr style=\"text-align: right;\">\n",
              "      <th></th>\n",
              "      <th>title</th>\n",
              "      <th>year</th>\n",
              "      <th>name</th>\n",
              "      <th>type</th>\n",
              "      <th>character</th>\n",
              "      <th>n</th>\n",
              "    </tr>\n",
              "  </thead>\n",
              "  <tbody>\n",
              "  </tbody>\n",
              "</table>\n",
              "</div>"
            ],
            "text/plain": [
              "Empty DataFrame\n",
              "Columns: [title, year, name, type, character, n]\n",
              "Index: []"
            ]
          },
          "metadata": {
            "tags": []
          },
          "execution_count": 194
        }
      ]
    },
    {
      "cell_type": "markdown",
      "metadata": {
        "collapsed": true,
        "id": "P5-lAu9SJZfI",
        "colab_type": "text"
      },
      "source": [
        "### List the supporting roles (having n=2) played by Cary Grant in the 1940s, in order by year."
      ]
    },
    {
      "cell_type": "code",
      "metadata": {
        "id": "JdY0JGVuJZfJ",
        "colab_type": "code",
        "colab": {
          "base_uri": "https://localhost:8080/",
          "height": 77
        },
        "outputId": "466a6255-2df8-422f-cd5e-1bcc8d635d45"
      },
      "source": [
        "cast[(cast.name == 'Cary Grant') & (cast.year == 1940) &  (cast.n == 2)]"
      ],
      "execution_count": 214,
      "outputs": [
        {
          "output_type": "execute_result",
          "data": {
            "text/html": [
              "<div>\n",
              "<style scoped>\n",
              "    .dataframe tbody tr th:only-of-type {\n",
              "        vertical-align: middle;\n",
              "    }\n",
              "\n",
              "    .dataframe tbody tr th {\n",
              "        vertical-align: top;\n",
              "    }\n",
              "\n",
              "    .dataframe thead th {\n",
              "        text-align: right;\n",
              "    }\n",
              "</style>\n",
              "<table border=\"1\" class=\"dataframe\">\n",
              "  <thead>\n",
              "    <tr style=\"text-align: right;\">\n",
              "      <th></th>\n",
              "      <th>title</th>\n",
              "      <th>year</th>\n",
              "      <th>name</th>\n",
              "      <th>type</th>\n",
              "      <th>character</th>\n",
              "      <th>n</th>\n",
              "    </tr>\n",
              "  </thead>\n",
              "  <tbody>\n",
              "    <tr>\n",
              "      <th>871423</th>\n",
              "      <td>My Favorite Wife</td>\n",
              "      <td>1940</td>\n",
              "      <td>Cary Grant</td>\n",
              "      <td>actor</td>\n",
              "      <td>Nick Arden</td>\n",
              "      <td>2.0</td>\n",
              "    </tr>\n",
              "  </tbody>\n",
              "</table>\n",
              "</div>"
            ],
            "text/plain": [
              "                   title  year        name   type   character    n\n",
              "871423  My Favorite Wife  1940  Cary Grant  actor  Nick Arden  2.0"
            ]
          },
          "metadata": {
            "tags": []
          },
          "execution_count": 214
        }
      ]
    },
    {
      "cell_type": "markdown",
      "metadata": {
        "collapsed": true,
        "id": "Mkv01ehLJZfh",
        "colab_type": "text"
      },
      "source": [
        "### List the leading roles that Cary Grant played in the 1940s in order by year."
      ]
    },
    {
      "cell_type": "code",
      "metadata": {
        "id": "oJKsiGGSJZfi",
        "colab_type": "code",
        "colab": {
          "base_uri": "https://localhost:8080/",
          "height": 167
        },
        "outputId": "8d7072f7-f367-4375-813a-a4f80c509a1a"
      },
      "source": [
        "cast[(cast.name == 'Cary Grant') & (cast.year == 1940)]"
      ],
      "execution_count": 215,
      "outputs": [
        {
          "output_type": "execute_result",
          "data": {
            "text/html": [
              "<div>\n",
              "<style scoped>\n",
              "    .dataframe tbody tr th:only-of-type {\n",
              "        vertical-align: middle;\n",
              "    }\n",
              "\n",
              "    .dataframe tbody tr th {\n",
              "        vertical-align: top;\n",
              "    }\n",
              "\n",
              "    .dataframe thead th {\n",
              "        text-align: right;\n",
              "    }\n",
              "</style>\n",
              "<table border=\"1\" class=\"dataframe\">\n",
              "  <thead>\n",
              "    <tr style=\"text-align: right;\">\n",
              "      <th></th>\n",
              "      <th>title</th>\n",
              "      <th>year</th>\n",
              "      <th>name</th>\n",
              "      <th>type</th>\n",
              "      <th>character</th>\n",
              "      <th>n</th>\n",
              "    </tr>\n",
              "  </thead>\n",
              "  <tbody>\n",
              "    <tr>\n",
              "      <th>871407</th>\n",
              "      <td>His Girl Friday</td>\n",
              "      <td>1940</td>\n",
              "      <td>Cary Grant</td>\n",
              "      <td>actor</td>\n",
              "      <td>Walter Burns</td>\n",
              "      <td>1.0</td>\n",
              "    </tr>\n",
              "    <tr>\n",
              "      <th>871423</th>\n",
              "      <td>My Favorite Wife</td>\n",
              "      <td>1940</td>\n",
              "      <td>Cary Grant</td>\n",
              "      <td>actor</td>\n",
              "      <td>Nick Arden</td>\n",
              "      <td>2.0</td>\n",
              "    </tr>\n",
              "    <tr>\n",
              "      <th>871448</th>\n",
              "      <td>The Howards of Virginia</td>\n",
              "      <td>1940</td>\n",
              "      <td>Cary Grant</td>\n",
              "      <td>actor</td>\n",
              "      <td>Matt Howard</td>\n",
              "      <td>1.0</td>\n",
              "    </tr>\n",
              "    <tr>\n",
              "      <th>871450</th>\n",
              "      <td>The Philadelphia Story</td>\n",
              "      <td>1940</td>\n",
              "      <td>Cary Grant</td>\n",
              "      <td>actor</td>\n",
              "      <td>C. K. Dexter Haven</td>\n",
              "      <td>1.0</td>\n",
              "    </tr>\n",
              "  </tbody>\n",
              "</table>\n",
              "</div>"
            ],
            "text/plain": [
              "                          title  year  ...           character    n\n",
              "871407          His Girl Friday  1940  ...        Walter Burns  1.0\n",
              "871423         My Favorite Wife  1940  ...          Nick Arden  2.0\n",
              "871448  The Howards of Virginia  1940  ...         Matt Howard  1.0\n",
              "871450   The Philadelphia Story  1940  ...  C. K. Dexter Haven  1.0\n",
              "\n",
              "[4 rows x 6 columns]"
            ]
          },
          "metadata": {
            "tags": []
          },
          "execution_count": 215
        }
      ]
    },
    {
      "cell_type": "markdown",
      "metadata": {
        "collapsed": true,
        "id": "dzH3a5S4JZfx",
        "colab_type": "text"
      },
      "source": [
        "### How many roles were available for actors in the 1950s?"
      ]
    },
    {
      "cell_type": "code",
      "metadata": {
        "id": "9GGF_5NKJZfz",
        "colab_type": "code",
        "colab": {
          "base_uri": "https://localhost:8080/",
          "height": 406
        },
        "outputId": "31bc6f4a-5d86-42a7-edbd-4bcf9f23ca91"
      },
      "source": [
        "role=cast[cast.year == 1950]\n",
        "role"
      ],
      "execution_count": 224,
      "outputs": [
        {
          "output_type": "execute_result",
          "data": {
            "text/html": [
              "<div>\n",
              "<style scoped>\n",
              "    .dataframe tbody tr th:only-of-type {\n",
              "        vertical-align: middle;\n",
              "    }\n",
              "\n",
              "    .dataframe tbody tr th {\n",
              "        vertical-align: top;\n",
              "    }\n",
              "\n",
              "    .dataframe thead th {\n",
              "        text-align: right;\n",
              "    }\n",
              "</style>\n",
              "<table border=\"1\" class=\"dataframe\">\n",
              "  <thead>\n",
              "    <tr style=\"text-align: right;\">\n",
              "      <th></th>\n",
              "      <th>title</th>\n",
              "      <th>year</th>\n",
              "      <th>name</th>\n",
              "      <th>type</th>\n",
              "      <th>character</th>\n",
              "      <th>n</th>\n",
              "    </tr>\n",
              "  </thead>\n",
              "  <tbody>\n",
              "    <tr>\n",
              "      <th>288</th>\n",
              "      <td>Palletoori Pilla</td>\n",
              "      <td>1950</td>\n",
              "      <td>Subba Rao A.V.</td>\n",
              "      <td>actor</td>\n",
              "      <td>Kampanna Dora</td>\n",
              "      <td>4.0</td>\n",
              "    </tr>\n",
              "    <tr>\n",
              "      <th>465</th>\n",
              "      <td>Hallin Janne</td>\n",
              "      <td>1950</td>\n",
              "      <td>Kosti Aaltonen</td>\n",
              "      <td>actor</td>\n",
              "      <td>Rosvo</td>\n",
              "      <td>NaN</td>\n",
              "    </tr>\n",
              "    <tr>\n",
              "      <th>466</th>\n",
              "      <td>Hallin Janne</td>\n",
              "      <td>1950</td>\n",
              "      <td>Kosti Aaltonen</td>\n",
              "      <td>actor</td>\n",
              "      <td>Vartija</td>\n",
              "      <td>NaN</td>\n",
              "    </tr>\n",
              "    <tr>\n",
              "      <th>1564</th>\n",
              "      <td>Bomba and the Hidden City</td>\n",
              "      <td>1950</td>\n",
              "      <td>Abdullah Abbas</td>\n",
              "      <td>actor</td>\n",
              "      <td>Villager</td>\n",
              "      <td>NaN</td>\n",
              "    </tr>\n",
              "    <tr>\n",
              "      <th>1572</th>\n",
              "      <td>Fortunes of Captain Blood</td>\n",
              "      <td>1950</td>\n",
              "      <td>Abdullah Abbas</td>\n",
              "      <td>actor</td>\n",
              "      <td>Crew Member</td>\n",
              "      <td>NaN</td>\n",
              "    </tr>\n",
              "    <tr>\n",
              "      <th>...</th>\n",
              "      <td>...</td>\n",
              "      <td>...</td>\n",
              "      <td>...</td>\n",
              "      <td>...</td>\n",
              "      <td>...</td>\n",
              "      <td>...</td>\n",
              "    </tr>\n",
              "    <tr>\n",
              "      <th>1563712</th>\n",
              "      <td>The Cariboo Trail</td>\n",
              "      <td>1950</td>\n",
              "      <td>Kansas Moehring</td>\n",
              "      <td>actor</td>\n",
              "      <td>Stage Driver</td>\n",
              "      <td>19.0</td>\n",
              "    </tr>\n",
              "    <tr>\n",
              "      <th>1563718</th>\n",
              "      <td>The Flame and the Arrow</td>\n",
              "      <td>1950</td>\n",
              "      <td>Kansas Moehring</td>\n",
              "      <td>actor</td>\n",
              "      <td>Guard</td>\n",
              "      <td>NaN</td>\n",
              "    </tr>\n",
              "    <tr>\n",
              "      <th>1564048</th>\n",
              "      <td>The Second Mate</td>\n",
              "      <td>1950</td>\n",
              "      <td>Graham Moffatt</td>\n",
              "      <td>actor</td>\n",
              "      <td>Paddy</td>\n",
              "      <td>2.0</td>\n",
              "    </tr>\n",
              "    <tr>\n",
              "      <th>1564136</th>\n",
              "      <td>Let's Dance</td>\n",
              "      <td>1950</td>\n",
              "      <td>Gregory Moffett</td>\n",
              "      <td>actor</td>\n",
              "      <td>Richard 'Richie' Everett</td>\n",
              "      <td>6.0</td>\n",
              "    </tr>\n",
              "    <tr>\n",
              "      <th>1564138</th>\n",
              "      <td>Saddle Tramp</td>\n",
              "      <td>1950</td>\n",
              "      <td>Gregory Moffett</td>\n",
              "      <td>actor</td>\n",
              "      <td>Butch</td>\n",
              "      <td>11.0</td>\n",
              "    </tr>\n",
              "  </tbody>\n",
              "</table>\n",
              "<p>10451 rows × 6 columns</p>\n",
              "</div>"
            ],
            "text/plain": [
              "                             title  year  ...                 character     n\n",
              "288               Palletoori Pilla  1950  ...             Kampanna Dora   4.0\n",
              "465                   Hallin Janne  1950  ...                     Rosvo   NaN\n",
              "466                   Hallin Janne  1950  ...                   Vartija   NaN\n",
              "1564     Bomba and the Hidden City  1950  ...                  Villager   NaN\n",
              "1572     Fortunes of Captain Blood  1950  ...               Crew Member   NaN\n",
              "...                            ...   ...  ...                       ...   ...\n",
              "1563712          The Cariboo Trail  1950  ...              Stage Driver  19.0\n",
              "1563718    The Flame and the Arrow  1950  ...                     Guard   NaN\n",
              "1564048            The Second Mate  1950  ...                     Paddy   2.0\n",
              "1564136                Let's Dance  1950  ...  Richard 'Richie' Everett   6.0\n",
              "1564138               Saddle Tramp  1950  ...                     Butch  11.0\n",
              "\n",
              "[10451 rows x 6 columns]"
            ]
          },
          "metadata": {
            "tags": []
          },
          "execution_count": 224
        }
      ]
    },
    {
      "cell_type": "code",
      "metadata": {
        "id": "twz2t4-8Vdpc",
        "colab_type": "code",
        "colab": {
          "base_uri": "https://localhost:8080/",
          "height": 34
        },
        "outputId": "e69a7a2a-44e3-435a-80fc-d5927522a2c1"
      },
      "source": [
        "role=len(role.name)\n",
        "role"
      ],
      "execution_count": 225,
      "outputs": [
        {
          "output_type": "execute_result",
          "data": {
            "text/plain": [
              "10451"
            ]
          },
          "metadata": {
            "tags": []
          },
          "execution_count": 225
        }
      ]
    },
    {
      "cell_type": "markdown",
      "metadata": {
        "collapsed": true,
        "id": "wULauRZIJZgE",
        "colab_type": "text"
      },
      "source": [
        "### How many roles were available for actresses in the 1950s?"
      ]
    },
    {
      "cell_type": "code",
      "metadata": {
        "id": "OM6C6_wHJZgG",
        "colab_type": "code",
        "colab": {
          "base_uri": "https://localhost:8080/",
          "height": 47
        },
        "outputId": "947786ec-f3b5-4b87-d2fa-0339a4660cbb"
      },
      "source": [
        "role=cast[(cast.year == 1950) & (cast.type == 'actresses')]\n",
        "role"
      ],
      "execution_count": 234,
      "outputs": [
        {
          "output_type": "execute_result",
          "data": {
            "text/html": [
              "<div>\n",
              "<style scoped>\n",
              "    .dataframe tbody tr th:only-of-type {\n",
              "        vertical-align: middle;\n",
              "    }\n",
              "\n",
              "    .dataframe tbody tr th {\n",
              "        vertical-align: top;\n",
              "    }\n",
              "\n",
              "    .dataframe thead th {\n",
              "        text-align: right;\n",
              "    }\n",
              "</style>\n",
              "<table border=\"1\" class=\"dataframe\">\n",
              "  <thead>\n",
              "    <tr style=\"text-align: right;\">\n",
              "      <th></th>\n",
              "      <th>title</th>\n",
              "      <th>year</th>\n",
              "      <th>name</th>\n",
              "      <th>type</th>\n",
              "      <th>character</th>\n",
              "      <th>n</th>\n",
              "    </tr>\n",
              "  </thead>\n",
              "  <tbody>\n",
              "  </tbody>\n",
              "</table>\n",
              "</div>"
            ],
            "text/plain": [
              "Empty DataFrame\n",
              "Columns: [title, year, name, type, character, n]\n",
              "Index: []"
            ]
          },
          "metadata": {
            "tags": []
          },
          "execution_count": 234
        }
      ]
    },
    {
      "cell_type": "code",
      "metadata": {
        "id": "cb9tDpTIWgsR",
        "colab_type": "code",
        "colab": {
          "base_uri": "https://localhost:8080/",
          "height": 34
        },
        "outputId": "4825a86a-56b4-459b-8a92-b5509cebbcc9"
      },
      "source": [
        "role=len(role.type)\n",
        "role"
      ],
      "execution_count": 235,
      "outputs": [
        {
          "output_type": "execute_result",
          "data": {
            "text/plain": [
              "0"
            ]
          },
          "metadata": {
            "tags": []
          },
          "execution_count": 235
        }
      ]
    },
    {
      "cell_type": "markdown",
      "metadata": {
        "collapsed": true,
        "id": "n_3UQ00SJZgX",
        "colab_type": "text"
      },
      "source": [
        "### How many leading roles (n=1) were available from the beginning of film history through 1980?"
      ]
    },
    {
      "cell_type": "code",
      "metadata": {
        "id": "YpnWnikqJZgY",
        "colab_type": "code",
        "colab": {
          "base_uri": "https://localhost:8080/",
          "height": 406
        },
        "outputId": "f53545ea-a6b0-47fa-ba64-3168f8e906fc"
      },
      "source": [
        "role=cast[(cast.year == 1980) & (cast.n == 1)]\n",
        "role"
      ],
      "execution_count": 237,
      "outputs": [
        {
          "output_type": "execute_result",
          "data": {
            "text/html": [
              "<div>\n",
              "<style scoped>\n",
              "    .dataframe tbody tr th:only-of-type {\n",
              "        vertical-align: middle;\n",
              "    }\n",
              "\n",
              "    .dataframe tbody tr th {\n",
              "        vertical-align: top;\n",
              "    }\n",
              "\n",
              "    .dataframe thead th {\n",
              "        text-align: right;\n",
              "    }\n",
              "</style>\n",
              "<table border=\"1\" class=\"dataframe\">\n",
              "  <thead>\n",
              "    <tr style=\"text-align: right;\">\n",
              "      <th></th>\n",
              "      <th>title</th>\n",
              "      <th>year</th>\n",
              "      <th>name</th>\n",
              "      <th>type</th>\n",
              "      <th>character</th>\n",
              "      <th>n</th>\n",
              "    </tr>\n",
              "  </thead>\n",
              "  <tbody>\n",
              "    <tr>\n",
              "      <th>1293</th>\n",
              "      <td>Il pap'occhio</td>\n",
              "      <td>1980</td>\n",
              "      <td>Diego Abatantuono</td>\n",
              "      <td>actor</td>\n",
              "      <td>Padre Gabriele</td>\n",
              "      <td>1.0</td>\n",
              "    </tr>\n",
              "    <tr>\n",
              "      <th>1452</th>\n",
              "      <td>Athkiya' laken aghbiya'</td>\n",
              "      <td>1980</td>\n",
              "      <td>Rushdy Abaza</td>\n",
              "      <td>actor</td>\n",
              "      <td>Hamdi</td>\n",
              "      <td>1.0</td>\n",
              "    </tr>\n",
              "    <tr>\n",
              "      <th>2543</th>\n",
              "      <td>El Banat Ayza Eih</td>\n",
              "      <td>1980</td>\n",
              "      <td>Mahmoud Abdel Aziz</td>\n",
              "      <td>actor</td>\n",
              "      <td>Kamal</td>\n",
              "      <td>1.0</td>\n",
              "    </tr>\n",
              "    <tr>\n",
              "      <th>2558</th>\n",
              "      <td>X Ma'anah Alamt Khata</td>\n",
              "      <td>1980</td>\n",
              "      <td>Mahmoud Abdel Aziz</td>\n",
              "      <td>actor</td>\n",
              "      <td>Ramzy</td>\n",
              "      <td>1.0</td>\n",
              "    </tr>\n",
              "    <tr>\n",
              "      <th>2971</th>\n",
              "      <td>Airplane!</td>\n",
              "      <td>1980</td>\n",
              "      <td>Kareem Abdul-Jabbar</td>\n",
              "      <td>actor</td>\n",
              "      <td>Roger Murdock</td>\n",
              "      <td>1.0</td>\n",
              "    </tr>\n",
              "    <tr>\n",
              "      <th>...</th>\n",
              "      <td>...</td>\n",
              "      <td>...</td>\n",
              "      <td>...</td>\n",
              "      <td>...</td>\n",
              "      <td>...</td>\n",
              "      <td>...</td>\n",
              "    </tr>\n",
              "    <tr>\n",
              "      <th>1559346</th>\n",
              "      <td>Monster</td>\n",
              "      <td>1980</td>\n",
              "      <td>James Mitchum</td>\n",
              "      <td>actor</td>\n",
              "      <td>Travis</td>\n",
              "      <td>1.0</td>\n",
              "    </tr>\n",
              "    <tr>\n",
              "      <th>1559442</th>\n",
              "      <td>Agency</td>\n",
              "      <td>1980</td>\n",
              "      <td>Robert Mitchum</td>\n",
              "      <td>actor</td>\n",
              "      <td>Ted Quinn</td>\n",
              "      <td>1.0</td>\n",
              "    </tr>\n",
              "    <tr>\n",
              "      <th>1559779</th>\n",
              "      <td>Bancharamer Bagan</td>\n",
              "      <td>1980</td>\n",
              "      <td>Manoj Mitra</td>\n",
              "      <td>actor</td>\n",
              "      <td>Bancharam</td>\n",
              "      <td>1.0</td>\n",
              "    </tr>\n",
              "    <tr>\n",
              "      <th>1561944</th>\n",
              "      <td>Ktor me yerkinq</td>\n",
              "      <td>1980</td>\n",
              "      <td>Mher Mkrtchyan</td>\n",
              "      <td>actor</td>\n",
              "      <td>Grigor-agha</td>\n",
              "      <td>1.0</td>\n",
              "    </tr>\n",
              "    <tr>\n",
              "      <th>1563974</th>\n",
              "      <td>On the Nickel</td>\n",
              "      <td>1980</td>\n",
              "      <td>Donald Moffat</td>\n",
              "      <td>actor</td>\n",
              "      <td>Sam</td>\n",
              "      <td>1.0</td>\n",
              "    </tr>\n",
              "  </tbody>\n",
              "</table>\n",
              "<p>519 rows × 6 columns</p>\n",
              "</div>"
            ],
            "text/plain": [
              "                           title  year  ...       character    n\n",
              "1293               Il pap'occhio  1980  ...  Padre Gabriele  1.0\n",
              "1452     Athkiya' laken aghbiya'  1980  ...           Hamdi  1.0\n",
              "2543           El Banat Ayza Eih  1980  ...           Kamal  1.0\n",
              "2558       X Ma'anah Alamt Khata  1980  ...           Ramzy  1.0\n",
              "2971                   Airplane!  1980  ...   Roger Murdock  1.0\n",
              "...                          ...   ...  ...             ...  ...\n",
              "1559346                  Monster  1980  ...          Travis  1.0\n",
              "1559442                   Agency  1980  ...       Ted Quinn  1.0\n",
              "1559779        Bancharamer Bagan  1980  ...       Bancharam  1.0\n",
              "1561944          Ktor me yerkinq  1980  ...     Grigor-agha  1.0\n",
              "1563974            On the Nickel  1980  ...             Sam  1.0\n",
              "\n",
              "[519 rows x 6 columns]"
            ]
          },
          "metadata": {
            "tags": []
          },
          "execution_count": 237
        }
      ]
    },
    {
      "cell_type": "markdown",
      "metadata": {
        "collapsed": true,
        "id": "5BfhMhntJZgm",
        "colab_type": "text"
      },
      "source": [
        "### How many non-leading roles were available through from the beginning of film history through 1980?"
      ]
    },
    {
      "cell_type": "code",
      "metadata": {
        "id": "ql7NCpzQJZgo",
        "colab_type": "code",
        "colab": {
          "base_uri": "https://localhost:8080/",
          "height": 406
        },
        "outputId": "8b21e315-c293-4a95-cad6-0778378448ef"
      },
      "source": [
        "role=cast[(cast.year == 1980) & (cast.n > 1)]\n",
        "role"
      ],
      "execution_count": 246,
      "outputs": [
        {
          "output_type": "execute_result",
          "data": {
            "text/html": [
              "<div>\n",
              "<style scoped>\n",
              "    .dataframe tbody tr th:only-of-type {\n",
              "        vertical-align: middle;\n",
              "    }\n",
              "\n",
              "    .dataframe tbody tr th {\n",
              "        vertical-align: top;\n",
              "    }\n",
              "\n",
              "    .dataframe thead th {\n",
              "        text-align: right;\n",
              "    }\n",
              "</style>\n",
              "<table border=\"1\" class=\"dataframe\">\n",
              "  <thead>\n",
              "    <tr style=\"text-align: right;\">\n",
              "      <th></th>\n",
              "      <th>title</th>\n",
              "      <th>year</th>\n",
              "      <th>name</th>\n",
              "      <th>type</th>\n",
              "      <th>character</th>\n",
              "      <th>n</th>\n",
              "    </tr>\n",
              "  </thead>\n",
              "  <tbody>\n",
              "    <tr>\n",
              "      <th>197</th>\n",
              "      <td>Cheech and Chong's Next Movie</td>\n",
              "      <td>1980</td>\n",
              "      <td>Bobby A.</td>\n",
              "      <td>actor</td>\n",
              "      <td>Doorman</td>\n",
              "      <td>33.0</td>\n",
              "    </tr>\n",
              "    <tr>\n",
              "      <th>459</th>\n",
              "      <td>Aurinkotuuli</td>\n",
              "      <td>1980</td>\n",
              "      <td>Jouko Aaltonen</td>\n",
              "      <td>actor</td>\n",
              "      <td>Man on lecture</td>\n",
              "      <td>12.0</td>\n",
              "    </tr>\n",
              "    <tr>\n",
              "      <th>641</th>\n",
              "      <td>Raging Bull</td>\n",
              "      <td>1980</td>\n",
              "      <td>Bob Aaron</td>\n",
              "      <td>actor</td>\n",
              "      <td>Prison Guard #1</td>\n",
              "      <td>86.0</td>\n",
              "    </tr>\n",
              "    <tr>\n",
              "      <th>1264</th>\n",
              "      <td>Arrivano i gatti</td>\n",
              "      <td>1980</td>\n",
              "      <td>Diego Abatantuono</td>\n",
              "      <td>actor</td>\n",
              "      <td>Felice</td>\n",
              "      <td>10.0</td>\n",
              "    </tr>\n",
              "    <tr>\n",
              "      <th>1278</th>\n",
              "      <td>Fantozzi contro tutti</td>\n",
              "      <td>1980</td>\n",
              "      <td>Diego Abatantuono</td>\n",
              "      <td>actor</td>\n",
              "      <td>Cecco, il nipote del fornaio</td>\n",
              "      <td>9.0</td>\n",
              "    </tr>\n",
              "    <tr>\n",
              "      <th>...</th>\n",
              "      <td>...</td>\n",
              "      <td>...</td>\n",
              "      <td>...</td>\n",
              "      <td>...</td>\n",
              "      <td>...</td>\n",
              "      <td>...</td>\n",
              "    </tr>\n",
              "    <tr>\n",
              "      <th>1564931</th>\n",
              "      <td>Qurbani</td>\n",
              "      <td>1980</td>\n",
              "      <td>Mac Mohan</td>\n",
              "      <td>actor</td>\n",
              "      <td>Mac</td>\n",
              "      <td>12.0</td>\n",
              "    </tr>\n",
              "    <tr>\n",
              "      <th>1564947</th>\n",
              "      <td>Sitara</td>\n",
              "      <td>1980</td>\n",
              "      <td>Mac Mohan</td>\n",
              "      <td>actor</td>\n",
              "      <td>Himself</td>\n",
              "      <td>7.0</td>\n",
              "    </tr>\n",
              "    <tr>\n",
              "      <th>1564951</th>\n",
              "      <td>Takkar</td>\n",
              "      <td>1980</td>\n",
              "      <td>Mac Mohan</td>\n",
              "      <td>actor</td>\n",
              "      <td>Ranjeet's hood</td>\n",
              "      <td>10.0</td>\n",
              "    </tr>\n",
              "    <tr>\n",
              "      <th>1565090</th>\n",
              "      <td>Lootmaar</td>\n",
              "      <td>1980</td>\n",
              "      <td>Ram Mohan</td>\n",
              "      <td>actor</td>\n",
              "      <td>Police Inspector</td>\n",
              "      <td>15.0</td>\n",
              "    </tr>\n",
              "    <tr>\n",
              "      <th>1565358</th>\n",
              "      <td>Manjil Virinja Pookkal</td>\n",
              "      <td>1980</td>\n",
              "      <td>Mohanlal</td>\n",
              "      <td>actor</td>\n",
              "      <td>Narendran</td>\n",
              "      <td>3.0</td>\n",
              "    </tr>\n",
              "  </tbody>\n",
              "</table>\n",
              "<p>7479 rows × 6 columns</p>\n",
              "</div>"
            ],
            "text/plain": [
              "                                 title  ...     n\n",
              "197      Cheech and Chong's Next Movie  ...  33.0\n",
              "459                       Aurinkotuuli  ...  12.0\n",
              "641                        Raging Bull  ...  86.0\n",
              "1264                  Arrivano i gatti  ...  10.0\n",
              "1278             Fantozzi contro tutti  ...   9.0\n",
              "...                                ...  ...   ...\n",
              "1564931                        Qurbani  ...  12.0\n",
              "1564947                         Sitara  ...   7.0\n",
              "1564951                         Takkar  ...  10.0\n",
              "1565090                       Lootmaar  ...  15.0\n",
              "1565358         Manjil Virinja Pookkal  ...   3.0\n",
              "\n",
              "[7479 rows x 6 columns]"
            ]
          },
          "metadata": {
            "tags": []
          },
          "execution_count": 246
        }
      ]
    },
    {
      "cell_type": "markdown",
      "metadata": {
        "collapsed": true,
        "id": "1qmLcilWJZg0",
        "colab_type": "text"
      },
      "source": [
        "### How many roles through 1980 were minor enough that they did not warrant a numeric \"n\" rank?"
      ]
    },
    {
      "cell_type": "code",
      "metadata": {
        "id": "c96Gir6CJZg1",
        "colab_type": "code",
        "colab": {
          "base_uri": "https://localhost:8080/",
          "height": 406
        },
        "outputId": "e9caeb70-0f4d-4d4f-a491-d13628ef138d"
      },
      "source": [
        "role=cast[(cast.year == 1980) & (cast.n > 0)]\n",
        "role"
      ],
      "execution_count": 245,
      "outputs": [
        {
          "output_type": "execute_result",
          "data": {
            "text/html": [
              "<div>\n",
              "<style scoped>\n",
              "    .dataframe tbody tr th:only-of-type {\n",
              "        vertical-align: middle;\n",
              "    }\n",
              "\n",
              "    .dataframe tbody tr th {\n",
              "        vertical-align: top;\n",
              "    }\n",
              "\n",
              "    .dataframe thead th {\n",
              "        text-align: right;\n",
              "    }\n",
              "</style>\n",
              "<table border=\"1\" class=\"dataframe\">\n",
              "  <thead>\n",
              "    <tr style=\"text-align: right;\">\n",
              "      <th></th>\n",
              "      <th>title</th>\n",
              "      <th>year</th>\n",
              "      <th>name</th>\n",
              "      <th>type</th>\n",
              "      <th>character</th>\n",
              "      <th>n</th>\n",
              "    </tr>\n",
              "  </thead>\n",
              "  <tbody>\n",
              "    <tr>\n",
              "      <th>197</th>\n",
              "      <td>Cheech and Chong's Next Movie</td>\n",
              "      <td>1980</td>\n",
              "      <td>Bobby A.</td>\n",
              "      <td>actor</td>\n",
              "      <td>Doorman</td>\n",
              "      <td>33.0</td>\n",
              "    </tr>\n",
              "    <tr>\n",
              "      <th>459</th>\n",
              "      <td>Aurinkotuuli</td>\n",
              "      <td>1980</td>\n",
              "      <td>Jouko Aaltonen</td>\n",
              "      <td>actor</td>\n",
              "      <td>Man on lecture</td>\n",
              "      <td>12.0</td>\n",
              "    </tr>\n",
              "    <tr>\n",
              "      <th>641</th>\n",
              "      <td>Raging Bull</td>\n",
              "      <td>1980</td>\n",
              "      <td>Bob Aaron</td>\n",
              "      <td>actor</td>\n",
              "      <td>Prison Guard #1</td>\n",
              "      <td>86.0</td>\n",
              "    </tr>\n",
              "    <tr>\n",
              "      <th>1264</th>\n",
              "      <td>Arrivano i gatti</td>\n",
              "      <td>1980</td>\n",
              "      <td>Diego Abatantuono</td>\n",
              "      <td>actor</td>\n",
              "      <td>Felice</td>\n",
              "      <td>10.0</td>\n",
              "    </tr>\n",
              "    <tr>\n",
              "      <th>1278</th>\n",
              "      <td>Fantozzi contro tutti</td>\n",
              "      <td>1980</td>\n",
              "      <td>Diego Abatantuono</td>\n",
              "      <td>actor</td>\n",
              "      <td>Cecco, il nipote del fornaio</td>\n",
              "      <td>9.0</td>\n",
              "    </tr>\n",
              "    <tr>\n",
              "      <th>...</th>\n",
              "      <td>...</td>\n",
              "      <td>...</td>\n",
              "      <td>...</td>\n",
              "      <td>...</td>\n",
              "      <td>...</td>\n",
              "      <td>...</td>\n",
              "    </tr>\n",
              "    <tr>\n",
              "      <th>1564931</th>\n",
              "      <td>Qurbani</td>\n",
              "      <td>1980</td>\n",
              "      <td>Mac Mohan</td>\n",
              "      <td>actor</td>\n",
              "      <td>Mac</td>\n",
              "      <td>12.0</td>\n",
              "    </tr>\n",
              "    <tr>\n",
              "      <th>1564947</th>\n",
              "      <td>Sitara</td>\n",
              "      <td>1980</td>\n",
              "      <td>Mac Mohan</td>\n",
              "      <td>actor</td>\n",
              "      <td>Himself</td>\n",
              "      <td>7.0</td>\n",
              "    </tr>\n",
              "    <tr>\n",
              "      <th>1564951</th>\n",
              "      <td>Takkar</td>\n",
              "      <td>1980</td>\n",
              "      <td>Mac Mohan</td>\n",
              "      <td>actor</td>\n",
              "      <td>Ranjeet's hood</td>\n",
              "      <td>10.0</td>\n",
              "    </tr>\n",
              "    <tr>\n",
              "      <th>1565090</th>\n",
              "      <td>Lootmaar</td>\n",
              "      <td>1980</td>\n",
              "      <td>Ram Mohan</td>\n",
              "      <td>actor</td>\n",
              "      <td>Police Inspector</td>\n",
              "      <td>15.0</td>\n",
              "    </tr>\n",
              "    <tr>\n",
              "      <th>1565358</th>\n",
              "      <td>Manjil Virinja Pookkal</td>\n",
              "      <td>1980</td>\n",
              "      <td>Mohanlal</td>\n",
              "      <td>actor</td>\n",
              "      <td>Narendran</td>\n",
              "      <td>3.0</td>\n",
              "    </tr>\n",
              "  </tbody>\n",
              "</table>\n",
              "<p>7998 rows × 6 columns</p>\n",
              "</div>"
            ],
            "text/plain": [
              "                                 title  ...     n\n",
              "197      Cheech and Chong's Next Movie  ...  33.0\n",
              "459                       Aurinkotuuli  ...  12.0\n",
              "641                        Raging Bull  ...  86.0\n",
              "1264                  Arrivano i gatti  ...  10.0\n",
              "1278             Fantozzi contro tutti  ...   9.0\n",
              "...                                ...  ...   ...\n",
              "1564931                        Qurbani  ...  12.0\n",
              "1564947                         Sitara  ...   7.0\n",
              "1564951                         Takkar  ...  10.0\n",
              "1565090                       Lootmaar  ...  15.0\n",
              "1565358         Manjil Virinja Pookkal  ...   3.0\n",
              "\n",
              "[7998 rows x 6 columns]"
            ]
          },
          "metadata": {
            "tags": []
          },
          "execution_count": 245
        }
      ]
    }
  ]
}