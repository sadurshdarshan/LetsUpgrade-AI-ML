{
  "nbformat": 4,
  "nbformat_minor": 0,
  "metadata": {
    "colab": {
      "name": "Untitled24.ipynb",
      "provenance": []
    },
    "kernelspec": {
      "name": "python3",
      "display_name": "Python 3"
    }
  },
  "cells": [
    {
      "cell_type": "code",
      "metadata": {
        "id": "pnAKVgKhu6AR",
        "colab_type": "code",
        "colab": {}
      },
      "source": [
        "import os\n",
        "import sys\n",
        "import numpy as np\n",
        "import pandas as pd\n",
        "from sklearn.model_selection import train_test_split\n",
        "from scipy.io import loadmat"
      ],
      "execution_count": 98,
      "outputs": []
    },
    {
      "cell_type": "code",
      "metadata": {
        "id": "igQJFBprwIvy",
        "colab_type": "code",
        "colab": {
          "base_uri": "https://localhost:8080/",
          "height": 372
        },
        "outputId": "9378a384-1b66-4798-8e01-d44d6f5c625b"
      },
      "source": [
        "pip install pyod"
      ],
      "execution_count": 99,
      "outputs": [
        {
          "output_type": "stream",
          "text": [
            "Requirement already satisfied: pyod in /usr/local/lib/python3.6/dist-packages (0.8.2)\n",
            "Requirement already satisfied: pandas>=0.25 in /usr/local/lib/python3.6/dist-packages (from pyod) (1.0.5)\n",
            "Requirement already satisfied: combo in /usr/local/lib/python3.6/dist-packages (from pyod) (0.1.1)\n",
            "Requirement already satisfied: suod in /usr/local/lib/python3.6/dist-packages (from pyod) (0.0.4)\n",
            "Requirement already satisfied: joblib in /usr/local/lib/python3.6/dist-packages (from pyod) (0.16.0)\n",
            "Requirement already satisfied: numpy>=1.13 in /usr/local/lib/python3.6/dist-packages (from pyod) (1.18.5)\n",
            "Requirement already satisfied: matplotlib in /usr/local/lib/python3.6/dist-packages (from pyod) (3.2.2)\n",
            "Requirement already satisfied: scikit-learn>=0.19.1 in /usr/local/lib/python3.6/dist-packages (from pyod) (0.22.2.post1)\n",
            "Requirement already satisfied: scipy>=0.19.1 in /usr/local/lib/python3.6/dist-packages (from pyod) (1.4.1)\n",
            "Requirement already satisfied: six in /usr/local/lib/python3.6/dist-packages (from pyod) (1.15.0)\n",
            "Requirement already satisfied: numba>=0.35 in /usr/local/lib/python3.6/dist-packages (from pyod) (0.48.0)\n",
            "Requirement already satisfied: statsmodels in /usr/local/lib/python3.6/dist-packages (from pyod) (0.10.2)\n",
            "Requirement already satisfied: pytz>=2017.2 in /usr/local/lib/python3.6/dist-packages (from pandas>=0.25->pyod) (2018.9)\n",
            "Requirement already satisfied: python-dateutil>=2.6.1 in /usr/local/lib/python3.6/dist-packages (from pandas>=0.25->pyod) (2.8.1)\n",
            "Requirement already satisfied: cycler>=0.10 in /usr/local/lib/python3.6/dist-packages (from matplotlib->pyod) (0.10.0)\n",
            "Requirement already satisfied: pyparsing!=2.0.4,!=2.1.2,!=2.1.6,>=2.0.1 in /usr/local/lib/python3.6/dist-packages (from matplotlib->pyod) (2.4.7)\n",
            "Requirement already satisfied: kiwisolver>=1.0.1 in /usr/local/lib/python3.6/dist-packages (from matplotlib->pyod) (1.2.0)\n",
            "Requirement already satisfied: llvmlite<0.32.0,>=0.31.0dev0 in /usr/local/lib/python3.6/dist-packages (from numba>=0.35->pyod) (0.31.0)\n",
            "Requirement already satisfied: setuptools in /usr/local/lib/python3.6/dist-packages (from numba>=0.35->pyod) (49.6.0)\n",
            "Requirement already satisfied: patsy>=0.4.0 in /usr/local/lib/python3.6/dist-packages (from statsmodels->pyod) (0.5.1)\n"
          ],
          "name": "stdout"
        }
      ]
    },
    {
      "cell_type": "code",
      "metadata": {
        "id": "t_iEKe3nvcoX",
        "colab_type": "code",
        "colab": {}
      },
      "source": [
        "from pyod.models.pca import PCA\n",
        "from pyod.models.mcd import MCD\n",
        "from pyod.models.ocsvm import OCSVM\n",
        "from pyod.models.lof import LOF\n",
        "from pyod.models.cblof import CBLOF\n",
        "from pyod.models.knn import KNN\n",
        "from pyod.models.hbos import HBOS\n",
        "from pyod.models.abod import ABOD\n",
        "from pyod.models.iforest import IForest\n",
        "from pyod.models.feature_bagging import FeatureBagging"
      ],
      "execution_count": 100,
      "outputs": []
    },
    {
      "cell_type": "code",
      "metadata": {
        "id": "yI-0feoTvpnD",
        "colab_type": "code",
        "colab": {}
      },
      "source": [
        "from pyod.utils.utility import standardizer\n",
        "from pyod.utils.utility import precision_n_scores\n",
        "from sklearn.metrics import roc_auc_score"
      ],
      "execution_count": 101,
      "outputs": []
    },
    {
      "cell_type": "code",
      "metadata": {
        "id": "qiofDCFux1d7",
        "colab_type": "code",
        "colab": {}
      },
      "source": [
        "mat_file_list=['arrhythmia.mat', 'cardio.mat', 'glass.mat', 'ionosphere.mat', 'letter.mat', 'lympho.mat', 'mnist.mat', 'musk.mat', 'optdigits.mat', 'pendigits.mat','pima.mat','satellite.mat','satimage-2.mat', 'shuttle.mat','vertebral.mat', 'vowels.mat','wbc.mat']"
      ],
      "execution_count": 102,
      "outputs": []
    },
    {
      "cell_type": "code",
      "metadata": {
        "id": "w5a4d4Xo7pY-",
        "colab_type": "code",
        "colab": {
          "base_uri": "https://localhost:8080/",
          "height": 374
        },
        "outputId": "0bf365cc-8bf8-41fa-86e0-4bb20a666d7b"
      },
      "source": [
        "data=loadmat('cardio.mat')\n",
        "print(data)"
      ],
      "execution_count": 103,
      "outputs": [
        {
          "output_type": "stream",
          "text": [
            "{'__header__': b'MATLAB 5.0 MAT-file, written by Octave 3.8.0, 2014-12-18 10:48:09 UTC', '__version__': '1.0', '__globals__': [], 'X': array([[ 0.00491231,  0.69319077, -0.20364049, ...,  0.23149795,\n",
            "        -0.28978574, -0.49329397],\n",
            "       [ 0.11072935, -0.07990259, -0.20364049, ...,  0.09356344,\n",
            "        -0.25638541, -0.49329397],\n",
            "       [ 0.21654639, -0.27244466, -0.20364049, ...,  0.02459619,\n",
            "        -0.25638541,  1.14001753],\n",
            "       ...,\n",
            "       [-0.41835583, -0.91998844, -0.16463485, ..., -1.49268341,\n",
            "         0.24461959, -0.49329397],\n",
            "       [-0.41835583, -0.91998844, -0.15093411, ..., -1.42371616,\n",
            "         0.14441859, -0.49329397],\n",
            "       [-0.41835583, -0.91998844, -0.20364049, ..., -1.28578165,\n",
            "         3.58465295, -0.49329397]]), 'y': array([[0.],\n",
            "       [0.],\n",
            "       [0.],\n",
            "       ...,\n",
            "       [1.],\n",
            "       [1.],\n",
            "       [1.]])}\n"
          ],
          "name": "stdout"
        }
      ]
    },
    {
      "cell_type": "code",
      "metadata": {
        "id": "upJ0zCYE-nJ6",
        "colab_type": "code",
        "colab": {
          "base_uri": "https://localhost:8080/",
          "height": 1000
        },
        "outputId": "3620c6c5-57d3-4907-9002-552a8179b9c3"
      },
      "source": [
        "from time import time\n",
        "random_state=np.random.RandomState(42)\n",
        "\n",
        "for mat_file in mat_file_list:\n",
        "  print(\"\\n... processing\", mat_file,'...')\n",
        "  mat = loadmat(mat_file)\n",
        "\n",
        "  X = mat['X']\n",
        "  y = mat['y'].ravel()\n",
        "  outliers_fraction = np.count_nonzero(y) / len(y)\n",
        "  outliers_percentage = round(outliers_fraction *  100, ndigits=4 )\n",
        "\n",
        "  roc_list = [mat_file[:-4], X.shape[0], X.shape[1], outliers_percentage]\n",
        "  prn_list = [mat_file[:-4], X.shape[0], X.shape[1], outliers_percentage]\n",
        "  time_list = [mat_file[:-4], X.shape[0], X.shape[1], outliers_percentage]\n",
        "\n",
        "  X_train, X_test, y_train, y_test= train_test_split(X, y, test_size=0.4,  random_state=random_state)\n",
        "\n",
        "  X_train_norm ,X_test_norm = standardizer(X_train, X_test)\n",
        "\n",
        "  classifiers = {'Angle-based Outliers Detector (ABOD) ' : ABOD(contamination=outliers_fraction),\n",
        "                 'Cluster-based Local Outlier Factor' : CBLOF(contamination=outliers_fraction,  check_estimator=False, random_state=random_state),\n",
        "                 \"Feature Bagging\": FeatureBagging(contamination=outliers_fraction, random_state=random_state),\n",
        "                 'Histogram-base Outlier Detection (HBOS) ' : HBOS(contamination=outliers_fraction),\n",
        "                 'Isolation Forest':  IForest(contamination=outliers_fraction, random_state=random_state), \n",
        "                 'K Nearest Neighbours (KNN)': KNN(contamination=outliers_fraction), \n",
        "                 \"Local Outlier Factor (LOF)\": LOF(contamination=outliers_fraction),\n",
        "                 \"Minimum Convariance Determinant (MCD)\": MCD(contamination=outliers_fraction, random_state=random_state), \n",
        "                 \"One-class SVM(OCSVM)\": OCSVM(contamination=outliers_fraction),\n",
        "                 \"Principal Component Analysis (PCA)\" : PCA(contamination=outliers_fraction, random_state=random_state)}\n",
        "  for clf_name, clf in classifiers.items():\n",
        "    \n",
        "    \n",
        "    t0=time()\n",
        "    clf.fit(X_train_norm)\n",
        "    test_scores=clf.decision_function(X_test_norm)\n",
        "    t1=time()\n",
        "    duration=round(t1-t0, ndigits=4)\n",
        "    time_list.append(duration)\n",
        "\n",
        "    roc=round(roc_auc_score(y_test, test_scores), ndigits=4)\n",
        "    prn=round(precision_n_scores(y_test, test_scores), ndigits=4)\n",
        "\n",
        "\n",
        "\n",
        "    print('{clf_name} ROC : {roc}, precision @ rank n : {prn}, ''execution time : {duration}s'.format(clf_name=clf_name, roc=roc,prn=prn,duration=duration))\n",
        "\n",
        "\n",
        "    roc_list.append(roc)\n",
        "    prn_list.append(prn)"
      ],
      "execution_count": 140,
      "outputs": [
        {
          "output_type": "stream",
          "text": [
            "\n",
            "... processing arrhythmia.mat ...\n",
            "Angle-based Outliers Detector (ABOD)  ROC : 0.7687, precision @ rank n : 0.3571, execution time : 0.1814s\n",
            "Cluster-based Local Outlier Factor ROC : 0.7684, precision @ rank n : 0.4643, execution time : 0.1883s\n",
            "Feature Bagging ROC : 0.7799, precision @ rank n : 0.5, execution time : 0.681s\n",
            "Histogram-base Outlier Detection (HBOS)  ROC : 0.8511, precision @ rank n : 0.5714, execution time : 0.0723s\n",
            "Isolation Forest ROC : 0.8527, precision @ rank n : 0.5714, execution time : 0.4871s\n",
            "K Nearest Neighbours (KNN) ROC : 0.782, precision @ rank n : 0.5, execution time : 0.0979s\n",
            "Local Outlier Factor (LOF) ROC : 0.7787, precision @ rank n : 0.4643, execution time : 0.0827s\n"
          ],
          "name": "stdout"
        },
        {
          "output_type": "stream",
          "text": [
            "/usr/local/lib/python3.6/dist-packages/sklearn/covariance/_robust_covariance.py:644: UserWarning: The covariance matrix associated to your dataset is not full rank\n",
            "  warnings.warn(\"The covariance matrix associated to your dataset \"\n"
          ],
          "name": "stderr"
        },
        {
          "output_type": "stream",
          "text": [
            "Minimum Convariance Determinant (MCD) ROC : 0.8228, precision @ rank n : 0.4286, execution time : 1.2562s\n",
            "One-class SVM(OCSVM) ROC : 0.7986, precision @ rank n : 0.5, execution time : 0.0621s\n",
            "Principal Component Analysis (PCA) ROC : 0.8, precision @ rank n : 0.5, execution time : 0.082s\n",
            "\n",
            "... processing cardio.mat ...\n",
            "Angle-based Outliers Detector (ABOD)  ROC : 0.5763, precision @ rank n : 0.1875, execution time : 0.4251s\n",
            "Cluster-based Local Outlier Factor ROC : 0.8221, precision @ rank n : 0.4844, execution time : 0.2609s\n",
            "Feature Bagging ROC : 0.4879, precision @ rank n : 0.1406, execution time : 0.8409s\n",
            "Histogram-base Outlier Detection (HBOS)  ROC : 0.8453, precision @ rank n : 0.4688, execution time : 0.007s\n",
            "Isolation Forest ROC : 0.9414, precision @ rank n : 0.5, execution time : 0.4348s\n",
            "K Nearest Neighbours (KNN) ROC : 0.6959, precision @ rank n : 0.2812, execution time : 0.1503s\n",
            "Local Outlier Factor (LOF) ROC : 0.4715, precision @ rank n : 0.125, execution time : 0.1062s\n"
          ],
          "name": "stdout"
        },
        {
          "output_type": "stream",
          "text": [
            "/usr/local/lib/python3.6/dist-packages/sklearn/covariance/_robust_covariance.py:644: UserWarning: The covariance matrix associated to your dataset is not full rank\n",
            "  warnings.warn(\"The covariance matrix associated to your dataset \"\n"
          ],
          "name": "stderr"
        },
        {
          "output_type": "stream",
          "text": [
            "Minimum Convariance Determinant (MCD) ROC : 0.8778, precision @ rank n : 0.3906, execution time : 0.8823s\n",
            "One-class SVM(OCSVM) ROC : 0.9507, precision @ rank n : 0.5938, execution time : 0.1363s\n",
            "Principal Component Analysis (PCA) ROC : 0.9638, precision @ rank n : 0.6875, execution time : 0.006s\n",
            "\n",
            "... processing glass.mat ...\n",
            "Angle-based Outliers Detector (ABOD)  ROC : 0.7104, precision @ rank n : 0.25, execution time : 0.0613s\n",
            "Cluster-based Local Outlier Factor ROC : 0.8506, precision @ rank n : 0.25, execution time : 0.0652s\n",
            "Feature Bagging ROC : 0.7043, precision @ rank n : 0.25, execution time : 0.0399s\n",
            "Histogram-base Outlier Detection (HBOS)  ROC : 0.6524, precision @ rank n : 0.0, execution time : 0.005s\n",
            "Isolation Forest ROC : 0.7195, precision @ rank n : 0.25, execution time : 0.3288s\n",
            "K Nearest Neighbours (KNN) ROC : 0.7805, precision @ rank n : 0.25, execution time : 0.0091s\n",
            "Local Outlier Factor (LOF) ROC : 0.7774, precision @ rank n : 0.25, execution time : 0.0041s\n",
            "Minimum Convariance Determinant (MCD) ROC : 0.7165, precision @ rank n : 0.0, execution time : 0.061s\n",
            "One-class SVM(OCSVM) ROC : 0.6189, precision @ rank n : 0.25, execution time : 0.0035s\n",
            "Principal Component Analysis (PCA) ROC : 0.622, precision @ rank n : 0.25, execution time : 0.0028s\n",
            "\n",
            "... processing ionosphere.mat ...\n",
            "Angle-based Outliers Detector (ABOD)  ROC : 0.9004, precision @ rank n : 0.8214, execution time : 0.107s\n",
            "Cluster-based Local Outlier Factor ROC : 0.8952, precision @ rank n : 0.8036, execution time : 0.0585s\n",
            "Feature Bagging ROC : 0.8933, precision @ rank n : 0.75, execution time : 0.0847s\n",
            "Histogram-base Outlier Detection (HBOS)  ROC : 0.5195, precision @ rank n : 0.3393, execution time : 0.0087s\n",
            "Isolation Forest ROC : 0.8309, precision @ rank n : 0.6607, execution time : 0.3354s\n",
            "K Nearest Neighbours (KNN) ROC : 0.9134, precision @ rank n : 0.8393, execution time : 0.0161s\n",
            "Local Outlier Factor (LOF) ROC : 0.8989, precision @ rank n : 0.75, execution time : 0.0079s\n",
            "Minimum Convariance Determinant (MCD) ROC : 0.9399, precision @ rank n : 0.8571, execution time : 0.1084s\n",
            "One-class SVM(OCSVM) ROC : 0.8372, precision @ rank n : 0.7143, execution time : 0.0087s\n",
            "Principal Component Analysis (PCA) ROC : 0.7971, precision @ rank n : 0.5893, execution time : 0.0037s\n",
            "\n",
            "... processing letter.mat ...\n",
            "Angle-based Outliers Detector (ABOD)  ROC : 0.8465, precision @ rank n : 0.275, execution time : 0.4061s\n",
            "Cluster-based Local Outlier Factor ROC : 0.7423, precision @ rank n : 0.175, execution time : 0.1867s\n",
            "Feature Bagging ROC : 0.866, precision @ rank n : 0.4, execution time : 0.8133s\n",
            "Histogram-base Outlier Detection (HBOS)  ROC : 0.5728, precision @ rank n : 0.125, execution time : 0.0105s\n",
            "Isolation Forest ROC : 0.5778, precision @ rank n : 0.05, execution time : 0.4243s\n",
            "K Nearest Neighbours (KNN) ROC : 0.845, precision @ rank n : 0.3, execution time : 0.1357s\n",
            "Local Outlier Factor (LOF) ROC : 0.8409, precision @ rank n : 0.325, execution time : 0.1034s\n",
            "Minimum Convariance Determinant (MCD) ROC : 0.7499, precision @ rank n : 0.075, execution time : 1.7661s\n",
            "One-class SVM(OCSVM) ROC : 0.5744, precision @ rank n : 0.1, execution time : 0.1337s\n",
            "Principal Component Analysis (PCA) ROC : 0.48, precision @ rank n : 0.05, execution time : 0.0069s\n",
            "\n",
            "... processing lympho.mat ...\n",
            "Angle-based Outliers Detector (ABOD)  ROC : 0.9382, precision @ rank n : 0.4, execution time : 0.0426s\n",
            "Cluster-based Local Outlier Factor ROC : 0.9709, precision @ rank n : 0.6, execution time : 0.0694s\n",
            "Feature Bagging ROC : 0.9673, precision @ rank n : 0.6, execution time : 0.0379s\n",
            "Histogram-base Outlier Detection (HBOS)  ROC : 0.9964, precision @ rank n : 0.8, execution time : 0.0052s\n",
            "Isolation Forest ROC : 0.9855, precision @ rank n : 0.6, execution time : 0.3207s\n",
            "K Nearest Neighbours (KNN) ROC : 0.9636, precision @ rank n : 0.6, execution time : 0.0083s\n",
            "Local Outlier Factor (LOF) ROC : 0.9636, precision @ rank n : 0.6, execution time : 0.0032s\n",
            "Minimum Convariance Determinant (MCD) ROC : 0.9127, precision @ rank n : 0.6, execution time : 0.0596s\n",
            "One-class SVM(OCSVM) ROC : 0.9636, precision @ rank n : 0.6, execution time : 0.0025s\n",
            "Principal Component Analysis (PCA) ROC : 0.9818, precision @ rank n : 0.8, execution time : 0.003s\n",
            "\n",
            "... processing mnist.mat ...\n"
          ],
          "name": "stdout"
        },
        {
          "output_type": "stream",
          "text": [
            "/usr/local/lib/python3.6/dist-packages/sklearn/covariance/_robust_covariance.py:170: RuntimeWarning: Determinant has increased; this should not happen: log(det) > log(previous_det) (-380.733523356668684 > -520.529171150752177). You may want to try with a higher value of support_fraction (current value: 0.614).\n",
            "  RuntimeWarning)\n",
            "/usr/local/lib/python3.6/dist-packages/sklearn/covariance/_robust_covariance.py:170: RuntimeWarning: Determinant has increased; this should not happen: log(det) > log(previous_det) (-197.224339606050478 > -526.499524761035786). You may want to try with a higher value of support_fraction (current value: 0.614).\n",
            "  RuntimeWarning)\n"
          ],
          "name": "stderr"
        },
        {
          "output_type": "stream",
          "text": [
            "Angle-based Outliers Detector (ABOD)  ROC : 0.7813, precision @ rank n : 0.3562, execution time : 8.3074s\n",
            "Cluster-based Local Outlier Factor ROC : 0.8447, precision @ rank n : 0.4007, execution time : 1.2227s\n",
            "Feature Bagging ROC : 0.7259, precision @ rank n : 0.3664, execution time : 58.5885s\n",
            "Histogram-base Outlier Detection (HBOS)  ROC : 0.5675, precision @ rank n : 0.1199, execution time : 0.0614s\n",
            "Isolation Forest ROC : 0.7801, precision @ rank n : 0.2979, execution time : 1.584s\n",
            "K Nearest Neighbours (KNN) ROC : 0.8409, precision @ rank n : 0.4144, execution time : 7.8034s\n",
            "Local Outlier Factor (LOF) ROC : 0.7085, precision @ rank n : 0.339, execution time : 7.4489s\n"
          ],
          "name": "stdout"
        },
        {
          "output_type": "stream",
          "text": [
            "/usr/local/lib/python3.6/dist-packages/sklearn/covariance/_robust_covariance.py:644: UserWarning: The covariance matrix associated to your dataset is not full rank\n",
            "  warnings.warn(\"The covariance matrix associated to your dataset \"\n"
          ],
          "name": "stderr"
        },
        {
          "output_type": "stream",
          "text": [
            "Minimum Convariance Determinant (MCD) ROC : 0.863, precision @ rank n : 0.3973, execution time : 4.2148s\n",
            "One-class SVM(OCSVM) ROC : 0.8417, precision @ rank n : 0.3801, execution time : 5.9833s\n",
            "Principal Component Analysis (PCA) ROC : 0.8396, precision @ rank n : 0.3767, execution time : 0.1388s\n",
            "\n",
            "... processing musk.mat ...\n",
            "Angle-based Outliers Detector (ABOD)  ROC : 0.0809, precision @ rank n : 0.0333, execution time : 2.4817s\n",
            "Cluster-based Local Outlier Factor ROC : 1.0, precision @ rank n : 1.0, execution time : 0.4458s\n",
            "Feature Bagging ROC : 0.5228, precision @ rank n : 0.1667, execution time : 15.1285s\n",
            "Histogram-base Outlier Detection (HBOS)  ROC : 0.9999, precision @ rank n : 0.9667, execution time : 0.0768s\n",
            "Isolation Forest ROC : 0.9996, precision @ rank n : 0.9333, execution time : 1.0752s\n",
            "K Nearest Neighbours (KNN) ROC : 0.7348, precision @ rank n : 0.2333, execution time : 2.0405s\n",
            "Local Outlier Factor (LOF) ROC : 0.5323, precision @ rank n : 0.1333, execution time : 1.8808s\n",
            "Minimum Convariance Determinant (MCD) ROC : 1.0, precision @ rank n : 0.9667, execution time : 17.6947s\n",
            "One-class SVM(OCSVM) ROC : 1.0, precision @ rank n : 1.0, execution time : 1.5255s\n",
            "Principal Component Analysis (PCA) ROC : 1.0, precision @ rank n : 1.0, execution time : 0.1316s\n",
            "\n",
            "... processing optdigits.mat ...\n",
            "Angle-based Outliers Detector (ABOD)  ROC : 0.4428, precision @ rank n : 0.0161, execution time : 2.7872s\n",
            "Cluster-based Local Outlier Factor ROC : 0.7852, precision @ rank n : 0.0, execution time : 0.609s\n",
            "Feature Bagging ROC : 0.4641, precision @ rank n : 0.0484, execution time : 16.3832s\n",
            "Histogram-base Outlier Detection (HBOS)  ROC : 0.8822, precision @ rank n : 0.2581, execution time : 0.0335s\n",
            "Isolation Forest ROC : 0.5764, precision @ rank n : 0.0161, execution time : 0.9932s\n",
            "K Nearest Neighbours (KNN) ROC : 0.3824, precision @ rank n : 0.0, execution time : 2.128s\n",
            "Local Outlier Factor (LOF) ROC : 0.4584, precision @ rank n : 0.0484, execution time : 1.9285s\n"
          ],
          "name": "stdout"
        },
        {
          "output_type": "stream",
          "text": [
            "/usr/local/lib/python3.6/dist-packages/sklearn/covariance/_robust_covariance.py:644: UserWarning: The covariance matrix associated to your dataset is not full rank\n",
            "  warnings.warn(\"The covariance matrix associated to your dataset \"\n"
          ],
          "name": "stderr"
        },
        {
          "output_type": "stream",
          "text": [
            "Minimum Convariance Determinant (MCD) ROC : 0.3486, precision @ rank n : 0.0, execution time : 2.0958s\n",
            "One-class SVM(OCSVM) ROC : 0.4972, precision @ rank n : 0.0, execution time : 1.9279s\n",
            "Principal Component Analysis (PCA) ROC : 0.504, precision @ rank n : 0.0, execution time : 0.047s\n",
            "\n",
            "... processing pendigits.mat ...\n",
            "Angle-based Outliers Detector (ABOD)  ROC : 0.7008, precision @ rank n : 0.0308, execution time : 1.4589s\n",
            "Cluster-based Local Outlier Factor ROC : 0.9609, precision @ rank n : 0.3077, execution time : 0.4313s\n",
            "Feature Bagging ROC : 0.4687, precision @ rank n : 0.0462, execution time : 4.0726s\n",
            "Histogram-base Outlier Detection (HBOS)  ROC : 0.9294, precision @ rank n : 0.2615, execution time : 0.01s\n",
            "Isolation Forest ROC : 0.9422, precision @ rank n : 0.2769, execution time : 0.7933s\n",
            "K Nearest Neighbours (KNN) ROC : 0.7602, precision @ rank n : 0.0462, execution time : 0.5661s\n",
            "Local Outlier Factor (LOF) ROC : 0.481, precision @ rank n : 0.0462, execution time : 0.5111s\n",
            "Minimum Convariance Determinant (MCD) ROC : 0.8271, precision @ rank n : 0.0615, execution time : 3.3101s\n",
            "One-class SVM(OCSVM) ROC : 0.93, precision @ rank n : 0.2923, execution time : 1.3419s\n",
            "Principal Component Analysis (PCA) ROC : 0.9332, precision @ rank n : 0.3385, execution time : 0.0126s\n",
            "\n",
            "... processing pima.mat ...\n",
            "Angle-based Outliers Detector (ABOD)  ROC : 0.6757, precision @ rank n : 0.5106, execution time : 0.1714s\n",
            "Cluster-based Local Outlier Factor ROC : 0.684, precision @ rank n : 0.4681, execution time : 0.0932s\n",
            "Feature Bagging ROC : 0.6446, precision @ rank n : 0.4468, execution time : 0.1051s\n",
            "Histogram-base Outlier Detection (HBOS)  ROC : 0.7169, precision @ rank n : 0.5213, execution time : 0.0047s\n",
            "Isolation Forest ROC : 0.6604, precision @ rank n : 0.4787, execution time : 0.3394s\n",
            "K Nearest Neighbours (KNN) ROC : 0.7252, precision @ rank n : 0.5106, execution time : 0.0283s\n",
            "Local Outlier Factor (LOF) ROC : 0.6604, precision @ rank n : 0.4787, execution time : 0.0111s\n",
            "Minimum Convariance Determinant (MCD) ROC : 0.7047, precision @ rank n : 0.4787, execution time : 0.0798s\n",
            "One-class SVM(OCSVM) ROC : 0.6423, precision @ rank n : 0.4574, execution time : 0.0206s\n",
            "Principal Component Analysis (PCA) ROC : 0.6639, precision @ rank n : 0.5, execution time : 0.0029s\n",
            "\n",
            "... processing satellite.mat ...\n",
            "Angle-based Outliers Detector (ABOD)  ROC : 0.5681, precision @ rank n : 0.3918, execution time : 1.8347s\n",
            "Cluster-based Local Outlier Factor ROC : 0.7234, precision @ rank n : 0.5574, execution time : 0.4623s\n",
            "Feature Bagging ROC : 0.557, precision @ rank n : 0.4051, execution time : 6.553s\n",
            "Histogram-base Outlier Detection (HBOS)  ROC : 0.7393, precision @ rank n : 0.5466, execution time : 0.0206s\n",
            "Isolation Forest ROC : 0.6843, precision @ rank n : 0.5719, execution time : 0.8757s\n",
            "K Nearest Neighbours (KNN) ROC : 0.6781, precision @ rank n : 0.4994, execution time : 1.0407s\n",
            "Local Outlier Factor (LOF) ROC : 0.5551, precision @ rank n : 0.4051, execution time : 0.9145s\n",
            "Minimum Convariance Determinant (MCD) ROC : 0.792, precision @ rank n : 0.6747, execution time : 3.3819s\n",
            "One-class SVM(OCSVM) ROC : 0.636, precision @ rank n : 0.5224, execution time : 1.8872s\n",
            "Principal Component Analysis (PCA) ROC : 0.5783, precision @ rank n : 0.4559, execution time : 0.024s\n",
            "\n",
            "... processing satimage-2.mat ...\n",
            "Angle-based Outliers Detector (ABOD)  ROC : 0.86, precision @ rank n : 0.2593, execution time : 1.6057s\n",
            "Cluster-based Local Outlier Factor ROC : 0.9987, precision @ rank n : 0.8889, execution time : 0.4108s\n",
            "Feature Bagging ROC : 0.4971, precision @ rank n : 0.0741, execution time : 5.9552s\n",
            "Histogram-base Outlier Detection (HBOS)  ROC : 0.9837, precision @ rank n : 0.5926, execution time : 0.0181s\n",
            "Isolation Forest ROC : 0.9962, precision @ rank n : 0.8889, execution time : 0.8352s\n",
            "K Nearest Neighbours (KNN) ROC : 0.9505, precision @ rank n : 0.3704, execution time : 0.878s\n",
            "Local Outlier Factor (LOF) ROC : 0.5006, precision @ rank n : 0.0741, execution time : 0.7202s\n",
            "Minimum Convariance Determinant (MCD) ROC : 0.9946, precision @ rank n : 0.5185, execution time : 3.3984s\n",
            "One-class SVM(OCSVM) ROC : 0.9976, precision @ rank n : 0.9259, execution time : 1.5582s\n",
            "Principal Component Analysis (PCA) ROC : 0.9841, precision @ rank n : 0.8519, execution time : 0.0242s\n",
            "\n",
            "... processing shuttle.mat ...\n",
            "Angle-based Outliers Detector (ABOD)  ROC : 0.6186, precision @ rank n : 0.1918, execution time : 15.617s\n",
            "Cluster-based Local Outlier Factor ROC : 0.6287, precision @ rank n : 0.2336, execution time : 1.1224s\n",
            "Feature Bagging ROC : 0.5211, precision @ rank n : 0.111, execution time : 50.4822s\n",
            "Histogram-base Outlier Detection (HBOS)  ROC : 0.9851, precision @ rank n : 0.9857, execution time : 0.0264s\n",
            "Isolation Forest ROC : 0.997, precision @ rank n : 0.9308, execution time : 3.2669s\n",
            "K Nearest Neighbours (KNN) ROC : 0.645, precision @ rank n : 0.2199, execution time : 9.6695s\n",
            "Local Outlier Factor (LOF) ROC : 0.5347, precision @ rank n : 0.1406, execution time : 12.0135s\n"
          ],
          "name": "stdout"
        },
        {
          "output_type": "stream",
          "text": [
            "/usr/local/lib/python3.6/dist-packages/sklearn/covariance/_robust_covariance.py:170: RuntimeWarning: Determinant has increased; this should not happen: log(det) > log(previous_det) (-49.541490230701058 > -75.681926842947846). You may want to try with a higher value of support_fraction (current value: 0.503).\n",
            "  RuntimeWarning)\n",
            "/usr/local/lib/python3.6/dist-packages/sklearn/covariance/_robust_covariance.py:170: RuntimeWarning: Determinant has increased; this should not happen: log(det) > log(previous_det) (-50.022992269211016 > -76.128980282328556). You may want to try with a higher value of support_fraction (current value: 0.503).\n",
            "  RuntimeWarning)\n",
            "/usr/local/lib/python3.6/dist-packages/sklearn/covariance/_robust_covariance.py:170: RuntimeWarning: Determinant has increased; this should not happen: log(det) > log(previous_det) (-48.588090860494653 > -73.914905941043045). You may want to try with a higher value of support_fraction (current value: 0.503).\n",
            "  RuntimeWarning)\n",
            "/usr/local/lib/python3.6/dist-packages/sklearn/covariance/_robust_covariance.py:170: RuntimeWarning: Determinant has increased; this should not happen: log(det) > log(previous_det) (-50.127165967938147 > -75.579719845752649). You may want to try with a higher value of support_fraction (current value: 0.501).\n",
            "  RuntimeWarning)\n",
            "/usr/local/lib/python3.6/dist-packages/sklearn/covariance/_robust_covariance.py:170: RuntimeWarning: Determinant has increased; this should not happen: log(det) > log(previous_det) (-50.260339163313418 > -76.068428315763384). You may want to try with a higher value of support_fraction (current value: 0.501).\n",
            "  RuntimeWarning)\n",
            "/usr/local/lib/python3.6/dist-packages/sklearn/covariance/_robust_covariance.py:170: RuntimeWarning: Determinant has increased; this should not happen: log(det) > log(previous_det) (-50.088727288180046 > -76.037085758458574). You may want to try with a higher value of support_fraction (current value: 0.501).\n",
            "  RuntimeWarning)\n",
            "/usr/local/lib/python3.6/dist-packages/sklearn/covariance/_robust_covariance.py:170: RuntimeWarning: Determinant has increased; this should not happen: log(det) > log(previous_det) (-50.582785491594422 > -77.407321818947324). You may want to try with a higher value of support_fraction (current value: 0.501).\n",
            "  RuntimeWarning)\n",
            "/usr/local/lib/python3.6/dist-packages/sklearn/covariance/_robust_covariance.py:170: RuntimeWarning: Determinant has increased; this should not happen: log(det) > log(previous_det) (-50.302430695317355 > -77.461638963900498). You may want to try with a higher value of support_fraction (current value: 0.501).\n",
            "  RuntimeWarning)\n",
            "/usr/local/lib/python3.6/dist-packages/sklearn/covariance/_robust_covariance.py:170: RuntimeWarning: Determinant has increased; this should not happen: log(det) > log(previous_det) (-50.000544286937448 > -75.738116011278564). You may want to try with a higher value of support_fraction (current value: 0.501).\n",
            "  RuntimeWarning)\n",
            "/usr/local/lib/python3.6/dist-packages/sklearn/covariance/_robust_covariance.py:170: RuntimeWarning: Determinant has increased; this should not happen: log(det) > log(previous_det) (-50.418573515592968 > -76.015011966819344). You may want to try with a higher value of support_fraction (current value: 0.501).\n",
            "  RuntimeWarning)\n",
            "/usr/local/lib/python3.6/dist-packages/sklearn/covariance/_robust_covariance.py:170: RuntimeWarning: Determinant has increased; this should not happen: log(det) > log(previous_det) (-50.556584528453790 > -76.666893156043145). You may want to try with a higher value of support_fraction (current value: 0.501).\n",
            "  RuntimeWarning)\n",
            "/usr/local/lib/python3.6/dist-packages/sklearn/covariance/_robust_covariance.py:170: RuntimeWarning: Determinant has increased; this should not happen: log(det) > log(previous_det) (-50.245517031315956 > -77.483997008652082). You may want to try with a higher value of support_fraction (current value: 0.501).\n",
            "  RuntimeWarning)\n",
            "/usr/local/lib/python3.6/dist-packages/sklearn/covariance/_robust_covariance.py:170: RuntimeWarning: Determinant has increased; this should not happen: log(det) > log(previous_det) (-50.240104267008910 > -74.620951693437846). You may want to try with a higher value of support_fraction (current value: 0.501).\n",
            "  RuntimeWarning)\n",
            "/usr/local/lib/python3.6/dist-packages/sklearn/covariance/_robust_covariance.py:170: RuntimeWarning: Determinant has increased; this should not happen: log(det) > log(previous_det) (-50.939228757458238 > -76.349486876404171). You may want to try with a higher value of support_fraction (current value: 0.501).\n",
            "  RuntimeWarning)\n",
            "/usr/local/lib/python3.6/dist-packages/sklearn/covariance/_robust_covariance.py:170: RuntimeWarning: Determinant has increased; this should not happen: log(det) > log(previous_det) (-49.250211305123607 > -76.245698551295263). You may want to try with a higher value of support_fraction (current value: 0.501).\n",
            "  RuntimeWarning)\n",
            "/usr/local/lib/python3.6/dist-packages/sklearn/covariance/_robust_covariance.py:170: RuntimeWarning: Determinant has increased; this should not happen: log(det) > log(previous_det) (-49.909548626708464 > -77.312441036639228). You may want to try with a higher value of support_fraction (current value: 0.501).\n",
            "  RuntimeWarning)\n",
            "/usr/local/lib/python3.6/dist-packages/sklearn/covariance/_robust_covariance.py:170: RuntimeWarning: Determinant has increased; this should not happen: log(det) > log(previous_det) (-50.891326544720755 > -75.863250930896697). You may want to try with a higher value of support_fraction (current value: 0.501).\n",
            "  RuntimeWarning)\n",
            "/usr/local/lib/python3.6/dist-packages/sklearn/covariance/_robust_covariance.py:170: RuntimeWarning: Determinant has increased; this should not happen: log(det) > log(previous_det) (-49.859327893628773 > -76.089786715138544). You may want to try with a higher value of support_fraction (current value: 0.501).\n",
            "  RuntimeWarning)\n",
            "/usr/local/lib/python3.6/dist-packages/sklearn/covariance/_robust_covariance.py:170: RuntimeWarning: Determinant has increased; this should not happen: log(det) > log(previous_det) (-49.586488761882606 > -75.190638591537606). You may want to try with a higher value of support_fraction (current value: 0.501).\n",
            "  RuntimeWarning)\n",
            "/usr/local/lib/python3.6/dist-packages/sklearn/covariance/_robust_covariance.py:170: RuntimeWarning: Determinant has increased; this should not happen: log(det) > log(previous_det) (-50.312636661667334 > -76.414525231014295). You may want to try with a higher value of support_fraction (current value: 0.501).\n",
            "  RuntimeWarning)\n",
            "/usr/local/lib/python3.6/dist-packages/sklearn/covariance/_robust_covariance.py:170: RuntimeWarning: Determinant has increased; this should not happen: log(det) > log(previous_det) (-49.430084220731374 > -75.148918833274394). You may want to try with a higher value of support_fraction (current value: 0.501).\n",
            "  RuntimeWarning)\n",
            "/usr/local/lib/python3.6/dist-packages/sklearn/covariance/_robust_covariance.py:170: RuntimeWarning: Determinant has increased; this should not happen: log(det) > log(previous_det) (-49.555505358476388 > -77.231439186535908). You may want to try with a higher value of support_fraction (current value: 0.501).\n",
            "  RuntimeWarning)\n",
            "/usr/local/lib/python3.6/dist-packages/sklearn/covariance/_robust_covariance.py:170: RuntimeWarning: Determinant has increased; this should not happen: log(det) > log(previous_det) (-51.124956887263252 > -77.546982515528953). You may want to try with a higher value of support_fraction (current value: 0.501).\n",
            "  RuntimeWarning)\n",
            "/usr/local/lib/python3.6/dist-packages/sklearn/covariance/_robust_covariance.py:170: RuntimeWarning: Determinant has increased; this should not happen: log(det) > log(previous_det) (-51.145180878067350 > -76.572006019370292). You may want to try with a higher value of support_fraction (current value: 0.501).\n",
            "  RuntimeWarning)\n",
            "/usr/local/lib/python3.6/dist-packages/sklearn/covariance/_robust_covariance.py:170: RuntimeWarning: Determinant has increased; this should not happen: log(det) > log(previous_det) (-50.764724066883502 > -77.826613258863958). You may want to try with a higher value of support_fraction (current value: 0.501).\n",
            "  RuntimeWarning)\n",
            "/usr/local/lib/python3.6/dist-packages/sklearn/covariance/_robust_covariance.py:170: RuntimeWarning: Determinant has increased; this should not happen: log(det) > log(previous_det) (-48.810409699569078 > -116.332661175263070). You may want to try with a higher value of support_fraction (current value: 0.501).\n",
            "  RuntimeWarning)\n",
            "/usr/local/lib/python3.6/dist-packages/sklearn/covariance/_robust_covariance.py:170: RuntimeWarning: Determinant has increased; this should not happen: log(det) > log(previous_det) (-50.246740593074776 > -75.203014215288860). You may want to try with a higher value of support_fraction (current value: 0.501).\n",
            "  RuntimeWarning)\n",
            "/usr/local/lib/python3.6/dist-packages/sklearn/covariance/_robust_covariance.py:170: RuntimeWarning: Determinant has increased; this should not happen: log(det) > log(previous_det) (-50.256978425484469 > -76.759605710077381). You may want to try with a higher value of support_fraction (current value: 0.501).\n",
            "  RuntimeWarning)\n",
            "/usr/local/lib/python3.6/dist-packages/sklearn/covariance/_robust_covariance.py:170: RuntimeWarning: Determinant has increased; this should not happen: log(det) > log(previous_det) (-50.329968951468842 > -76.281251764859178). You may want to try with a higher value of support_fraction (current value: 0.501).\n",
            "  RuntimeWarning)\n",
            "/usr/local/lib/python3.6/dist-packages/sklearn/covariance/_robust_covariance.py:170: RuntimeWarning: Determinant has increased; this should not happen: log(det) > log(previous_det) (-49.385618505522721 > -75.787409053683717). You may want to try with a higher value of support_fraction (current value: 0.501).\n",
            "  RuntimeWarning)\n",
            "/usr/local/lib/python3.6/dist-packages/sklearn/covariance/_robust_covariance.py:170: RuntimeWarning: Determinant has increased; this should not happen: log(det) > log(previous_det) (-49.606730348298036 > -75.869441793118312). You may want to try with a higher value of support_fraction (current value: 0.501).\n",
            "  RuntimeWarning)\n",
            "/usr/local/lib/python3.6/dist-packages/sklearn/covariance/_robust_covariance.py:170: RuntimeWarning: Determinant has increased; this should not happen: log(det) > log(previous_det) (-50.209250265998051 > -75.432441150981660). You may want to try with a higher value of support_fraction (current value: 0.501).\n",
            "  RuntimeWarning)\n",
            "/usr/local/lib/python3.6/dist-packages/sklearn/covariance/_robust_covariance.py:170: RuntimeWarning: Determinant has increased; this should not happen: log(det) > log(previous_det) (-50.091478318138478 > -75.379932683241734). You may want to try with a higher value of support_fraction (current value: 0.501).\n",
            "  RuntimeWarning)\n",
            "/usr/local/lib/python3.6/dist-packages/sklearn/covariance/_robust_covariance.py:170: RuntimeWarning: Determinant has increased; this should not happen: log(det) > log(previous_det) (-50.173137659451235 > -75.154865213447692). You may want to try with a higher value of support_fraction (current value: 0.501).\n",
            "  RuntimeWarning)\n",
            "/usr/local/lib/python3.6/dist-packages/sklearn/covariance/_robust_covariance.py:170: RuntimeWarning: Determinant has increased; this should not happen: log(det) > log(previous_det) (-50.294483190145108 > -77.468982947568037). You may want to try with a higher value of support_fraction (current value: 0.501).\n",
            "  RuntimeWarning)\n",
            "/usr/local/lib/python3.6/dist-packages/sklearn/covariance/_robust_covariance.py:170: RuntimeWarning: Determinant has increased; this should not happen: log(det) > log(previous_det) (-50.230341725455737 > -74.841837969843937). You may want to try with a higher value of support_fraction (current value: 0.501).\n",
            "  RuntimeWarning)\n",
            "/usr/local/lib/python3.6/dist-packages/sklearn/covariance/_robust_covariance.py:170: RuntimeWarning: Determinant has increased; this should not happen: log(det) > log(previous_det) (-50.378081918546357 > -76.189117104189094). You may want to try with a higher value of support_fraction (current value: 0.501).\n",
            "  RuntimeWarning)\n",
            "/usr/local/lib/python3.6/dist-packages/sklearn/covariance/_robust_covariance.py:170: RuntimeWarning: Determinant has increased; this should not happen: log(det) > log(previous_det) (-50.916820128957703 > -78.745109618040814). You may want to try with a higher value of support_fraction (current value: 0.501).\n",
            "  RuntimeWarning)\n",
            "/usr/local/lib/python3.6/dist-packages/sklearn/covariance/_robust_covariance.py:170: RuntimeWarning: Determinant has increased; this should not happen: log(det) > log(previous_det) (-50.077545968806206 > -77.463347970659328). You may want to try with a higher value of support_fraction (current value: 0.501).\n",
            "  RuntimeWarning)\n",
            "/usr/local/lib/python3.6/dist-packages/sklearn/covariance/_robust_covariance.py:170: RuntimeWarning: Determinant has increased; this should not happen: log(det) > log(previous_det) (-50.734734341695990 > -75.894726716066586). You may want to try with a higher value of support_fraction (current value: 0.501).\n",
            "  RuntimeWarning)\n",
            "/usr/local/lib/python3.6/dist-packages/sklearn/covariance/_robust_covariance.py:170: RuntimeWarning: Determinant has increased; this should not happen: log(det) > log(previous_det) (-50.139867893804954 > -77.074466960336352). You may want to try with a higher value of support_fraction (current value: 0.501).\n",
            "  RuntimeWarning)\n",
            "/usr/local/lib/python3.6/dist-packages/sklearn/covariance/_robust_covariance.py:170: RuntimeWarning: Determinant has increased; this should not happen: log(det) > log(previous_det) (-51.027942813065465 > -77.486965395382612). You may want to try with a higher value of support_fraction (current value: 0.501).\n",
            "  RuntimeWarning)\n",
            "/usr/local/lib/python3.6/dist-packages/sklearn/covariance/_robust_covariance.py:170: RuntimeWarning: Determinant has increased; this should not happen: log(det) > log(previous_det) (-50.826679532509374 > -76.249388867048125). You may want to try with a higher value of support_fraction (current value: 0.501).\n",
            "  RuntimeWarning)\n"
          ],
          "name": "stderr"
        },
        {
          "output_type": "stream",
          "text": [
            "Minimum Convariance Determinant (MCD) ROC : 0.9903, precision @ rank n : 0.7534, execution time : 17.4198s\n",
            "One-class SVM(OCSVM) ROC : 0.9922, precision @ rank n : 0.9553, execution time : 68.8122s\n",
            "Principal Component Analysis (PCA) ROC : 0.9902, precision @ rank n : 0.9503, execution time : 0.0346s\n",
            "\n",
            "... processing vertebral.mat ...\n",
            "Angle-based Outliers Detector (ABOD)  ROC : 0.2797, precision @ rank n : 0.0, execution time : 0.0636s\n",
            "Cluster-based Local Outlier Factor ROC : 0.3908, precision @ rank n : 0.0, execution time : 0.0532s\n",
            "Feature Bagging ROC : 0.3027, precision @ rank n : 0.0, execution time : 0.0462s\n",
            "Histogram-base Outlier Detection (HBOS)  ROC : 0.2695, precision @ rank n : 0.0, execution time : 0.0031s\n",
            "Isolation Forest ROC : 0.3576, precision @ rank n : 0.0, execution time : 0.3211s\n",
            "K Nearest Neighbours (KNN) ROC : 0.318, precision @ rank n : 0.0, execution time : 0.0102s\n",
            "Local Outlier Factor (LOF) ROC : 0.318, precision @ rank n : 0.0, execution time : 0.0049s\n",
            "Minimum Convariance Determinant (MCD) ROC : 0.3308, precision @ rank n : 0.0, execution time : 0.0679s\n",
            "One-class SVM(OCSVM) ROC : 0.4087, precision @ rank n : 0.0, execution time : 0.0032s\n",
            "Principal Component Analysis (PCA) ROC : 0.3397, precision @ rank n : 0.0, execution time : 0.0022s\n",
            "\n",
            "... processing vowels.mat ...\n",
            "Angle-based Outliers Detector (ABOD)  ROC : 0.9521, precision @ rank n : 0.4706, execution time : 0.2994s\n",
            "Cluster-based Local Outlier Factor ROC : 0.9278, precision @ rank n : 0.4118, execution time : 0.1448s\n",
            "Feature Bagging ROC : 0.9385, precision @ rank n : 0.3529, execution time : 0.3227s\n",
            "Histogram-base Outlier Detection (HBOS)  ROC : 0.6758, precision @ rank n : 0.1765, execution time : 0.004s\n",
            "Isolation Forest ROC : 0.6933, precision @ rank n : 0.1765, execution time : 0.4156s\n",
            "K Nearest Neighbours (KNN) ROC : 0.9568, precision @ rank n : 0.5294, execution time : 0.0703s\n",
            "Local Outlier Factor (LOF) ROC : 0.9345, precision @ rank n : 0.4118, execution time : 0.0344s\n",
            "Minimum Convariance Determinant (MCD) ROC : 0.6779, precision @ rank n : 0.0, execution time : 1.1098s\n",
            "One-class SVM(OCSVM) ROC : 0.7415, precision @ rank n : 0.2941, execution time : 0.0778s\n",
            "Principal Component Analysis (PCA) ROC : 0.5787, precision @ rank n : 0.1176, execution time : 0.0038s\n",
            "\n",
            "... processing wbc.mat ...\n",
            "Angle-based Outliers Detector (ABOD)  ROC : 0.9232, precision @ rank n : 0.3, execution time : 0.1078s\n",
            "Cluster-based Local Outlier Factor ROC : 0.9063, precision @ rank n : 0.6, execution time : 0.0679s\n",
            "Feature Bagging ROC : 0.9415, precision @ rank n : 0.5, execution time : 0.0842s\n",
            "Histogram-base Outlier Detection (HBOS)  ROC : 0.9592, precision @ rank n : 0.7, execution time : 0.0112s\n",
            "Isolation Forest ROC : 0.9451, precision @ rank n : 0.5, execution time : 0.3367s\n",
            "K Nearest Neighbours (KNN) ROC : 0.9437, precision @ rank n : 0.5, execution time : 0.0166s\n",
            "Local Outlier Factor (LOF) ROC : 0.9352, precision @ rank n : 0.4, execution time : 0.0087s\n",
            "Minimum Convariance Determinant (MCD) ROC : 0.8986, precision @ rank n : 0.4, execution time : 0.1104s\n",
            "One-class SVM(OCSVM) ROC : 0.9408, precision @ rank n : 0.5, execution time : 0.0093s\n",
            "Principal Component Analysis (PCA) ROC : 0.9324, precision @ rank n : 0.6, execution time : 0.0035s\n"
          ],
          "name": "stdout"
        }
      ]
    }
  ]
}