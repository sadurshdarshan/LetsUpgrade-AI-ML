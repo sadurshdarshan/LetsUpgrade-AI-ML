{
  "nbformat": 4,
  "nbformat_minor": 0,
  "metadata": {
    "colab": {
      "name": "Day 3.ipynb",
      "provenance": []
    },
    "kernelspec": {
      "name": "python3",
      "display_name": "Python 3"
    }
  },
  "cells": [
    {
      "cell_type": "code",
      "metadata": {
        "id": "BEnuY6aKjAvm",
        "colab_type": "code",
        "colab": {
          "base_uri": "https://localhost:8080/",
          "height": 68
        },
        "outputId": "d77ee47f-3e56-4ae1-cf5f-9dcae338c167"
      },
      "source": [
        "#Write a program to subtract two complex numbers in Python.\n",
        "a=complex(input(\"Enter the value of a = \"))\n",
        "b=complex(input(\"Enter the value of b = \"))\n",
        "c=a-b\n",
        "print(\"The substracted value of a and b =\",c)"
      ],
      "execution_count": 11,
      "outputs": [
        {
          "output_type": "stream",
          "text": [
            "Enter the value of a = 6-7j\n",
            "Enter the value of b = 2-4j\n",
            "The substracted value of a and b = (4-3j)\n"
          ],
          "name": "stdout"
        }
      ]
    },
    {
      "cell_type": "code",
      "metadata": {
        "id": "YlZKJWGSj_m2",
        "colab_type": "code",
        "colab": {
          "base_uri": "https://localhost:8080/",
          "height": 68
        },
        "outputId": "f5a4b629-4dfa-4931-ec0e-5f39a821c32e"
      },
      "source": [
        "#Write a program to find the fourth root of a number.\n",
        "a=b**c\n",
        "b=int(input(\"Enter the value of b =\"))\n",
        "c=int(input(\"Enter the value of c =\"))\n",
        "print(\"The fourth root of\",b ,\"=\",a)"
      ],
      "execution_count": 18,
      "outputs": [
        {
          "output_type": "stream",
          "text": [
            "Enter the value of b =2\n",
            "Enter the value of c =2\n",
            "The fourth root of 2 = 256\n"
          ],
          "name": "stdout"
        }
      ]
    },
    {
      "cell_type": "code",
      "metadata": {
        "id": "Mlcriaazko0U",
        "colab_type": "code",
        "colab": {
          "base_uri": "https://localhost:8080/",
          "height": 51
        },
        "outputId": "873e04fb-230b-4013-e5b2-5872c47ab1f8"
      },
      "source": [
        "#Write a program to swap two numbers in Python with the help of a temporary variable.\n",
        "a=5\n",
        "b=10\n",
        "temp=a\n",
        "a=b\n",
        "b=temp\n",
        "print(\"The swapped number of a : \",a)\n",
        "print(\"The swapped number of b : \",b)"
      ],
      "execution_count": 25,
      "outputs": [
        {
          "output_type": "stream",
          "text": [
            "The swapped number of a :  10\n",
            "The swapped number of b :  5\n"
          ],
          "name": "stdout"
        }
      ]
    },
    {
      "cell_type": "code",
      "metadata": {
        "id": "-wYC8YRqrxd-",
        "colab_type": "code",
        "colab": {
          "base_uri": "https://localhost:8080/",
          "height": 51
        },
        "outputId": "2a8cd138-a8c2-4a32-d438-f28b1e5b6ba4"
      },
      "source": [
        "#Write a program to swap two numbers in Python without using a temporary variable.\n",
        "a=8\n",
        "b=4\n",
        "a,b=b,a\n",
        "print(\"The swapped number of a : \",a)\n",
        "print(\"The swapped number of b : \",b)"
      ],
      "execution_count": 26,
      "outputs": [
        {
          "output_type": "stream",
          "text": [
            "The swapped number of a :  4\n",
            "The swapped number of b :  8\n"
          ],
          "name": "stdout"
        }
      ]
    },
    {
      "cell_type": "code",
      "metadata": {
        "id": "E4Hxm00ytY4j",
        "colab_type": "code",
        "colab": {
          "base_uri": "https://localhost:8080/",
          "height": 85
        },
        "outputId": "691cf340-1056-4676-e75c-677465ebda0b"
      },
      "source": [
        "#Write a program to convert fahrenheit to kelvin and celsius both.\n",
        "temperature=float(input(\"Enter the temperature in fahrenheit -\"))\n",
        "celsius=((temperature-32.0)*(5.0/9.0))\n",
        "kelvin=celsius+273\n",
        "print(\"The given temperature in fahrenheit -\",temperature,\".f\")\n",
        "print(\"coverted temperature from fahrenheit to celsius -\",celsius,\".C\")\n",
        "print(\"kelvin -\",kelvin,\"K\")"
      ],
      "execution_count": 41,
      "outputs": [
        {
          "output_type": "stream",
          "text": [
            "Enter the temperature in fahrenheit -120\n",
            "The given temperature in fahrenheit - 120.0 .f\n",
            "coverted temperature from fahrenheit to celsius - 48.88888888888889 .C\n",
            "kelvin - 321.8888888888889 K\n"
          ],
          "name": "stdout"
        }
      ]
    },
    {
      "cell_type": "code",
      "metadata": {
        "id": "Hawd114RzDgZ",
        "colab_type": "code",
        "colab": {
          "base_uri": "https://localhost:8080/",
          "height": 102
        },
        "outputId": "67f4a47d-6552-446a-d85b-75d4b2a2e494"
      },
      "source": [
        "#Write a program to demonstrate all the available data types in Python. Hint: Use type() function.\n",
        "a=15\n",
        "b=1.66\n",
        "c=\"python\"\n",
        "d=(1,5,8)\n",
        "e=[5,8,7]\n",
        "print(type(a))\n",
        "print(type(b))\n",
        "print(type(c))\n",
        "print(type(d))\n",
        "print(type(e))"
      ],
      "execution_count": 45,
      "outputs": [
        {
          "output_type": "stream",
          "text": [
            "<class 'int'>\n",
            "<class 'float'>\n",
            "<class 'str'>\n",
            "<class 'tuple'>\n",
            "<class 'list'>\n"
          ],
          "name": "stdout"
        }
      ]
    },
    {
      "cell_type": "code",
      "metadata": {
        "id": "BrKLzs-M0lEm",
        "colab_type": "code",
        "colab": {}
      },
      "source": [
        "#Create a Markdown cell in jupyter and list the steps\n"
      ],
      "execution_count": null,
      "outputs": []
    },
    {
      "cell_type": "code",
      "metadata": {
        "id": "pevXefL20_y_",
        "colab_type": "code",
        "colab": {}
      },
      "source": [
        ""
      ],
      "execution_count": null,
      "outputs": []
    },
    {
      "cell_type": "markdown",
      "metadata": {
        "id": "6bVloJY_0uAC",
        "colab_type": "text"
      },
      "source": [
        "***python***\n",
        "\n",
        "\n",
        "1.   save the assignment file in an folder named as DAY n with respective date.\n",
        "2.   create and account in github.\n",
        "3.   push the assignment folder into our github account visibly to the public.\n",
        "4.   copy the URL of the assignment folder.\n",
        "5.   paste the copied URL on to the assignment link provided by the Lets upgrade.\n",
        "\n",
        "\n",
        "\n",
        "\n",
        "\n",
        "\n",
        "\n",
        "\n",
        "\n",
        "\n",
        "\n"
      ]
    }
  ]
}