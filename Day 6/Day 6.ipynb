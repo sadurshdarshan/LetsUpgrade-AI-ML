{
 "cells": [
  {
   "cell_type": "markdown",
   "metadata": {},
   "source": [
    "# Question 1:\n",
    "Assuming that we have some email addresses in the \"username@companyname.com\" format, please write program\n",
    "to print the company name of a given email address. Both user names and company names are composed of letters\n",
    "only.\n"
   ]
  },
  {
   "cell_type": "code",
   "execution_count": 16,
   "metadata": {},
   "outputs": [
    {
     "name": "stdout",
     "output_type": "stream",
     "text": [
      "Enter the mail address - sadursh@tesla.com\n",
      "company_name -  tesla\n"
     ]
    }
   ],
   "source": [
    "Email=input(\"Enter the mail address - \")\n",
    "company_name=Email.split(\"@\")[1].split(\".\")[0]\n",
    "print(\"company_name - \",company_name)"
   ]
  },
  {
   "cell_type": "markdown",
   "metadata": {},
   "source": [
    "# Question 2:\n",
    "Write a program that accepts a comma-separated sequence of words as input and prints the words in a comma\n",
    "separated sequence after sorting them alphabetically.\n"
   ]
  },
  {
   "cell_type": "code",
   "execution_count": 1,
   "metadata": {},
   "outputs": [
    {
     "name": "stdout",
     "output_type": "stream",
     "text": [
      "Enter the list of words - car,bike,aero\n",
      "car,bike,aero\n",
      "['car', 'bike', 'aero']\n",
      "aero bike car "
     ]
    }
   ],
   "source": [
    "List=input(\"Enter the list of words - \")\n",
    "print(List)\n",
    "s=List.split(\",\")\n",
    "print(s)\n",
    "d=s.sort()\n",
    "for d in s:\n",
    "    print(d,end=\" \")"
   ]
  },
  {
   "cell_type": "markdown",
   "metadata": {},
   "source": [
    "# Question 3:\n",
    "Create your own Jupyter Notebook for Sets"
   ]
  },
  {
   "cell_type": "code",
   "execution_count": 22,
   "metadata": {},
   "outputs": [
    {
     "name": "stdout",
     "output_type": "stream",
     "text": [
      "{'bmw', 'benz', 'audi'}\n",
      "{'bmw', 'benz', 'audi', 'maserati'}\n",
      "4\n",
      "{'bmw', 'benz', 'maserati'}\n",
      "set()\n"
     ]
    }
   ],
   "source": [
    "set_1= {\"bmw\", \"audi\", \"benz\"}\n",
    "print(set_1)\n",
    "set_1.add(\"maserati\")\n",
    "print(set_1)\n",
    "print(len(set_1))\n",
    "set_1.remove(\"audi\")\n",
    "print(set_1)\n",
    "set_1.clear()\n",
    "print(set_1)"
   ]
  },
  {
   "cell_type": "markdown",
   "metadata": {},
   "source": [
    "# Question 4:\n",
    "Given a list of n-1 numbers ranging from 1 to n, your task is to find the missing number. There are no duplicates.\n"
   ]
  },
  {
   "cell_type": "code",
   "execution_count": 43,
   "metadata": {},
   "outputs": [
    {
     "name": "stdout",
     "output_type": "stream",
     "text": [
      "(1, 2, 4, 6, 7, 9)\n",
      "0 3 5 8 "
     ]
    }
   ],
   "source": [
    "list_1=(1,2,4,6,7,9)\n",
    "print(list_1)\n",
    "for num in range(10):\n",
    "    if num not in list_1:\n",
    "        print(num,end=\" \")"
   ]
  },
  {
   "cell_type": "markdown",
   "metadata": {},
   "source": [
    "# Question 5:\n",
    "With a given list L, write a program to print this list L after removing all duplicate values with original order reserved."
   ]
  },
  {
   "cell_type": "code",
   "execution_count": 54,
   "metadata": {},
   "outputs": [],
   "source": [
    "L=(2,22,12,22,56,78,22,44,56)\n",
    "for i in L:\n",
    "    if i==L:\n",
    "        print(L)\n",
    "        \n",
    "\n",
    "     \n"
   ]
  },
  {
   "cell_type": "code",
   "execution_count": 60,
   "metadata": {},
   "outputs": [
    {
     "name": "stdout",
     "output_type": "stream",
     "text": [
      "[10, 12, 25, 10, 55, 12, 78, 96, 55]\n",
      "[10, 12, 25, 55, 78, 96]\n"
     ]
    }
   ],
   "source": [
    "list_1=[10,12,25,10,55,12,78,96,55]\n",
    "list_2=[]\n",
    "print(list_1)\n",
    "for n in list_1:\n",
    "    if n not in list_2:\n",
    "        list_2.append(n)\n",
    "print(list_2)\n",
    "        "
   ]
  }
 ],
 "metadata": {
  "kernelspec": {
   "display_name": "Python 3",
   "language": "python",
   "name": "python3"
  },
  "language_info": {
   "codemirror_mode": {
    "name": "ipython",
    "version": 3
   },
   "file_extension": ".py",
   "mimetype": "text/x-python",
   "name": "python",
   "nbconvert_exporter": "python",
   "pygments_lexer": "ipython3",
   "version": "3.7.6"
  }
 },
 "nbformat": 4,
 "nbformat_minor": 4
}
