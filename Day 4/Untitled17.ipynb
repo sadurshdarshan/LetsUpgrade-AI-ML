{
  "nbformat": 4,
  "nbformat_minor": 0,
  "metadata": {
    "colab": {
      "name": "Untitled17.ipynb",
      "provenance": [],
      "collapsed_sections": []
    },
    "kernelspec": {
      "name": "python3",
      "display_name": "Python 3"
    }
  },
  "cells": [
    {
      "cell_type": "code",
      "metadata": {
        "id": "pYiYj5gM7nCO",
        "colab_type": "code",
        "colab": {
          "base_uri": "https://localhost:8080/",
          "height": 119
        },
        "outputId": "97911430-35a1-4a62-8994-76b1a083b526"
      },
      "source": [
        "# Research on whether addition, subtraction, multiplication, division, floor division and modulo\n",
        "# operations be performed on complex numbers. Based on your study, implement a Python\n",
        "# program to demonstrate these operations.\n",
        "\n",
        "a=complex(input(\"Enter the complex number - \"))\n",
        "b=complex(input(\"Enter the complex number - \"))\n",
        "\n",
        "addition=a+b\n",
        "print(\"sum of a+b is\",addition)\n",
        "\n",
        "subtraction=a-b\n",
        "print(\"subtraction of a-b is\",subtraction)\n",
        "\n",
        "multiplication=a*b\n",
        "print(\"multiplication of a*b is\",multiplication)\n",
        "\n",
        "division=a/b\n",
        "print(\"division of a/b is\",division)"
      ],
      "execution_count": 5,
      "outputs": [
        {
          "output_type": "stream",
          "text": [
            "Enter the complex number - 5+4j\n",
            "Enter the complex number - 2+1j\n",
            "sum of a+b is (7+5j)\n",
            "subtraction of a-b is (3+3j)\n",
            "multiplication of a*b is (6+13j)\n",
            "division of a/b is (2.8+0.6j)\n"
          ],
          "name": "stdout"
        }
      ]
    },
    {
      "cell_type": "markdown",
      "metadata": {
        "id": "lzIoGdMe3PxM",
        "colab_type": "text"
      },
      "source": [
        " **modulo and floor division on complex number gives an error, it is due to the presence of imaginary part in complex number, there is a possible way by taking the modulus of the complex number**\n",
        "\n"
      ]
    },
    {
      "cell_type": "code",
      "metadata": {
        "id": "F4jUF52J3gKH",
        "colab_type": "code",
        "colab": {}
      },
      "source": [
        "# Research on range() functions and its parameters. Create a markdown cell and write in your own\n",
        "# words (no copy-paste from google please) what you understand about it. Implement a small\n",
        "# program of your choice on the same."
      ],
      "execution_count": null,
      "outputs": []
    },
    {
      "cell_type": "markdown",
      "metadata": {
        "id": "6v_-Qvo23raG",
        "colab_type": "text"
      },
      "source": [
        "**Range function is used to create an sequence of number either with step size or without step size,say if you want to create number from 1 to 100, it will huge amount of time to type numerical contains 100numbers so we can use an inbuilt function called range().**\n"
      ]
    },
    {
      "cell_type": "code",
      "metadata": {
        "id": "Dlfy3X5547DS",
        "colab_type": "code",
        "colab": {
          "base_uri": "https://localhost:8080/",
          "height": 34
        },
        "outputId": "d0678302-ca35-4d01-d2e6-8a0d7da4b9bc"
      },
      "source": [
        "for x in range(10):\n",
        "  print(x,end=\"-\")"
      ],
      "execution_count": 15,
      "outputs": [
        {
          "output_type": "stream",
          "text": [
            "0-1-2-3-4-5-6-7-8-9-"
          ],
          "name": "stdout"
        }
      ]
    },
    {
      "cell_type": "code",
      "metadata": {
        "id": "_cCjSdyU5qkX",
        "colab_type": "code",
        "colab": {
          "base_uri": "https://localhost:8080/",
          "height": 34
        },
        "outputId": "11ec77a7-96c6-4b41-c3a1-8c269cba5378"
      },
      "source": [
        "#range function with step size\n",
        "for x in range(20,200,10): #range(start,end,step)\n",
        "  print(x,end=\"-\")"
      ],
      "execution_count": 14,
      "outputs": [
        {
          "output_type": "stream",
          "text": [
            "20-30-40-50-60-70-80-90-100-110-120-130-140-150-160-170-180-190-"
          ],
          "name": "stdout"
        }
      ]
    },
    {
      "cell_type": "code",
      "metadata": {
        "id": "TQPSmYZY6Kvt",
        "colab_type": "code",
        "colab": {
          "base_uri": "https://localhost:8080/",
          "height": 85
        },
        "outputId": "59d70c8a-5071-4f50-a6bc-02efb153f905"
      },
      "source": [
        "#  Consider two numbers. Perform their subtraction and if the result of subtraction is greater than\n",
        "# 25, print their multiplication result else print their division result.\n",
        "\n",
        "x=int(input(\"enter the value -\"))\n",
        "y=int(input(\"enter the value -\"))\n",
        "z=x-y\n",
        "print(\"subtraction of x and y -\",z)\n",
        "if z>25:\n",
        "  a=x*y\n",
        "  print(\"multiplication of x an y -\",a)\n",
        "elif  z<25:\n",
        "  b=x/y\n",
        "  print(\"Divisio of x and y -\",b)"
      ],
      "execution_count": 29,
      "outputs": [
        {
          "output_type": "stream",
          "text": [
            "enter the value -100\n",
            "enter the value -40\n",
            "subtraction of x and y - 60\n",
            "multiplication of x an y - 4000\n"
          ],
          "name": "stdout"
        }
      ]
    },
    {
      "cell_type": "code",
      "metadata": {
        "id": "uOd4FaWB8BOY",
        "colab_type": "code",
        "colab": {
          "base_uri": "https://localhost:8080/",
          "height": 102
        },
        "outputId": "af63ad56-ce34-41af-cb33-791425160699"
      },
      "source": [
        "# Consider a list of 10 elements of integer values. If the number in the list is divisible by 2, print the\n",
        "# result as \"square of that number minus 2\".\n",
        "\n",
        "for x in range(10):\n",
        "  if x%2==0:\n",
        "    print(x,\"square of that number minus 2\")"
      ],
      "execution_count": 39,
      "outputs": [
        {
          "output_type": "stream",
          "text": [
            "0 square of that number minus 2\n",
            "2 square of that number minus 2\n",
            "4 square of that number minus 2\n",
            "6 square of that number minus 2\n",
            "8 square of that number minus 2\n"
          ],
          "name": "stdout"
        }
      ]
    },
    {
      "cell_type": "code",
      "metadata": {
        "id": "8Os7P5kO9K1z",
        "colab_type": "code",
        "colab": {
          "base_uri": "https://localhost:8080/",
          "height": 85
        },
        "outputId": "dfc0683c-ac4b-43af-f96b-3a925e9d6537"
      },
      "source": [
        "# Consider a list of 10 elements. Print all the elements in the list which are greater than 7 when that\n",
        "# number is divided 2.\n",
        "\n",
        "for x in range(15):\n",
        "  if x>7 and x%2==0:\n",
        "    print(x)\n",
        "    \n",
        "  \n",
        "\n",
        "    "
      ],
      "execution_count": 66,
      "outputs": [
        {
          "output_type": "stream",
          "text": [
            "8\n",
            "10\n",
            "12\n",
            "14\n"
          ],
          "name": "stdout"
        }
      ]
    }
  ]
}