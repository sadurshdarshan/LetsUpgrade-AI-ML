{
  "nbformat": 4,
  "nbformat_minor": 0,
  "metadata": {
    "colab": {
      "name": "Day 21",
      "provenance": []
    },
    "kernelspec": {
      "name": "python3",
      "display_name": "Python 3"
    }
  },
  "cells": [
    {
      "cell_type": "code",
      "metadata": {
        "id": "L8IiDm3EGsYn",
        "colab_type": "code",
        "colab": {}
      },
      "source": [
        "import pandas as pd\n",
        "import numpy as np\n",
        "import matplotlib.pyplot as plt"
      ],
      "execution_count": null,
      "outputs": []
    },
    {
      "cell_type": "code",
      "metadata": {
        "id": "hjR-pPYyG22v",
        "colab_type": "code",
        "colab": {
          "base_uri": "https://localhost:8080/",
          "height": 230
        },
        "outputId": "42a77b76-796c-4017-e64a-279a0909a694"
      },
      "source": [
        "data=pd.read_excel('Linear Regression.xlsx')\n",
        "print(data.head())\n",
        "print(data.isna().sum())"
      ],
      "execution_count": null,
      "outputs": [
        {
          "output_type": "stream",
          "text": [
            "    price  sqft_living  bedrooms  bathrooms  floors\n",
            "0  221900         1180         3       1.00     1.0\n",
            "1  538000         2570         3       2.25     2.0\n",
            "2  180000          770         2       1.00     1.0\n",
            "3  604000         1960         4       3.00     1.0\n",
            "4  510000         1680         3       2.00     1.0\n",
            "price          0\n",
            "sqft_living    0\n",
            "bedrooms       0\n",
            "bathrooms      0\n",
            "floors         0\n",
            "dtype: int64\n"
          ],
          "name": "stdout"
        }
      ]
    },
    {
      "cell_type": "code",
      "metadata": {
        "id": "YMC2eSOyK4H6",
        "colab_type": "code",
        "colab": {
          "base_uri": "https://localhost:8080/",
          "height": 176
        },
        "outputId": "f6dad004-2d11-4526-faaa-8a5a78b628cb"
      },
      "source": [
        "print(data.describe())"
      ],
      "execution_count": null,
      "outputs": [
        {
          "output_type": "stream",
          "text": [
            "              price   sqft_living      bedrooms     bathrooms        floors\n",
            "count  2.161300e+04  21613.000000  21613.000000  21613.000000  21613.000000\n",
            "mean   5.400881e+05   2079.899736      3.370842      2.114757      1.494309\n",
            "std    3.671272e+05    918.440897      0.930062      0.770163      0.539989\n",
            "min    7.500000e+04    290.000000      0.000000      0.000000      1.000000\n",
            "25%    3.219500e+05   1427.000000      3.000000      1.750000      1.000000\n",
            "50%    4.500000e+05   1910.000000      3.000000      2.250000      1.500000\n",
            "75%    6.450000e+05   2550.000000      4.000000      2.500000      2.000000\n",
            "max    7.700000e+06  13540.000000     33.000000      8.000000      3.500000\n"
          ],
          "name": "stdout"
        }
      ]
    },
    {
      "cell_type": "code",
      "metadata": {
        "id": "u-JVNlf5K916",
        "colab_type": "code",
        "colab": {
          "base_uri": "https://localhost:8080/",
          "height": 52
        },
        "outputId": "091a0898-cc17-4aa7-da46-06cecdf576c5"
      },
      "source": [
        "x=data.iloc[:,1].values\n",
        "y=data.iloc[:,0].values\n",
        "from sklearn.model_selection import train_test_split\n",
        "x_train, x_test, y_train, y_test=train_test_split(np.array(x),np.array(y),test_size=0.2, random_state=0)\n",
        "print(x_train.shape)\n",
        "print(y_train.shape)"
      ],
      "execution_count": null,
      "outputs": [
        {
          "output_type": "stream",
          "text": [
            "(17290,)\n",
            "(17290,)\n"
          ],
          "name": "stdout"
        }
      ]
    },
    {
      "cell_type": "code",
      "metadata": {
        "id": "p7RBp-HI2k5M",
        "colab_type": "code",
        "colab": {}
      },
      "source": [
        "x_train= x_train.reshape(-1, 1)\n",
        "y_train= y_train.reshape(-1, 1)\n",
        "x_test = x_test.reshape(-1, 1)"
      ],
      "execution_count": null,
      "outputs": []
    },
    {
      "cell_type": "markdown",
      "metadata": {
        "id": "f_OoKnpD1rzc",
        "colab_type": "text"
      },
      "source": [
        ""
      ]
    },
    {
      "cell_type": "code",
      "metadata": {
        "id": "PsBu-BaGNB4S",
        "colab_type": "code",
        "colab": {
          "base_uri": "https://localhost:8080/",
          "height": 34
        },
        "outputId": "8e10149d-92f8-40ce-cbc1-7a054932edbe"
      },
      "source": [
        "from sklearn.linear_model import LinearRegression\n",
        "lin_reg=LinearRegression()\n",
        "lin_reg.fit(x_train, y_train)"
      ],
      "execution_count": null,
      "outputs": [
        {
          "output_type": "execute_result",
          "data": {
            "text/plain": [
              "LinearRegression(copy_X=True, fit_intercept=True, n_jobs=None, normalize=False)"
            ]
          },
          "metadata": {
            "tags": []
          },
          "execution_count": 113
        }
      ]
    },
    {
      "cell_type": "code",
      "metadata": {
        "id": "HKbP-EghOMTu",
        "colab_type": "code",
        "colab": {
          "base_uri": "https://localhost:8080/",
          "height": 52
        },
        "outputId": "3169b527-2355-4edc-ae39-4cbf52fcc581"
      },
      "source": [
        "print(x_train.shape)\n",
        "print(y_train.shape)"
      ],
      "execution_count": null,
      "outputs": [
        {
          "output_type": "stream",
          "text": [
            "(17290, 1)\n",
            "(17290, 1)\n"
          ],
          "name": "stdout"
        }
      ]
    },
    {
      "cell_type": "code",
      "metadata": {
        "id": "e6EFiy5VOCtx",
        "colab_type": "code",
        "colab": {
          "base_uri": "https://localhost:8080/",
          "height": 293
        },
        "outputId": "92b4e922-83a6-4899-e97f-6059489d5c2e"
      },
      "source": [
        "plt.scatter(x_train, y_train, color='yellow' )\n",
        "plt.plot(x_train, lin_reg.predict(x_train), color='pink')"
      ],
      "execution_count": null,
      "outputs": [
        {
          "output_type": "execute_result",
          "data": {
            "text/plain": [
              "[<matplotlib.lines.Line2D at 0x7f9218ddd4e0>]"
            ]
          },
          "metadata": {
            "tags": []
          },
          "execution_count": 122
        },
        {
          "output_type": "display_data",
          "data": {
            "image/png": "[encoded data removed]",
            "text/plain": [
              "<Figure size 432x288 with 1 Axes>"
            ]
          },
          "metadata": {
            "tags": [],
            "needs_background": "light"
          }
        }
      ]
    },
    {
      "cell_type": "code",
      "metadata": {
        "id": "iwFU8H8YOF7T",
        "colab_type": "code",
        "colab": {
          "base_uri": "https://localhost:8080/",
          "height": 141
        },
        "outputId": "70faef9d-6c8d-44b3-fb84-4766b9325959"
      },
      "source": [
        "y_pred=lin_reg.predict(x_train)\n",
        "print(y_pred)"
      ],
      "execution_count": null,
      "outputs": [
        {
          "output_type": "stream",
          "text": [
            "[[397573.57161207]\n",
            " [457206.96865933]\n",
            " [261268.66407547]\n",
            " ...\n",
            " [621908.73193273]\n",
            " [624748.41750641]\n",
            " [627588.10308009]]\n"
          ],
          "name": "stdout"
        }
      ]
    },
    {
      "cell_type": "markdown",
      "metadata": {
        "id": "rwDE10ABpsK0",
        "colab_type": "text"
      },
      "source": [
        "# ***ATTRITION DATASET***"
      ]
    },
    {
      "cell_type": "code",
      "metadata": {
        "id": "Su50X6HH-z63",
        "colab_type": "code",
        "colab": {}
      },
      "source": [
        "import pandas as pd\n",
        "file=pd.read_csv('general_data.csv')"
      ],
      "execution_count": null,
      "outputs": []
    },
    {
      "cell_type": "code",
      "metadata": {
        "id": "hu-2pQR3PZcg",
        "colab_type": "code",
        "colab": {
          "base_uri": "https://localhost:8080/",
          "height": 197
        },
        "outputId": "d76eeb79-5f28-43cc-a87f-7482899896a6"
      },
      "source": [
        "col_list=['MonthlyIncome', 'Age', 'EmployeeID', 'TotalWorkingYears', 'YearsAtCompany', 'YearsAtCompany'  ]\n",
        "dt=file[file.columns[file.columns.isin(col_list)]]\n",
        "dt.head()"
      ],
      "execution_count": null,
      "outputs": [
        {
          "output_type": "execute_result",
          "data": {
            "text/html": [
              "<div>\n",
              "<style scoped>\n",
              "    .dataframe tbody tr th:only-of-type {\n",
              "        vertical-align: middle;\n",
              "    }\n",
              "\n",
              "    .dataframe tbody tr th {\n",
              "        vertical-align: top;\n",
              "    }\n",
              "\n",
              "    .dataframe thead th {\n",
              "        text-align: right;\n",
              "    }\n",
              "</style>\n",
              "<table border=\"1\" class=\"dataframe\">\n",
              "  <thead>\n",
              "    <tr style=\"text-align: right;\">\n",
              "      <th></th>\n",
              "      <th>Age</th>\n",
              "      <th>EmployeeID</th>\n",
              "      <th>MonthlyIncome</th>\n",
              "      <th>TotalWorkingYears</th>\n",
              "      <th>YearsAtCompany</th>\n",
              "    </tr>\n",
              "  </thead>\n",
              "  <tbody>\n",
              "    <tr>\n",
              "      <th>0</th>\n",
              "      <td>51</td>\n",
              "      <td>1</td>\n",
              "      <td>131160</td>\n",
              "      <td>1.0</td>\n",
              "      <td>1</td>\n",
              "    </tr>\n",
              "    <tr>\n",
              "      <th>1</th>\n",
              "      <td>31</td>\n",
              "      <td>2</td>\n",
              "      <td>41890</td>\n",
              "      <td>6.0</td>\n",
              "      <td>5</td>\n",
              "    </tr>\n",
              "    <tr>\n",
              "      <th>2</th>\n",
              "      <td>32</td>\n",
              "      <td>3</td>\n",
              "      <td>193280</td>\n",
              "      <td>5.0</td>\n",
              "      <td>5</td>\n",
              "    </tr>\n",
              "    <tr>\n",
              "      <th>3</th>\n",
              "      <td>38</td>\n",
              "      <td>4</td>\n",
              "      <td>83210</td>\n",
              "      <td>13.0</td>\n",
              "      <td>8</td>\n",
              "    </tr>\n",
              "    <tr>\n",
              "      <th>4</th>\n",
              "      <td>32</td>\n",
              "      <td>5</td>\n",
              "      <td>23420</td>\n",
              "      <td>9.0</td>\n",
              "      <td>6</td>\n",
              "    </tr>\n",
              "  </tbody>\n",
              "</table>\n",
              "</div>"
            ],
            "text/plain": [
              "   Age  EmployeeID  MonthlyIncome  TotalWorkingYears  YearsAtCompany\n",
              "0   51           1         131160                1.0               1\n",
              "1   31           2          41890                6.0               5\n",
              "2   32           3         193280                5.0               5\n",
              "3   38           4          83210               13.0               8\n",
              "4   32           5          23420                9.0               6"
            ]
          },
          "metadata": {
            "tags": []
          },
          "execution_count": 12
        }
      ]
    },
    {
      "cell_type": "code",
      "metadata": {
        "id": "Dtqlifjnb6Ii",
        "colab_type": "code",
        "colab": {
          "base_uri": "https://localhost:8080/",
          "height": 123
        },
        "outputId": "9d8305d0-c5e2-43de-fe6e-56b807311227"
      },
      "source": [
        "dt.isna().sum()"
      ],
      "execution_count": null,
      "outputs": [
        {
          "output_type": "execute_result",
          "data": {
            "text/plain": [
              "Age                  0\n",
              "EmployeeID           0\n",
              "MonthlyIncome        0\n",
              "TotalWorkingYears    9\n",
              "YearsAtCompany       0\n",
              "dtype: int64"
            ]
          },
          "metadata": {
            "tags": []
          },
          "execution_count": 64
        }
      ]
    },
    {
      "cell_type": "code",
      "metadata": {
        "id": "9h0v_NfUcE-p",
        "colab_type": "code",
        "colab": {
          "base_uri": "https://localhost:8080/",
          "height": 123
        },
        "outputId": "3bfc4adc-e2b3-468c-8b2a-b3db232eaa0d"
      },
      "source": [
        "dg=dt.fillna(method='ffill')\n",
        "dg.isna().sum()\n"
      ],
      "execution_count": null,
      "outputs": [
        {
          "output_type": "execute_result",
          "data": {
            "text/plain": [
              "Age                  0\n",
              "EmployeeID           0\n",
              "MonthlyIncome        0\n",
              "TotalWorkingYears    0\n",
              "YearsAtCompany       0\n",
              "dtype: int64"
            ]
          },
          "metadata": {
            "tags": []
          },
          "execution_count": 132
        }
      ]
    },
    {
      "cell_type": "code",
      "metadata": {
        "id": "MXPDOng_T_RI",
        "colab_type": "code",
        "colab": {
          "base_uri": "https://localhost:8080/",
          "height": 406
        },
        "outputId": "0992c470-6771-481e-9362-848a864aaadd"
      },
      "source": [
        "x=dg.iloc[:, [0, 1, 3, 4]]\n",
        "y=dg.iloc[:, 2:3]\n",
        "x"
      ],
      "execution_count": null,
      "outputs": [
        {
          "output_type": "execute_result",
          "data": {
            "text/html": [
              "<div>\n",
              "<style scoped>\n",
              "    .dataframe tbody tr th:only-of-type {\n",
              "        vertical-align: middle;\n",
              "    }\n",
              "\n",
              "    .dataframe tbody tr th {\n",
              "        vertical-align: top;\n",
              "    }\n",
              "\n",
              "    .dataframe thead th {\n",
              "        text-align: right;\n",
              "    }\n",
              "</style>\n",
              "<table border=\"1\" class=\"dataframe\">\n",
              "  <thead>\n",
              "    <tr style=\"text-align: right;\">\n",
              "      <th></th>\n",
              "      <th>Age</th>\n",
              "      <th>EmployeeID</th>\n",
              "      <th>TotalWorkingYears</th>\n",
              "      <th>YearsAtCompany</th>\n",
              "    </tr>\n",
              "  </thead>\n",
              "  <tbody>\n",
              "    <tr>\n",
              "      <th>0</th>\n",
              "      <td>51</td>\n",
              "      <td>1</td>\n",
              "      <td>1.0</td>\n",
              "      <td>1</td>\n",
              "    </tr>\n",
              "    <tr>\n",
              "      <th>1</th>\n",
              "      <td>31</td>\n",
              "      <td>2</td>\n",
              "      <td>6.0</td>\n",
              "      <td>5</td>\n",
              "    </tr>\n",
              "    <tr>\n",
              "      <th>2</th>\n",
              "      <td>32</td>\n",
              "      <td>3</td>\n",
              "      <td>5.0</td>\n",
              "      <td>5</td>\n",
              "    </tr>\n",
              "    <tr>\n",
              "      <th>3</th>\n",
              "      <td>38</td>\n",
              "      <td>4</td>\n",
              "      <td>13.0</td>\n",
              "      <td>8</td>\n",
              "    </tr>\n",
              "    <tr>\n",
              "      <th>4</th>\n",
              "      <td>32</td>\n",
              "      <td>5</td>\n",
              "      <td>9.0</td>\n",
              "      <td>6</td>\n",
              "    </tr>\n",
              "    <tr>\n",
              "      <th>...</th>\n",
              "      <td>...</td>\n",
              "      <td>...</td>\n",
              "      <td>...</td>\n",
              "      <td>...</td>\n",
              "    </tr>\n",
              "    <tr>\n",
              "      <th>4405</th>\n",
              "      <td>42</td>\n",
              "      <td>4406</td>\n",
              "      <td>10.0</td>\n",
              "      <td>3</td>\n",
              "    </tr>\n",
              "    <tr>\n",
              "      <th>4406</th>\n",
              "      <td>29</td>\n",
              "      <td>4407</td>\n",
              "      <td>10.0</td>\n",
              "      <td>3</td>\n",
              "    </tr>\n",
              "    <tr>\n",
              "      <th>4407</th>\n",
              "      <td>25</td>\n",
              "      <td>4408</td>\n",
              "      <td>5.0</td>\n",
              "      <td>4</td>\n",
              "    </tr>\n",
              "    <tr>\n",
              "      <th>4408</th>\n",
              "      <td>42</td>\n",
              "      <td>4409</td>\n",
              "      <td>10.0</td>\n",
              "      <td>9</td>\n",
              "    </tr>\n",
              "    <tr>\n",
              "      <th>4409</th>\n",
              "      <td>40</td>\n",
              "      <td>4410</td>\n",
              "      <td>10.0</td>\n",
              "      <td>21</td>\n",
              "    </tr>\n",
              "  </tbody>\n",
              "</table>\n",
              "<p>4410 rows × 4 columns</p>\n",
              "</div>"
            ],
            "text/plain": [
              "      Age  EmployeeID  TotalWorkingYears  YearsAtCompany\n",
              "0      51           1                1.0               1\n",
              "1      31           2                6.0               5\n",
              "2      32           3                5.0               5\n",
              "3      38           4               13.0               8\n",
              "4      32           5                9.0               6\n",
              "...   ...         ...                ...             ...\n",
              "4405   42        4406               10.0               3\n",
              "4406   29        4407               10.0               3\n",
              "4407   25        4408                5.0               4\n",
              "4408   42        4409               10.0               9\n",
              "4409   40        4410               10.0              21\n",
              "\n",
              "[4410 rows x 4 columns]"
            ]
          },
          "metadata": {
            "tags": []
          },
          "execution_count": 143
        }
      ]
    },
    {
      "cell_type": "code",
      "metadata": {
        "id": "sAhO8EnyWQZH",
        "colab_type": "code",
        "colab": {
          "base_uri": "https://localhost:8080/",
          "height": 52
        },
        "outputId": "0e612e0c-727e-4204-cb4e-32cf9b4a6f39"
      },
      "source": [
        "print(x.shape)\n",
        "print(y.shape)"
      ],
      "execution_count": null,
      "outputs": [
        {
          "output_type": "stream",
          "text": [
            "(4410, 4)\n",
            "(4410, 1)\n"
          ],
          "name": "stdout"
        }
      ]
    },
    {
      "cell_type": "code",
      "metadata": {
        "id": "uyKV1QQqWYKn",
        "colab_type": "code",
        "colab": {}
      },
      "source": [
        "from sklearn.model_selection import train_test_split\n",
        "x_train, x_test, y_train, y_test=train_test_split(x, y, test_size=0.4, random_state=0)"
      ],
      "execution_count": null,
      "outputs": []
    },
    {
      "cell_type": "code",
      "metadata": {
        "id": "vMOaXGccXHvr",
        "colab_type": "code",
        "colab": {
          "base_uri": "https://localhost:8080/",
          "height": 34
        },
        "outputId": "2bb3d5de-553d-4c57-e608-340f73807530"
      },
      "source": [
        "from sklearn.linear_model import LinearRegression\n",
        "lr=LinearRegression()\n",
        "lr.fit(x_train, y_train)"
      ],
      "execution_count": null,
      "outputs": [
        {
          "output_type": "execute_result",
          "data": {
            "text/plain": [
              "LinearRegression(copy_X=True, fit_intercept=True, n_jobs=None, normalize=False)"
            ]
          },
          "metadata": {
            "tags": []
          },
          "execution_count": 146
        }
      ]
    },
    {
      "cell_type": "code",
      "metadata": {
        "id": "dbIDbYpKk9_v",
        "colab_type": "code",
        "colab": {
          "base_uri": "https://localhost:8080/",
          "height": 141
        },
        "outputId": "87f9d8a6-732b-4cc2-d43d-d211ca011625"
      },
      "source": [
        "y_pred=lr.predict(x_test)\n",
        "print(y_pred)"
      ],
      "execution_count": null,
      "outputs": [
        {
          "output_type": "stream",
          "text": [
            "[[66931.03359041]\n",
            " [65649.49737882]\n",
            " [60142.46853539]\n",
            " ...\n",
            " [64644.29741292]\n",
            " [61644.27037152]\n",
            " [57874.38972563]]\n"
          ],
          "name": "stdout"
        }
      ]
    },
    {
      "cell_type": "code",
      "metadata": {
        "id": "LCoOoDl2msRF",
        "colab_type": "code",
        "colab": {
          "base_uri": "https://localhost:8080/",
          "height": 70
        },
        "outputId": "73e29c30-4e64-4f90-937a-3615f00c3d30"
      },
      "source": [
        "from sklearn.metrics import mean_squared_error, r2_score\n",
        "import numpy as np\n",
        "RMSE=np.sqrt(mean_squared_error(y_test, y_pred))\n",
        "print('RMSE =', RMSE)\n",
        "print('mean_squared_error =' , mean_squared_error(y_test, y_pred))\n",
        "print('r2_score =', r2_score(y_test, y_pred))"
      ],
      "execution_count": 163,
      "outputs": [
        {
          "output_type": "stream",
          "text": [
            "RMSE = 48307.91976457547\n",
            "mean_squared_error = 2333655111.9806614\n",
            "r2_score = -0.0037209153477637535\n"
          ],
          "name": "stdout"
        }
      ]
    },
    {
      "cell_type": "code",
      "metadata": {
        "id": "eZpWc7g7o6Pn",
        "colab_type": "code",
        "colab": {
          "base_uri": "https://localhost:8080/",
          "height": 34
        },
        "outputId": "67e47eb7-b355-4578-c741-dd015fde9907"
      },
      "source": [
        "unseen_pred=lr.predict([[30, 5, 10, 5]])\n",
        "print(unseen_pred)"
      ],
      "execution_count": 165,
      "outputs": [
        {
          "output_type": "stream",
          "text": [
            "[[64672.06706383]]\n"
          ],
          "name": "stdout"
        }
      ]
    }
  ]
}