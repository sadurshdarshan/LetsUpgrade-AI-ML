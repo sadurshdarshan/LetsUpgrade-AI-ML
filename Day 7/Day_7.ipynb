{
  "nbformat": 4,
  "nbformat_minor": 0,
  "metadata": {
    "colab": {
      "name": "Day 7.ipynb",
      "provenance": [],
      "collapsed_sections": []
    },
    "kernelspec": {
      "name": "python3",
      "display_name": "Python 3"
    }
  },
  "cells": [
    {
      "cell_type": "code",
      "metadata": {
        "id": "J6nITDKVXw-t",
        "colab_type": "code",
        "colab": {}
      },
      "source": [
        "import numpy as np\n",
        "import pandas as pd\n",
        "import matplotlib.pyplot as plt "
      ],
      "execution_count": null,
      "outputs": []
    },
    {
      "cell_type": "code",
      "metadata": {
        "id": "yCcWz1qvYKfH",
        "colab_type": "code",
        "colab": {
          "base_uri": "https://localhost:8080/",
          "height": 255
        },
        "outputId": "4adb5eae-dfd7-4ac6-9c2d-0fc6e4a3ea63"
      },
      "source": [
        "dataset=pd.read_excel(\"3. Descriptive Statistics.xlsx\",sheet_name=0)\n",
        "print(dataset)"
      ],
      "execution_count": null,
      "outputs": [
        {
          "output_type": "stream",
          "text": [
            "      ID Gender           Birth Date  ...  Job Time  Prev Exep  Minority\n",
            "0      3      f           07/26/1929  ...        98        381         0\n",
            "1      4      f           04/15/1947  ...        98        190         0\n",
            "2      8      f  1966-06-05 00:00:00  ...        98          0         0\n",
            "3      9      f           01/23/1946  ...        98        115         0\n",
            "4     10      f           02/13/1946  ...        98        244         0\n",
            "..   ...    ...                  ...  ...       ...        ...       ...\n",
            "469  464      m           03/20/1962  ...        64         27         0\n",
            "470  465      m           07/20/1962  ...        64        106         0\n",
            "471  470      m           01/22/1964  ...        64         69         1\n",
            "472  471      m  1966-03-08 00:00:00  ...        64         32         1\n",
            "473  472      m           02/21/1966  ...        63         46         0\n",
            "\n",
            "[474 rows x 11 columns]\n"
          ],
          "name": "stdout"
        }
      ]
    },
    {
      "cell_type": "code",
      "metadata": {
        "id": "LXpjCxhBaQHQ",
        "colab_type": "code",
        "colab": {
          "base_uri": "https://localhost:8080/",
          "height": 255
        },
        "outputId": "b5755aa6-83fa-4f60-86ba-7076e95473db"
      },
      "source": [
        "dataset_1=pd.read_excel(\"3. Descriptive Statistics.xlsx\",sheet_name=\"DescriptiveStatistics1\")\n",
        "print(dataset_1)"
      ],
      "execution_count": null,
      "outputs": [
        {
          "output_type": "stream",
          "text": [
            "      ID Gender           Birth Date  ...  Job Time  Prev Exep  Minority\n",
            "0      3      f           07/26/1929  ...        98        381         0\n",
            "1      4      f           04/15/1947  ...        98        190         0\n",
            "2      8      f  1966-06-05 00:00:00  ...        98          0         0\n",
            "3      9      f           01/23/1946  ...        98        115         0\n",
            "4     10      f           02/13/1946  ...        98        244         0\n",
            "..   ...    ...                  ...  ...       ...        ...       ...\n",
            "469  464      m           03/20/1962  ...        64         27         0\n",
            "470  465      m           07/20/1962  ...        64        106         0\n",
            "471  470      m           01/22/1964  ...        64         69         1\n",
            "472  471      m  1966-03-08 00:00:00  ...        64         32         1\n",
            "473  472      m           02/21/1966  ...        63         46         0\n",
            "\n",
            "[474 rows x 11 columns]\n"
          ],
          "name": "stdout"
        }
      ]
    },
    {
      "cell_type": "code",
      "metadata": {
        "id": "ryomI7S3c3fI",
        "colab_type": "code",
        "colab": {
          "base_uri": "https://localhost:8080/",
          "height": 238
        },
        "outputId": "e03aed28-eb52-4747-d345-5282cc4a6a57"
      },
      "source": [
        "dataset.head()"
      ],
      "execution_count": null,
      "outputs": [
        {
          "output_type": "execute_result",
          "data": {
            "text/html": [
              "<div>\n",
              "<style scoped>\n",
              "    .dataframe tbody tr th:only-of-type {\n",
              "        vertical-align: middle;\n",
              "    }\n",
              "\n",
              "    .dataframe tbody tr th {\n",
              "        vertical-align: top;\n",
              "    }\n",
              "\n",
              "    .dataframe thead th {\n",
              "        text-align: right;\n",
              "    }\n",
              "</style>\n",
              "<table border=\"1\" class=\"dataframe\">\n",
              "  <thead>\n",
              "    <tr style=\"text-align: right;\">\n",
              "      <th></th>\n",
              "      <th>ID</th>\n",
              "      <th>Gender</th>\n",
              "      <th>Birth Date</th>\n",
              "      <th>Education</th>\n",
              "      <th>JobCategory</th>\n",
              "      <th>CurrentSalary</th>\n",
              "      <th>After6Months</th>\n",
              "      <th>SalBegin</th>\n",
              "      <th>Job Time</th>\n",
              "      <th>Prev Exep</th>\n",
              "      <th>Minority</th>\n",
              "    </tr>\n",
              "  </thead>\n",
              "  <tbody>\n",
              "    <tr>\n",
              "      <th>0</th>\n",
              "      <td>3</td>\n",
              "      <td>f</td>\n",
              "      <td>07/26/1929</td>\n",
              "      <td>12</td>\n",
              "      <td>1</td>\n",
              "      <td>21450</td>\n",
              "      <td>16725.0</td>\n",
              "      <td>12000</td>\n",
              "      <td>98</td>\n",
              "      <td>381</td>\n",
              "      <td>0</td>\n",
              "    </tr>\n",
              "    <tr>\n",
              "      <th>1</th>\n",
              "      <td>4</td>\n",
              "      <td>f</td>\n",
              "      <td>04/15/1947</td>\n",
              "      <td>8</td>\n",
              "      <td>1</td>\n",
              "      <td>21900</td>\n",
              "      <td>17550.0</td>\n",
              "      <td>13200</td>\n",
              "      <td>98</td>\n",
              "      <td>190</td>\n",
              "      <td>0</td>\n",
              "    </tr>\n",
              "    <tr>\n",
              "      <th>2</th>\n",
              "      <td>8</td>\n",
              "      <td>f</td>\n",
              "      <td>1966-06-05 00:00:00</td>\n",
              "      <td>12</td>\n",
              "      <td>1</td>\n",
              "      <td>21900</td>\n",
              "      <td>15825.0</td>\n",
              "      <td>9750</td>\n",
              "      <td>98</td>\n",
              "      <td>0</td>\n",
              "      <td>0</td>\n",
              "    </tr>\n",
              "    <tr>\n",
              "      <th>3</th>\n",
              "      <td>9</td>\n",
              "      <td>f</td>\n",
              "      <td>01/23/1946</td>\n",
              "      <td>15</td>\n",
              "      <td>1</td>\n",
              "      <td>27900</td>\n",
              "      <td>20325.0</td>\n",
              "      <td>12750</td>\n",
              "      <td>98</td>\n",
              "      <td>115</td>\n",
              "      <td>0</td>\n",
              "    </tr>\n",
              "    <tr>\n",
              "      <th>4</th>\n",
              "      <td>10</td>\n",
              "      <td>f</td>\n",
              "      <td>02/13/1946</td>\n",
              "      <td>12</td>\n",
              "      <td>1</td>\n",
              "      <td>24000</td>\n",
              "      <td>18750.0</td>\n",
              "      <td>13500</td>\n",
              "      <td>98</td>\n",
              "      <td>244</td>\n",
              "      <td>0</td>\n",
              "    </tr>\n",
              "  </tbody>\n",
              "</table>\n",
              "</div>"
            ],
            "text/plain": [
              "   ID Gender           Birth Date  ...  Job Time  Prev Exep  Minority\n",
              "0   3      f           07/26/1929  ...        98        381         0\n",
              "1   4      f           04/15/1947  ...        98        190         0\n",
              "2   8      f  1966-06-05 00:00:00  ...        98          0         0\n",
              "3   9      f           01/23/1946  ...        98        115         0\n",
              "4  10      f           02/13/1946  ...        98        244         0\n",
              "\n",
              "[5 rows x 11 columns]"
            ]
          },
          "metadata": {
            "tags": []
          },
          "execution_count": 61
        }
      ]
    },
    {
      "cell_type": "code",
      "metadata": {
        "id": "Yr0_4dG5dgFG",
        "colab_type": "code",
        "colab": {
          "base_uri": "https://localhost:8080/",
          "height": 410
        },
        "outputId": "4e9cfd16-ed8f-4dad-f81d-ab1625e4fecb"
      },
      "source": [
        "dataset_1.head(10)"
      ],
      "execution_count": null,
      "outputs": [
        {
          "output_type": "execute_result",
          "data": {
            "text/html": [
              "<div>\n",
              "<style scoped>\n",
              "    .dataframe tbody tr th:only-of-type {\n",
              "        vertical-align: middle;\n",
              "    }\n",
              "\n",
              "    .dataframe tbody tr th {\n",
              "        vertical-align: top;\n",
              "    }\n",
              "\n",
              "    .dataframe thead th {\n",
              "        text-align: right;\n",
              "    }\n",
              "</style>\n",
              "<table border=\"1\" class=\"dataframe\">\n",
              "  <thead>\n",
              "    <tr style=\"text-align: right;\">\n",
              "      <th></th>\n",
              "      <th>ID</th>\n",
              "      <th>Gender</th>\n",
              "      <th>Birth Date</th>\n",
              "      <th>Education</th>\n",
              "      <th>JobCategory</th>\n",
              "      <th>CurrentSalary</th>\n",
              "      <th>After6Months</th>\n",
              "      <th>SalBegin</th>\n",
              "      <th>Job Time</th>\n",
              "      <th>Prev Exep</th>\n",
              "      <th>Minority</th>\n",
              "    </tr>\n",
              "  </thead>\n",
              "  <tbody>\n",
              "    <tr>\n",
              "      <th>0</th>\n",
              "      <td>3</td>\n",
              "      <td>f</td>\n",
              "      <td>07/26/1929</td>\n",
              "      <td>12</td>\n",
              "      <td>1</td>\n",
              "      <td>21450</td>\n",
              "      <td>16725.0</td>\n",
              "      <td>12000</td>\n",
              "      <td>98</td>\n",
              "      <td>381</td>\n",
              "      <td>0</td>\n",
              "    </tr>\n",
              "    <tr>\n",
              "      <th>1</th>\n",
              "      <td>4</td>\n",
              "      <td>f</td>\n",
              "      <td>04/15/1947</td>\n",
              "      <td>8</td>\n",
              "      <td>1</td>\n",
              "      <td>21900</td>\n",
              "      <td>17550.0</td>\n",
              "      <td>13200</td>\n",
              "      <td>98</td>\n",
              "      <td>190</td>\n",
              "      <td>0</td>\n",
              "    </tr>\n",
              "    <tr>\n",
              "      <th>2</th>\n",
              "      <td>8</td>\n",
              "      <td>f</td>\n",
              "      <td>1966-06-05 00:00:00</td>\n",
              "      <td>12</td>\n",
              "      <td>1</td>\n",
              "      <td>21900</td>\n",
              "      <td>15825.0</td>\n",
              "      <td>9750</td>\n",
              "      <td>98</td>\n",
              "      <td>0</td>\n",
              "      <td>0</td>\n",
              "    </tr>\n",
              "    <tr>\n",
              "      <th>3</th>\n",
              "      <td>9</td>\n",
              "      <td>f</td>\n",
              "      <td>01/23/1946</td>\n",
              "      <td>15</td>\n",
              "      <td>1</td>\n",
              "      <td>27900</td>\n",
              "      <td>20325.0</td>\n",
              "      <td>12750</td>\n",
              "      <td>98</td>\n",
              "      <td>115</td>\n",
              "      <td>0</td>\n",
              "    </tr>\n",
              "    <tr>\n",
              "      <th>4</th>\n",
              "      <td>10</td>\n",
              "      <td>f</td>\n",
              "      <td>02/13/1946</td>\n",
              "      <td>12</td>\n",
              "      <td>1</td>\n",
              "      <td>24000</td>\n",
              "      <td>18750.0</td>\n",
              "      <td>13500</td>\n",
              "      <td>98</td>\n",
              "      <td>244</td>\n",
              "      <td>0</td>\n",
              "    </tr>\n",
              "    <tr>\n",
              "      <th>5</th>\n",
              "      <td>11</td>\n",
              "      <td>f</td>\n",
              "      <td>1950-07-02 00:00:00</td>\n",
              "      <td>16</td>\n",
              "      <td>1</td>\n",
              "      <td>30300</td>\n",
              "      <td>23400.0</td>\n",
              "      <td>16500</td>\n",
              "      <td>98</td>\n",
              "      <td>143</td>\n",
              "      <td>0</td>\n",
              "    </tr>\n",
              "    <tr>\n",
              "      <th>6</th>\n",
              "      <td>14</td>\n",
              "      <td>f</td>\n",
              "      <td>02/26/1949</td>\n",
              "      <td>15</td>\n",
              "      <td>1</td>\n",
              "      <td>35100</td>\n",
              "      <td>25950.0</td>\n",
              "      <td>16800</td>\n",
              "      <td>98</td>\n",
              "      <td>137</td>\n",
              "      <td>1</td>\n",
              "    </tr>\n",
              "    <tr>\n",
              "      <th>7</th>\n",
              "      <td>20</td>\n",
              "      <td>f</td>\n",
              "      <td>01/23/1940</td>\n",
              "      <td>12</td>\n",
              "      <td>1</td>\n",
              "      <td>26250</td>\n",
              "      <td>18900.0</td>\n",
              "      <td>11550</td>\n",
              "      <td>97</td>\n",
              "      <td>48</td>\n",
              "      <td>0</td>\n",
              "    </tr>\n",
              "    <tr>\n",
              "      <th>8</th>\n",
              "      <td>21</td>\n",
              "      <td>f</td>\n",
              "      <td>02/19/1963</td>\n",
              "      <td>16</td>\n",
              "      <td>1</td>\n",
              "      <td>38850</td>\n",
              "      <td>26925.0</td>\n",
              "      <td>15000</td>\n",
              "      <td>97</td>\n",
              "      <td>17</td>\n",
              "      <td>0</td>\n",
              "    </tr>\n",
              "    <tr>\n",
              "      <th>9</th>\n",
              "      <td>23</td>\n",
              "      <td>f</td>\n",
              "      <td>03/15/1965</td>\n",
              "      <td>15</td>\n",
              "      <td>1</td>\n",
              "      <td>24000</td>\n",
              "      <td>17550.0</td>\n",
              "      <td>11100</td>\n",
              "      <td>97</td>\n",
              "      <td>75</td>\n",
              "      <td>1</td>\n",
              "    </tr>\n",
              "  </tbody>\n",
              "</table>\n",
              "</div>"
            ],
            "text/plain": [
              "   ID Gender           Birth Date  ...  Job Time  Prev Exep  Minority\n",
              "0   3      f           07/26/1929  ...        98        381         0\n",
              "1   4      f           04/15/1947  ...        98        190         0\n",
              "2   8      f  1966-06-05 00:00:00  ...        98          0         0\n",
              "3   9      f           01/23/1946  ...        98        115         0\n",
              "4  10      f           02/13/1946  ...        98        244         0\n",
              "5  11      f  1950-07-02 00:00:00  ...        98        143         0\n",
              "6  14      f           02/26/1949  ...        98        137         1\n",
              "7  20      f           01/23/1940  ...        97         48         0\n",
              "8  21      f           02/19/1963  ...        97         17         0\n",
              "9  23      f           03/15/1965  ...        97         75         1\n",
              "\n",
              "[10 rows x 11 columns]"
            ]
          },
          "metadata": {
            "tags": []
          },
          "execution_count": 62
        }
      ]
    },
    {
      "cell_type": "code",
      "metadata": {
        "id": "xnQeH7rrdttZ",
        "colab_type": "code",
        "colab": {
          "base_uri": "https://localhost:8080/",
          "height": 238
        },
        "outputId": "1075b060-a7c6-4f35-ded7-b26e809d6b61"
      },
      "source": [
        "dataset_1.tail()"
      ],
      "execution_count": null,
      "outputs": [
        {
          "output_type": "execute_result",
          "data": {
            "text/html": [
              "<div>\n",
              "<style scoped>\n",
              "    .dataframe tbody tr th:only-of-type {\n",
              "        vertical-align: middle;\n",
              "    }\n",
              "\n",
              "    .dataframe tbody tr th {\n",
              "        vertical-align: top;\n",
              "    }\n",
              "\n",
              "    .dataframe thead th {\n",
              "        text-align: right;\n",
              "    }\n",
              "</style>\n",
              "<table border=\"1\" class=\"dataframe\">\n",
              "  <thead>\n",
              "    <tr style=\"text-align: right;\">\n",
              "      <th></th>\n",
              "      <th>ID</th>\n",
              "      <th>Gender</th>\n",
              "      <th>Birth Date</th>\n",
              "      <th>Education</th>\n",
              "      <th>JobCategory</th>\n",
              "      <th>CurrentSalary</th>\n",
              "      <th>After6Months</th>\n",
              "      <th>SalBegin</th>\n",
              "      <th>Job Time</th>\n",
              "      <th>Prev Exep</th>\n",
              "      <th>Minority</th>\n",
              "    </tr>\n",
              "  </thead>\n",
              "  <tbody>\n",
              "    <tr>\n",
              "      <th>469</th>\n",
              "      <td>464</td>\n",
              "      <td>m</td>\n",
              "      <td>03/20/1962</td>\n",
              "      <td>19</td>\n",
              "      <td>3</td>\n",
              "      <td>47550</td>\n",
              "      <td>40275.0</td>\n",
              "      <td>33000</td>\n",
              "      <td>64</td>\n",
              "      <td>27</td>\n",
              "      <td>0</td>\n",
              "    </tr>\n",
              "    <tr>\n",
              "      <th>470</th>\n",
              "      <td>465</td>\n",
              "      <td>m</td>\n",
              "      <td>07/20/1962</td>\n",
              "      <td>12</td>\n",
              "      <td>1</td>\n",
              "      <td>33900</td>\n",
              "      <td>25200.0</td>\n",
              "      <td>16500</td>\n",
              "      <td>64</td>\n",
              "      <td>106</td>\n",
              "      <td>0</td>\n",
              "    </tr>\n",
              "    <tr>\n",
              "      <th>471</th>\n",
              "      <td>470</td>\n",
              "      <td>m</td>\n",
              "      <td>01/22/1964</td>\n",
              "      <td>12</td>\n",
              "      <td>1</td>\n",
              "      <td>26250</td>\n",
              "      <td>21000.0</td>\n",
              "      <td>15750</td>\n",
              "      <td>64</td>\n",
              "      <td>69</td>\n",
              "      <td>1</td>\n",
              "    </tr>\n",
              "    <tr>\n",
              "      <th>472</th>\n",
              "      <td>471</td>\n",
              "      <td>m</td>\n",
              "      <td>1966-03-08 00:00:00</td>\n",
              "      <td>15</td>\n",
              "      <td>1</td>\n",
              "      <td>26400</td>\n",
              "      <td>21075.0</td>\n",
              "      <td>15750</td>\n",
              "      <td>64</td>\n",
              "      <td>32</td>\n",
              "      <td>1</td>\n",
              "    </tr>\n",
              "    <tr>\n",
              "      <th>473</th>\n",
              "      <td>472</td>\n",
              "      <td>m</td>\n",
              "      <td>02/21/1966</td>\n",
              "      <td>15</td>\n",
              "      <td>1</td>\n",
              "      <td>39150</td>\n",
              "      <td>27450.0</td>\n",
              "      <td>15750</td>\n",
              "      <td>63</td>\n",
              "      <td>46</td>\n",
              "      <td>0</td>\n",
              "    </tr>\n",
              "  </tbody>\n",
              "</table>\n",
              "</div>"
            ],
            "text/plain": [
              "      ID Gender           Birth Date  ...  Job Time  Prev Exep  Minority\n",
              "469  464      m           03/20/1962  ...        64         27         0\n",
              "470  465      m           07/20/1962  ...        64        106         0\n",
              "471  470      m           01/22/1964  ...        64         69         1\n",
              "472  471      m  1966-03-08 00:00:00  ...        64         32         1\n",
              "473  472      m           02/21/1966  ...        63         46         0\n",
              "\n",
              "[5 rows x 11 columns]"
            ]
          },
          "metadata": {
            "tags": []
          },
          "execution_count": 63
        }
      ]
    },
    {
      "cell_type": "code",
      "metadata": {
        "id": "BH_51my2eZMf",
        "colab_type": "code",
        "colab": {
          "base_uri": "https://localhost:8080/",
          "height": 85
        },
        "outputId": "3bbf7f5a-a75a-451c-8841-9fe85c3d8213"
      },
      "source": [
        "dataset_1.columns"
      ],
      "execution_count": null,
      "outputs": [
        {
          "output_type": "execute_result",
          "data": {
            "text/plain": [
              "Index(['ID', 'Gender', 'Birth Date', 'Education', 'JobCategory',\n",
              "       'CurrentSalary', 'After6Months', 'SalBegin', 'Job Time', 'Prev Exep',\n",
              "       'Minority'],\n",
              "      dtype='object')"
            ]
          },
          "metadata": {
            "tags": []
          },
          "execution_count": 64
        }
      ]
    },
    {
      "cell_type": "code",
      "metadata": {
        "id": "KWmil9yReeqY",
        "colab_type": "code",
        "colab": {
          "base_uri": "https://localhost:8080/",
          "height": 323
        },
        "outputId": "791be10c-0b0f-46b6-db6e-659c90f7c929"
      },
      "source": [
        "dataset_1.info()"
      ],
      "execution_count": null,
      "outputs": [
        {
          "output_type": "stream",
          "text": [
            "<class 'pandas.core.frame.DataFrame'>\n",
            "RangeIndex: 474 entries, 0 to 473\n",
            "Data columns (total 11 columns):\n",
            " #   Column         Non-Null Count  Dtype  \n",
            "---  ------         --------------  -----  \n",
            " 0   ID             474 non-null    int64  \n",
            " 1   Gender         474 non-null    object \n",
            " 2   Birth Date     473 non-null    object \n",
            " 3   Education      474 non-null    int64  \n",
            " 4   JobCategory    474 non-null    int64  \n",
            " 5   CurrentSalary  474 non-null    int64  \n",
            " 6   After6Months   474 non-null    float64\n",
            " 7   SalBegin       474 non-null    int64  \n",
            " 8   Job Time       474 non-null    int64  \n",
            " 9   Prev Exep      474 non-null    int64  \n",
            " 10  Minority       474 non-null    int64  \n",
            "dtypes: float64(1), int64(8), object(2)\n",
            "memory usage: 40.9+ KB\n"
          ],
          "name": "stdout"
        }
      ]
    },
    {
      "cell_type": "code",
      "metadata": {
        "id": "7TufOF0YeqTv",
        "colab_type": "code",
        "colab": {
          "base_uri": "https://localhost:8080/",
          "height": 34
        },
        "outputId": "835b3afb-1582-4c40-8363-02f5a19c1b22"
      },
      "source": [
        "dataset_1[\"CurrentSalary\"].mean()"
      ],
      "execution_count": null,
      "outputs": [
        {
          "output_type": "execute_result",
          "data": {
            "text/plain": [
              "34419.56751054852"
            ]
          },
          "metadata": {
            "tags": []
          },
          "execution_count": 66
        }
      ]
    },
    {
      "cell_type": "code",
      "metadata": {
        "id": "nMqnbp_6gCgl",
        "colab_type": "code",
        "colab": {
          "base_uri": "https://localhost:8080/",
          "height": 85
        },
        "outputId": "8d350e25-5879-45f3-c4d9-f4668086a82c"
      },
      "source": [
        "dataset_1[[\"CurrentSalary\",\"After6Months\",\"SalBegin\"]].mean()"
      ],
      "execution_count": null,
      "outputs": [
        {
          "output_type": "execute_result",
          "data": {
            "text/plain": [
              "CurrentSalary    34419.567511\n",
              "After6Months     25717.827004\n",
              "SalBegin         17016.086498\n",
              "dtype: float64"
            ]
          },
          "metadata": {
            "tags": []
          },
          "execution_count": 67
        }
      ]
    },
    {
      "cell_type": "code",
      "metadata": {
        "id": "JgH5VnNLhs62",
        "colab_type": "code",
        "colab": {
          "base_uri": "https://localhost:8080/",
          "height": 85
        },
        "outputId": "467876e1-7293-4a92-c8d1-3121b8b94097"
      },
      "source": [
        "dataset_1[[\"CurrentSalary\",\"After6Months\",\"SalBegin\"]].var()"
      ],
      "execution_count": null,
      "outputs": [
        {
          "output_type": "execute_result",
          "data": {
            "text/plain": [
              "CurrentSalary    2.915782e+08\n",
              "After6Months     1.475236e+08\n",
              "SalBegin         6.194694e+07\n",
              "dtype: float64"
            ]
          },
          "metadata": {
            "tags": []
          },
          "execution_count": 68
        }
      ]
    },
    {
      "cell_type": "code",
      "metadata": {
        "id": "sEdr0-gVhxSS",
        "colab_type": "code",
        "colab": {
          "base_uri": "https://localhost:8080/",
          "height": 85
        },
        "outputId": "c4a292ad-a992-4bb5-90c3-9eb78aa0bffc"
      },
      "source": [
        "dataset_1[[\"CurrentSalary\",\"After6Months\",\"SalBegin\"]].std()"
      ],
      "execution_count": null,
      "outputs": [
        {
          "output_type": "execute_result",
          "data": {
            "text/plain": [
              "CurrentSalary    17075.661465\n",
              "After6Months     12145.928474\n",
              "SalBegin          7870.638154\n",
              "dtype: float64"
            ]
          },
          "metadata": {
            "tags": []
          },
          "execution_count": 69
        }
      ]
    },
    {
      "cell_type": "code",
      "metadata": {
        "id": "l-xffCHDiDmS",
        "colab_type": "code",
        "colab": {
          "base_uri": "https://localhost:8080/",
          "height": 297
        },
        "outputId": "d3b595dd-8a1a-4052-d744-18998c7f86bb"
      },
      "source": [
        "dataset_1[[\"CurrentSalary\",\"After6Months\",\"SalBegin\"]].describe()"
      ],
      "execution_count": null,
      "outputs": [
        {
          "output_type": "execute_result",
          "data": {
            "text/html": [
              "<div>\n",
              "<style scoped>\n",
              "    .dataframe tbody tr th:only-of-type {\n",
              "        vertical-align: middle;\n",
              "    }\n",
              "\n",
              "    .dataframe tbody tr th {\n",
              "        vertical-align: top;\n",
              "    }\n",
              "\n",
              "    .dataframe thead th {\n",
              "        text-align: right;\n",
              "    }\n",
              "</style>\n",
              "<table border=\"1\" class=\"dataframe\">\n",
              "  <thead>\n",
              "    <tr style=\"text-align: right;\">\n",
              "      <th></th>\n",
              "      <th>CurrentSalary</th>\n",
              "      <th>After6Months</th>\n",
              "      <th>SalBegin</th>\n",
              "    </tr>\n",
              "  </thead>\n",
              "  <tbody>\n",
              "    <tr>\n",
              "      <th>count</th>\n",
              "      <td>474.000000</td>\n",
              "      <td>474.000000</td>\n",
              "      <td>474.000000</td>\n",
              "    </tr>\n",
              "    <tr>\n",
              "      <th>mean</th>\n",
              "      <td>34419.567511</td>\n",
              "      <td>25717.827004</td>\n",
              "      <td>17016.086498</td>\n",
              "    </tr>\n",
              "    <tr>\n",
              "      <th>std</th>\n",
              "      <td>17075.661465</td>\n",
              "      <td>12145.928474</td>\n",
              "      <td>7870.638154</td>\n",
              "    </tr>\n",
              "    <tr>\n",
              "      <th>min</th>\n",
              "      <td>15750.000000</td>\n",
              "      <td>12975.000000</td>\n",
              "      <td>9000.000000</td>\n",
              "    </tr>\n",
              "    <tr>\n",
              "      <th>25%</th>\n",
              "      <td>24000.000000</td>\n",
              "      <td>18468.750000</td>\n",
              "      <td>12487.500000</td>\n",
              "    </tr>\n",
              "    <tr>\n",
              "      <th>50%</th>\n",
              "      <td>28875.000000</td>\n",
              "      <td>21900.000000</td>\n",
              "      <td>15000.000000</td>\n",
              "    </tr>\n",
              "    <tr>\n",
              "      <th>75%</th>\n",
              "      <td>36937.500000</td>\n",
              "      <td>27262.500000</td>\n",
              "      <td>17490.000000</td>\n",
              "    </tr>\n",
              "    <tr>\n",
              "      <th>max</th>\n",
              "      <td>135000.000000</td>\n",
              "      <td>107490.000000</td>\n",
              "      <td>79980.000000</td>\n",
              "    </tr>\n",
              "  </tbody>\n",
              "</table>\n",
              "</div>"
            ],
            "text/plain": [
              "       CurrentSalary   After6Months      SalBegin\n",
              "count     474.000000     474.000000    474.000000\n",
              "mean    34419.567511   25717.827004  17016.086498\n",
              "std     17075.661465   12145.928474   7870.638154\n",
              "min     15750.000000   12975.000000   9000.000000\n",
              "25%     24000.000000   18468.750000  12487.500000\n",
              "50%     28875.000000   21900.000000  15000.000000\n",
              "75%     36937.500000   27262.500000  17490.000000\n",
              "max    135000.000000  107490.000000  79980.000000"
            ]
          },
          "metadata": {
            "tags": []
          },
          "execution_count": 70
        }
      ]
    },
    {
      "cell_type": "code",
      "metadata": {
        "id": "afblaJz9iRjZ",
        "colab_type": "code",
        "colab": {
          "base_uri": "https://localhost:8080/",
          "height": 85
        },
        "outputId": "01dc8ab8-eb4b-47df-cfcf-e8f083375c16"
      },
      "source": [
        "dataset_1[[\"CurrentSalary\",\"After6Months\",\"SalBegin\"]].skew()"
      ],
      "execution_count": null,
      "outputs": [
        {
          "output_type": "execute_result",
          "data": {
            "text/plain": [
              "CurrentSalary    2.124606\n",
              "After6Months     2.267649\n",
              "SalBegin         2.852856\n",
              "dtype: float64"
            ]
          },
          "metadata": {
            "tags": []
          },
          "execution_count": 71
        }
      ]
    },
    {
      "cell_type": "code",
      "metadata": {
        "id": "UuJk4SmMiUeT",
        "colab_type": "code",
        "colab": {
          "base_uri": "https://localhost:8080/",
          "height": 85
        },
        "outputId": "2e137579-fc21-4bec-e752-63d314e014e6"
      },
      "source": [
        "dataset_1[[\"CurrentSalary\",\"After6Months\",\"SalBegin\"]].kurt()"
      ],
      "execution_count": null,
      "outputs": [
        {
          "output_type": "execute_result",
          "data": {
            "text/plain": [
              "CurrentSalary     5.377822\n",
              "After6Months      6.823250\n",
              "SalBegin         12.390215\n",
              "dtype: float64"
            ]
          },
          "metadata": {
            "tags": []
          },
          "execution_count": 72
        }
      ]
    },
    {
      "cell_type": "code",
      "metadata": {
        "id": "Fd2zNX7biZ5S",
        "colab_type": "code",
        "colab": {
          "base_uri": "https://localhost:8080/",
          "height": 282
        },
        "outputId": "8b211cdb-dd54-409f-d6ce-4527276b2dd9"
      },
      "source": [
        "plt.scatter(dataset_1[\"CurrentSalary\"],dataset_1[\"After6Months\"])"
      ],
      "execution_count": null,
      "outputs": [
        {
          "output_type": "execute_result",
          "data": {
            "text/plain": [
              "<matplotlib.collections.PathCollection at 0x7faeb700f860>"
            ]
          },
          "metadata": {
            "tags": []
          },
          "execution_count": 74
        },
        {
          "output_type": "display_data",
          "data": {
            "image/png": "[encoded data removed]",
            "text/plain": [
              "<Figure size 432x288 with 1 Axes>"
            ]
          },
          "metadata": {
            "tags": [],
            "needs_background": "light"
          }
        }
      ]
    },
    {
      "cell_type": "code",
      "metadata": {
        "id": "jVCaMocdjJ5D",
        "colab_type": "code",
        "colab": {
          "base_uri": "https://localhost:8080/",
          "height": 333
        },
        "outputId": "cb15036c-ec94-444a-8a54-a21f5e36a7d7"
      },
      "source": [
        "plt.hist(dataset_1[\"CurrentSalary\"])"
      ],
      "execution_count": null,
      "outputs": [
        {
          "output_type": "execute_result",
          "data": {
            "text/plain": [
              "(array([210., 158.,  39.,  28.,  22.,   8.,   4.,   4.,   0.,   1.]),\n",
              " array([ 15750.,  27675.,  39600.,  51525.,  63450.,  75375.,  87300.,\n",
              "         99225., 111150., 123075., 135000.]),\n",
              " <a list of 10 Patch objects>)"
            ]
          },
          "metadata": {
            "tags": []
          },
          "execution_count": 76
        },
        {
          "output_type": "display_data",
          "data": {
            "image/png": "[encoded data removed]",
            "text/plain": [
              "<Figure size 432x288 with 1 Axes>"
            ]
          },
          "metadata": {
            "tags": [],
            "needs_background": "light"
          }
        }
      ]
    },
    {
      "cell_type": "code",
      "metadata": {
        "id": "0J6CvvNnjWNN",
        "colab_type": "code",
        "colab": {
          "base_uri": "https://localhost:8080/",
          "height": 302
        },
        "outputId": "bc190cae-360e-40e6-917e-747707f334f5"
      },
      "source": [
        "plt.boxplot(dataset_1[\"CurrentSalary\"])\n",
        "a=dataset_1[\"CurrentSalary\"].mean()\n",
        "b=dataset_1[\"CurrentSalary\"].median()\n",
        "print(a)\n",
        "print(b)"
      ],
      "execution_count": null,
      "outputs": [
        {
          "output_type": "stream",
          "text": [
            "34419.56751054852\n",
            "28875.0\n"
          ],
          "name": "stdout"
        },
        {
          "output_type": "display_data",
          "data": {
            "image/png": "[encoded data removed]",
            "text/plain": [
              "<Figure size 432x288 with 1 Axes>"
            ]
          },
          "metadata": {
            "tags": [],
            "needs_background": "light"
          }
        }
      ]
    },
    {
      "cell_type": "code",
      "metadata": {
        "id": "VaHe7NbXoLP_",
        "colab_type": "code",
        "colab": {}
      },
      "source": [
        ""
      ],
      "execution_count": null,
      "outputs": []
    }
  ]
}